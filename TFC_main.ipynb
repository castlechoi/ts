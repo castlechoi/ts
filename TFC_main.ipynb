{
  "nbformat": 4,
  "nbformat_minor": 0,
  "metadata": {
    "colab": {
      "provenance": [],
      "mount_file_id": "1M_5d6wfJ5jImct52yBtxl6pRIDfpIdzj",
      "authorship_tag": "ABX9TyN+htDOHtMXcomPdanmy7fk"
    },
    "kernelspec": {
      "name": "python3",
      "display_name": "Python 3"
    },
    "language_info": {
      "name": "python"
    },
    "accelerator": "GPU",
    "gpuClass": "standard"
  },
  "cells": [
    {
      "cell_type": "code",
      "execution_count": null,
      "metadata": {
        "colab": {
          "base_uri": "https://localhost:8080/",
          "height": 35
        },
        "id": "ycXHrGU1uKp2",
        "outputId": "56ca49d8-4b93-4894-dc8d-72459fec4268"
      },
      "outputs": [
        {
          "output_type": "execute_result",
          "data": {
            "text/plain": [
              "'/content'"
            ],
            "application/vnd.google.colaboratory.intrinsic+json": {
              "type": "string"
            }
          },
          "metadata": {},
          "execution_count": 1
        }
      ],
      "source": [
        "pwd"
      ]
    },
    {
      "cell_type": "code",
      "source": [
        "cd drive/MyDrive/Colab Notebooks/TFC-pretraining-main/code/TFC"
      ],
      "metadata": {
        "colab": {
          "base_uri": "https://localhost:8080/"
        },
        "id": "DEoJfLqNuPfR",
        "outputId": "bbfffa32-ba99-494f-d841-be5432f96789"
      },
      "execution_count": null,
      "outputs": [
        {
          "output_type": "stream",
          "name": "stdout",
          "text": [
            "[Errno 2] No such file or directory: 'drive/MyDrive/Colab Notebooks/TFC-pretraining-main/code/TFC'\n",
            "/content/drive/MyDrive/Colab Notebooks/TFC-pretraining-main\n"
          ]
        }
      ]
    },
    {
      "cell_type": "code",
      "source": [
        "ls"
      ],
      "metadata": {
        "colab": {
          "base_uri": "https://localhost:8080/"
        },
        "id": "w1orZCXhu4dF",
        "outputId": "bf9c5a70-5837-4f72-8510-5a2700d749a2"
      },
      "execution_count": null,
      "outputs": [
        {
          "output_type": "stream",
          "name": "stdout",
          "text": [
            "augmentations.py  Data_split.py  loss.py  model.py      readme      utils.py\n",
            "dataloader.py     KNN.py         main.py  \u001b[0m\u001b[01;34m__pycache__\u001b[0m/  trainer.py\n"
          ]
        }
      ]
    },
    {
      "cell_type": "code",
      "source": [
        "\"\"\"Updated implementation for TF-C -- Xiang Zhang, Jan 16, 2023\"\"\"\n",
        "\n",
        "import os\n",
        "import torch\n",
        "import numpy as np\n",
        "from datetime import datetime\n",
        "import argparse\n",
        "from utils import _logger\n",
        "from model import *\n",
        "from dataloader import data_generator\n",
        "from trainer import Trainer\n",
        "\n",
        "\n",
        "\n",
        "\n",
        "# Args selections\n",
        "start_time = datetime.now()\n",
        "parser = argparse.ArgumentParser()\n",
        "######################## Model parameters ########################\n",
        "home_dir = os.getcwd()\n",
        "parser.add_argument('--run_description', default='run1', type=str,\n",
        "                    help='Experiment Description')\n",
        "parser.add_argument('--seed', default=42, type=int, help='seed value')\n",
        "\n",
        "# 1. self_supervised pre_train; 2. finetune (itself contains finetune and test)\n",
        "parser.add_argument('--training_mode', default='fine_tune_test', type=str,\n",
        "                    help='pre_train, fine_tune_test')\n",
        "\n",
        "parser.add_argument('--pretrain_dataset', default='SleepEEG', type=str,\n",
        "                    help='Dataset of choice: SleepEEG, FD_A, HAR, ECG')\n",
        "parser.add_argument('--target_dataset', default='Epilepsy', type=str,\n",
        "                    help='Dataset of choice: Epilepsy, FD_B, Gesture, EMG')\n",
        "\n",
        "parser.add_argument('--logs_save_dir', default='../experiments_logs', type=str,\n",
        "                    help='saving directory')\n",
        "parser.add_argument('--device', default='cuda', type=str,\n",
        "                    help='cpu or cuda')\n",
        "parser.add_argument('--home_path', default=home_dir, type=str,\n",
        "                    help='Project home directory')\n",
        "args, unknown = parser.parse_known_args()\n",
        "\n",
        "with_gpu = torch.cuda.is_available()\n",
        "if with_gpu:\n",
        "    device = torch.device(\"cuda\")\n",
        "else:\n",
        "    device = torch.device(\"cpu\")\n",
        "print('We are using %s now.' %device)\n",
        "\n",
        "pretrain_dataset = args.pretrain_dataset\n",
        "targetdata = args.target_dataset\n",
        "experiment_description = str(pretrain_dataset) + '_2_' + str(targetdata)\n",
        "\n",
        "\n",
        "method = 'TF-C'\n",
        "training_mode = args.training_mode\n",
        "run_description = args.run_description\n",
        "logs_save_dir = args.logs_save_dir\n",
        "os.makedirs(logs_save_dir, exist_ok=True)\n",
        "exec(f'from config_files.{pretrain_dataset}_Configs import Config as Configs')\n",
        "configs = Configs()\n",
        "\n",
        "# # ##### fix random seeds for reproducibility ########\n",
        "SEED = args.seed\n",
        "torch.manual_seed(SEED)\n",
        "torch.backends.cudnn.deterministic = False\n",
        "torch.backends.cudnn.benchmark = False\n",
        "np.random.seed(SEED)\n",
        "#####################################################\n",
        "\n",
        "experiment_log_dir = os.path.join(logs_save_dir, experiment_description, run_description, training_mode + f\"_seed_{SEED}_2layertransformer\")\n",
        "# 'experiments_logs/Exp1/run1/train_linear_seed_0'\n",
        "os.makedirs(experiment_log_dir, exist_ok=True)\n",
        "\n",
        "# loop through domains\n",
        "counter = 0\n",
        "src_counter = 0\n",
        "\n",
        "\n",
        "# Logging\n",
        "log_file_name = os.path.join(experiment_log_dir, f\"logs_{datetime.now().strftime('%d_%m_%Y_%H_%M_%S')}.log\")\n",
        "# 'experiments_logs/Exp1/run1/train_linear_seed_0/logs_14_04_2022_15_13_12.log'\n",
        "logger = _logger(log_file_name)\n",
        "logger.debug(\"=\" * 45)\n",
        "logger.debug(f'Pre-training Dataset: {pretrain_dataset}')\n",
        "logger.debug(f'Target (fine-tuning) Dataset: {targetdata}')\n",
        "logger.debug(f'Method:  {method}')\n",
        "logger.debug(f'Mode:    {training_mode}')\n",
        "logger.debug(\"=\" * 45)\n",
        "\n",
        "# Load datasets\n",
        "sourcedata_path = f\"../../datasets/{pretrain_dataset}\"\n",
        "targetdata_path = f\"../../datasets/{targetdata}\"\n",
        "subset = True  # if subset= true, use a subset for debugging.\n",
        "train_dl, valid_dl, test_dl = data_generator(sourcedata_path, targetdata_path, configs, training_mode, subset = subset)\n",
        "logger.debug(\"Data loaded ...\")\n",
        "\n",
        "# Load Model\n",
        "\"\"\"Here are two models, one basemodel, another is temporal contrastive model\"\"\"\n",
        "TFC_model = TFC(configs).to(device)\n",
        "classifier = target_classifier(configs).to(device)\n",
        "temporal_contr_model = None\n",
        "\n",
        "\n",
        "if training_mode == \"fine_tune_test\":\n",
        "    # load saved model of this experiment\n",
        "    load_from = os.path.join(os.path.join(logs_save_dir, experiment_description, run_description,\n",
        "    f\"pre_train_seed_{SEED}_2layertransformer\", \"saved_models\"))\n",
        "    print(\"The loading file path\", load_from)\n",
        "    chkpoint = torch.load(os.path.join(load_from, \"ckp_last.pt\"), map_location=device)\n",
        "    pretrained_dict = chkpoint[\"model_state_dict\"]\n",
        "    TFC_model.load_state_dict(pretrained_dict)\n",
        "\n",
        "model_optimizer = torch.optim.Adam(TFC_model.parameters(), lr=configs.lr, betas=(configs.beta1, configs.beta2), weight_decay=3e-4)\n",
        "classifier_optimizer = torch.optim.Adam(classifier.parameters(), lr=configs.lr, betas=(configs.beta1, configs.beta2), weight_decay=3e-4)\n",
        "\n",
        "# Trainer\n",
        "Trainer(TFC_model, model_optimizer, classifier, classifier_optimizer, train_dl, valid_dl, test_dl, device,\n",
        "        logger, configs, experiment_log_dir, training_mode)\n",
        "\n",
        "logger.debug(f\"Training time is : {datetime.now()-start_time}\")"
      ],
      "metadata": {
        "colab": {
          "base_uri": "https://localhost:8080/"
        },
        "id": "ta3QV8wXuMAt",
        "outputId": "66ab8025-0283-4b42-caab-ea5a298e5025"
      },
      "execution_count": null,
      "outputs": [
        {
          "output_type": "stream",
          "name": "stdout",
          "text": [
            "We are using cuda now.\n",
            "=============================================\n"
          ]
        },
        {
          "output_type": "stream",
          "name": "stderr",
          "text": [
            "DEBUG:../experiments_logs/SleepEEG_2_Epilepsy/run1/fine_tune_test_seed_42_2layertransformer/logs_02_02_2023_06_17_45.log:=============================================\n"
          ]
        },
        {
          "output_type": "stream",
          "name": "stdout",
          "text": [
            "Pre-training Dataset: SleepEEG\n"
          ]
        },
        {
          "output_type": "stream",
          "name": "stderr",
          "text": [
            "DEBUG:../experiments_logs/SleepEEG_2_Epilepsy/run1/fine_tune_test_seed_42_2layertransformer/logs_02_02_2023_06_17_45.log:Pre-training Dataset: SleepEEG\n"
          ]
        },
        {
          "output_type": "stream",
          "name": "stdout",
          "text": [
            "Target (fine-tuning) Dataset: Epilepsy\n"
          ]
        },
        {
          "output_type": "stream",
          "name": "stderr",
          "text": [
            "DEBUG:../experiments_logs/SleepEEG_2_Epilepsy/run1/fine_tune_test_seed_42_2layertransformer/logs_02_02_2023_06_17_45.log:Target (fine-tuning) Dataset: Epilepsy\n"
          ]
        },
        {
          "output_type": "stream",
          "name": "stdout",
          "text": [
            "Method:  TF-C\n"
          ]
        },
        {
          "output_type": "stream",
          "name": "stderr",
          "text": [
            "DEBUG:../experiments_logs/SleepEEG_2_Epilepsy/run1/fine_tune_test_seed_42_2layertransformer/logs_02_02_2023_06_17_45.log:Method:  TF-C\n"
          ]
        },
        {
          "output_type": "stream",
          "name": "stdout",
          "text": [
            "Mode:    fine_tune_test\n"
          ]
        },
        {
          "output_type": "stream",
          "name": "stderr",
          "text": [
            "DEBUG:../experiments_logs/SleepEEG_2_Epilepsy/run1/fine_tune_test_seed_42_2layertransformer/logs_02_02_2023_06_17_45.log:Mode:    fine_tune_test\n"
          ]
        },
        {
          "output_type": "stream",
          "name": "stdout",
          "text": [
            "=============================================\n"
          ]
        },
        {
          "output_type": "stream",
          "name": "stderr",
          "text": [
            "DEBUG:../experiments_logs/SleepEEG_2_Epilepsy/run1/fine_tune_test_seed_42_2layertransformer/logs_02_02_2023_06_17_45.log:=============================================\n"
          ]
        },
        {
          "output_type": "stream",
          "name": "stdout",
          "text": [
            "Using subset for debugging, the datasize is: 1280\n",
            "Using subset for debugging, the datasize is: 60\n",
            "Data loaded ...\n"
          ]
        },
        {
          "output_type": "stream",
          "name": "stderr",
          "text": [
            "DEBUG:../experiments_logs/SleepEEG_2_Epilepsy/run1/fine_tune_test_seed_42_2layertransformer/logs_02_02_2023_06_17_45.log:Data loaded ...\n"
          ]
        },
        {
          "output_type": "stream",
          "name": "stdout",
          "text": [
            "The loading file path ../experiments_logs/SleepEEG_2_Epilepsy/run1/pre_train_seed_42_2layertransformer/saved_models\n",
            "Training started ....\n"
          ]
        },
        {
          "output_type": "stream",
          "name": "stderr",
          "text": [
            "DEBUG:../experiments_logs/SleepEEG_2_Epilepsy/run1/fine_tune_test_seed_42_2layertransformer/logs_02_02_2023_06_17_45.log:Training started ....\n"
          ]
        },
        {
          "output_type": "stream",
          "name": "stdout",
          "text": [
            "Fine-tune on Fine-tuning set\n",
            "\n",
            "Epoch : 1\n"
          ]
        },
        {
          "output_type": "stream",
          "name": "stderr",
          "text": [
            "DEBUG:../experiments_logs/SleepEEG_2_Epilepsy/run1/fine_tune_test_seed_42_2layertransformer/logs_02_02_2023_06_17_45.log:\n",
            "Epoch : 1\n"
          ]
        },
        {
          "output_type": "stream",
          "name": "stdout",
          "text": [
            " Finetune: loss = 8.2386| Acc=46.6667 | Precision = 45.7386 | Recall = 46.6667 | F1 = 43.5958| AUROC=43.6667 | AUPRC = 49.3095\n",
            "update fine-tuned model\n",
            "Test on Target datasts test set\n"
          ]
        },
        {
          "output_type": "stream",
          "name": "stderr",
          "text": [
            "DEBUG:../experiments_logs/SleepEEG_2_Epilepsy/run1/fine_tune_test_seed_42_2layertransformer/logs_02_02_2023_06_17_45.log:Test on Target datasts test set\n"
          ]
        },
        {
          "output_type": "stream",
          "name": "stdout",
          "text": [
            "MLP Testing: Acc=18.5464| Precision = 15.2428 | Recall = 46.4918 | F1 = 15.7682 | AUROC= 51.7504 | AUPRC=60.2128\n",
            "KNN Testing: Acc=0.8032| Precision = 0.9015 | Recall = 0.5027 | F1 = 0.4506 | AUROC= 0.6147 | AUPRC=0.5900\n",
            "\n",
            "Epoch : 2\n"
          ]
        },
        {
          "output_type": "stream",
          "name": "stderr",
          "text": [
            "DEBUG:../experiments_logs/SleepEEG_2_Epilepsy/run1/fine_tune_test_seed_42_2layertransformer/logs_02_02_2023_06_17_45.log:\n",
            "Epoch : 2\n"
          ]
        },
        {
          "output_type": "stream",
          "name": "stdout",
          "text": [
            " Finetune: loss = 7.8782| Acc=46.6667 | Precision = 45.7386 | Recall = 46.6667 | F1 = 43.5958| AUROC=50.9444 | AUPRC = 54.6894\n",
            "Test on Target datasts test set\n"
          ]
        },
        {
          "output_type": "stream",
          "name": "stderr",
          "text": [
            "DEBUG:../experiments_logs/SleepEEG_2_Epilepsy/run1/fine_tune_test_seed_42_2layertransformer/logs_02_02_2023_06_17_45.log:Test on Target datasts test set\n"
          ]
        },
        {
          "output_type": "stream",
          "name": "stdout",
          "text": [
            "MLP Testing: Acc=18.5114| Precision = 14.6963 | Recall = 46.4366 | F1 = 15.7320 | AUROC= 51.5492 | AUPRC=59.8214\n",
            "KNN Testing: Acc=0.8039| Precision = 0.8441 | Recall = 0.5049 | F1 = 0.4556 | AUROC= 0.6592 | AUPRC=0.6111\n",
            "\n",
            "Epoch : 3\n"
          ]
        },
        {
          "output_type": "stream",
          "name": "stderr",
          "text": [
            "DEBUG:../experiments_logs/SleepEEG_2_Epilepsy/run1/fine_tune_test_seed_42_2layertransformer/logs_02_02_2023_06_17_45.log:\n",
            "Epoch : 3\n"
          ]
        },
        {
          "output_type": "stream",
          "name": "stdout",
          "text": [
            " Finetune: loss = 8.2354| Acc=58.3333 | Precision = 61.1111 | Recall = 58.3333 | F1 = 55.5556| AUROC=61.0556 | AUPRC = 64.1020\n",
            "update fine-tuned model\n",
            "Test on Target datasts test set\n"
          ]
        },
        {
          "output_type": "stream",
          "name": "stderr",
          "text": [
            "DEBUG:../experiments_logs/SleepEEG_2_Epilepsy/run1/fine_tune_test_seed_42_2layertransformer/logs_02_02_2023_06_17_45.log:Test on Target datasts test set\n"
          ]
        },
        {
          "output_type": "stream",
          "name": "stdout",
          "text": [
            "MLP Testing: Acc=18.7215| Precision = 24.3602 | Recall = 45.7343 | F1 = 16.2806 | AUROC= 58.5446 | AUPRC=64.1748\n",
            "KNN Testing: Acc=0.8074| Precision = 0.8739 | Recall = 0.5139 | F1 = 0.4739 | AUROC= 0.7174 | AUPRC=0.6994\n",
            "\n",
            "Epoch : 4\n"
          ]
        },
        {
          "output_type": "stream",
          "name": "stderr",
          "text": [
            "DEBUG:../experiments_logs/SleepEEG_2_Epilepsy/run1/fine_tune_test_seed_42_2layertransformer/logs_02_02_2023_06_17_45.log:\n",
            "Epoch : 4\n"
          ]
        },
        {
          "output_type": "stream",
          "name": "stdout",
          "text": [
            " Finetune: loss = 7.7197| Acc=53.3333 | Precision = 54.2614 | Recall = 53.3333 | F1 = 50.6463| AUROC=60.5556 | AUPRC = 63.3645\n",
            "Test on Target datasts test set\n"
          ]
        },
        {
          "output_type": "stream",
          "name": "stderr",
          "text": [
            "DEBUG:../experiments_logs/SleepEEG_2_Epilepsy/run1/fine_tune_test_seed_42_2layertransformer/logs_02_02_2023_06_17_45.log:Test on Target datasts test set\n"
          ]
        },
        {
          "output_type": "stream",
          "name": "stdout",
          "text": [
            "MLP Testing: Acc=18.8004| Precision = 24.7258 | Recall = 45.9668 | F1 = 16.3281 | AUROC= 59.0515 | AUPRC=64.1833\n",
            "KNN Testing: Acc=0.8038| Precision = 0.8779 | Recall = 0.5044 | F1 = 0.4543 | AUROC= 0.6307 | AUPRC=0.6165\n",
            "\n",
            "Epoch : 5\n"
          ]
        },
        {
          "output_type": "stream",
          "name": "stderr",
          "text": [
            "DEBUG:../experiments_logs/SleepEEG_2_Epilepsy/run1/fine_tune_test_seed_42_2layertransformer/logs_02_02_2023_06_17_45.log:\n",
            "Epoch : 5\n"
          ]
        },
        {
          "output_type": "stream",
          "name": "stdout",
          "text": [
            " Finetune: loss = 7.8469| Acc=50.0000 | Precision = 50.0000 | Recall = 50.0000 | F1 = 47.9167| AUROC=57.4444 | AUPRC = 59.1840\n",
            "Test on Target datasts test set\n"
          ]
        },
        {
          "output_type": "stream",
          "name": "stderr",
          "text": [
            "DEBUG:../experiments_logs/SleepEEG_2_Epilepsy/run1/fine_tune_test_seed_42_2layertransformer/logs_02_02_2023_06_17_45.log:Test on Target datasts test set\n"
          ]
        },
        {
          "output_type": "stream",
          "name": "stdout",
          "text": [
            "MLP Testing: Acc=18.7653| Precision = 24.3162 | Recall = 45.9283 | F1 = 16.2868 | AUROC= 58.6722 | AUPRC=64.0162\n",
            "KNN Testing: Acc=0.8060| Precision = 0.8918 | Recall = 0.5099 | F1 = 0.4656 | AUROC= 0.6746 | AUPRC=0.6286\n",
            "\n",
            "Epoch : 6\n"
          ]
        },
        {
          "output_type": "stream",
          "name": "stderr",
          "text": [
            "DEBUG:../experiments_logs/SleepEEG_2_Epilepsy/run1/fine_tune_test_seed_42_2layertransformer/logs_02_02_2023_06_17_45.log:\n",
            "Epoch : 6\n"
          ]
        },
        {
          "output_type": "stream",
          "name": "stdout",
          "text": [
            " Finetune: loss = 7.8159| Acc=46.6667 | Precision = 45.3416 | Recall = 46.6667 | F1 = 42.5837| AUROC=53.0000 | AUPRC = 53.0538\n",
            "Test on Target datasts test set\n"
          ]
        },
        {
          "output_type": "stream",
          "name": "stderr",
          "text": [
            "DEBUG:../experiments_logs/SleepEEG_2_Epilepsy/run1/fine_tune_test_seed_42_2layertransformer/logs_02_02_2023_06_17_45.log:Test on Target datasts test set\n"
          ]
        },
        {
          "output_type": "stream",
          "name": "stdout",
          "text": [
            "MLP Testing: Acc=18.7566| Precision = 24.4511 | Recall = 45.8562 | F1 = 16.2960 | AUROC= 58.9458 | AUPRC=63.9709\n",
            "KNN Testing: Acc=0.8125| Precision = 0.9012 | Recall = 0.5265 | F1 = 0.4981 | AUROC= 0.5375 | AUPRC=0.5780\n",
            "\n",
            "Epoch : 7\n"
          ]
        },
        {
          "output_type": "stream",
          "name": "stderr",
          "text": [
            "DEBUG:../experiments_logs/SleepEEG_2_Epilepsy/run1/fine_tune_test_seed_42_2layertransformer/logs_02_02_2023_06_17_45.log:\n",
            "Epoch : 7\n"
          ]
        },
        {
          "output_type": "stream",
          "name": "stdout",
          "text": [
            " Finetune: loss = 7.8676| Acc=63.3333 | Precision = 65.0000 | Recall = 63.3333 | F1 = 62.2857| AUROC=64.2222 | AUPRC = 62.7668\n",
            "update fine-tuned model\n",
            "Test on Target datasts test set\n"
          ]
        },
        {
          "output_type": "stream",
          "name": "stderr",
          "text": [
            "DEBUG:../experiments_logs/SleepEEG_2_Epilepsy/run1/fine_tune_test_seed_42_2layertransformer/logs_02_02_2023_06_17_45.log:Test on Target datasts test set\n"
          ]
        },
        {
          "output_type": "stream",
          "name": "stdout",
          "text": [
            "MLP Testing: Acc=21.4448| Precision = 41.2460 | Recall = 46.8820 | F1 = 19.9256 | AUROC= 66.4402 | AUPRC=69.0144\n",
            "KNN Testing: Acc=0.8095| Precision = 0.8927 | Recall = 0.5189 | F1 = 0.4835 | AUROC= 0.7643 | AUPRC=0.7247\n",
            "\n",
            "Epoch : 8\n"
          ]
        },
        {
          "output_type": "stream",
          "name": "stderr",
          "text": [
            "DEBUG:../experiments_logs/SleepEEG_2_Epilepsy/run1/fine_tune_test_seed_42_2layertransformer/logs_02_02_2023_06_17_45.log:\n",
            "Epoch : 8\n"
          ]
        },
        {
          "output_type": "stream",
          "name": "stdout",
          "text": [
            " Finetune: loss = 7.7450| Acc=60.0000 | Precision = 60.7656 | Recall = 60.0000 | F1 = 59.2760| AUROC=67.1111 | AUPRC = 68.5180\n",
            "Test on Target datasts test set\n"
          ]
        },
        {
          "output_type": "stream",
          "name": "stderr",
          "text": [
            "DEBUG:../experiments_logs/SleepEEG_2_Epilepsy/run1/fine_tune_test_seed_42_2layertransformer/logs_02_02_2023_06_17_45.log:Test on Target datasts test set\n"
          ]
        },
        {
          "output_type": "stream",
          "name": "stdout",
          "text": [
            "MLP Testing: Acc=21.3660| Precision = 40.9307 | Recall = 46.7829 | F1 = 19.8394 | AUROC= 66.2055 | AUPRC=68.6160\n",
            "KNN Testing: Acc=0.8054| Precision = 0.8684 | Recall = 0.5089 | F1 = 0.4637 | AUROC= 0.6908 | AUPRC=0.6478\n",
            "\n",
            "Epoch : 9\n"
          ]
        },
        {
          "output_type": "stream",
          "name": "stderr",
          "text": [
            "DEBUG:../experiments_logs/SleepEEG_2_Epilepsy/run1/fine_tune_test_seed_42_2layertransformer/logs_02_02_2023_06_17_45.log:\n",
            "Epoch : 9\n"
          ]
        },
        {
          "output_type": "stream",
          "name": "stdout",
          "text": [
            " Finetune: loss = 7.6123| Acc=60.0000 | Precision = 61.9048 | Recall = 60.0000 | F1 = 58.3333| AUROC=61.2222 | AUPRC = 60.9162\n",
            "Test on Target datasts test set\n"
          ]
        },
        {
          "output_type": "stream",
          "name": "stderr",
          "text": [
            "DEBUG:../experiments_logs/SleepEEG_2_Epilepsy/run1/fine_tune_test_seed_42_2layertransformer/logs_02_02_2023_06_17_45.log:Test on Target datasts test set\n"
          ]
        },
        {
          "output_type": "stream",
          "name": "stdout",
          "text": [
            "MLP Testing: Acc=21.4886| Precision = 41.2444 | Recall = 46.8093 | F1 = 20.0035 | AUROC= 66.4096 | AUPRC=68.8239\n",
            "KNN Testing: Acc=0.8083| Precision = 0.8784 | Recall = 0.5164 | F1 = 0.4787 | AUROC= 0.7440 | AUPRC=0.6648\n",
            "\n",
            "Epoch : 10\n"
          ]
        },
        {
          "output_type": "stream",
          "name": "stderr",
          "text": [
            "DEBUG:../experiments_logs/SleepEEG_2_Epilepsy/run1/fine_tune_test_seed_42_2layertransformer/logs_02_02_2023_06_17_45.log:\n",
            "Epoch : 10\n"
          ]
        },
        {
          "output_type": "stream",
          "name": "stdout",
          "text": [
            " Finetune: loss = 7.8500| Acc=65.0000 | Precision = 65.8637 | Recall = 65.0000 | F1 = 64.5170| AUROC=67.0000 | AUPRC = 68.2434\n",
            "update fine-tuned model\n",
            "Test on Target datasts test set\n"
          ]
        },
        {
          "output_type": "stream",
          "name": "stderr",
          "text": [
            "DEBUG:../experiments_logs/SleepEEG_2_Epilepsy/run1/fine_tune_test_seed_42_2layertransformer/logs_02_02_2023_06_17_45.log:Test on Target datasts test set\n"
          ]
        },
        {
          "output_type": "stream",
          "name": "stdout",
          "text": [
            "MLP Testing: Acc=37.4256| Precision = 55.2480 | Recall = 55.8605 | F1 = 37.3598 | AUROC= 72.7180 | AUPRC=73.0851\n",
            "KNN Testing: Acc=0.8062| Precision = 0.9027 | Recall = 0.5104 | F1 = 0.4665 | AUROC= 0.6714 | AUPRC=0.6171\n",
            "\n",
            "Epoch : 11\n"
          ]
        },
        {
          "output_type": "stream",
          "name": "stderr",
          "text": [
            "DEBUG:../experiments_logs/SleepEEG_2_Epilepsy/run1/fine_tune_test_seed_42_2layertransformer/logs_02_02_2023_06_17_45.log:\n",
            "Epoch : 11\n"
          ]
        },
        {
          "output_type": "stream",
          "name": "stdout",
          "text": [
            " Finetune: loss = 7.8124| Acc=63.3333 | Precision = 65.0000 | Recall = 63.3333 | F1 = 62.2857| AUROC=67.4444 | AUPRC = 69.1957\n",
            "Test on Target datasts test set\n"
          ]
        },
        {
          "output_type": "stream",
          "name": "stderr",
          "text": [
            "DEBUG:../experiments_logs/SleepEEG_2_Epilepsy/run1/fine_tune_test_seed_42_2layertransformer/logs_02_02_2023_06_17_45.log:Test on Target datasts test set\n"
          ]
        },
        {
          "output_type": "stream",
          "name": "stdout",
          "text": [
            "MLP Testing: Acc=37.1891| Precision = 54.9937 | Recall = 55.5631 | F1 = 37.1263 | AUROC= 72.9604 | AUPRC=73.3099\n",
            "KNN Testing: Acc=0.8197| Precision = 0.9034 | Recall = 0.5448 | F1 = 0.5318 | AUROC= 0.7660 | AUPRC=0.7426\n",
            "\n",
            "Epoch : 12\n"
          ]
        },
        {
          "output_type": "stream",
          "name": "stderr",
          "text": [
            "DEBUG:../experiments_logs/SleepEEG_2_Epilepsy/run1/fine_tune_test_seed_42_2layertransformer/logs_02_02_2023_06_17_45.log:\n",
            "Epoch : 12\n"
          ]
        },
        {
          "output_type": "stream",
          "name": "stdout",
          "text": [
            " Finetune: loss = 7.8439| Acc=65.0000 | Precision = 66.4835 | Recall = 65.0000 | F1 = 64.1944| AUROC=68.4444 | AUPRC = 68.8410\n",
            "Test on Target datasts test set\n"
          ]
        },
        {
          "output_type": "stream",
          "name": "stderr",
          "text": [
            "DEBUG:../experiments_logs/SleepEEG_2_Epilepsy/run1/fine_tune_test_seed_42_2layertransformer/logs_02_02_2023_06_17_45.log:Test on Target datasts test set\n"
          ]
        },
        {
          "output_type": "stream",
          "name": "stdout",
          "text": [
            "MLP Testing: Acc=37.4081| Precision = 55.2588 | Recall = 55.8663 | F1 = 37.3437 | AUROC= 72.9189 | AUPRC=73.5106\n",
            "KNN Testing: Acc=0.8097| Precision = 0.8740 | Recall = 0.5202 | F1 = 0.4864 | AUROC= 0.7110 | AUPRC=0.6553\n",
            "\n",
            "Epoch : 13\n"
          ]
        },
        {
          "output_type": "stream",
          "name": "stderr",
          "text": [
            "DEBUG:../experiments_logs/SleepEEG_2_Epilepsy/run1/fine_tune_test_seed_42_2layertransformer/logs_02_02_2023_06_17_45.log:\n",
            "Epoch : 13\n"
          ]
        },
        {
          "output_type": "stream",
          "name": "stdout",
          "text": [
            " Finetune: loss = 7.7852| Acc=66.6667 | Precision = 67.9426 | Recall = 66.6667 | F1 = 66.0633| AUROC=67.4444 | AUPRC = 71.0441\n",
            "update fine-tuned model\n",
            "Test on Target datasts test set\n"
          ]
        },
        {
          "output_type": "stream",
          "name": "stderr",
          "text": [
            "DEBUG:../experiments_logs/SleepEEG_2_Epilepsy/run1/fine_tune_test_seed_42_2layertransformer/logs_02_02_2023_06_17_45.log:Test on Target datasts test set\n"
          ]
        },
        {
          "output_type": "stream",
          "name": "stdout",
          "text": [
            "MLP Testing: Acc=70.7093| Precision = 66.3944 | Recall = 75.1918 | F1 = 65.7621 | AUROC= 78.7187 | AUPRC=77.8926\n",
            "KNN Testing: Acc=0.8164| Precision = 0.8925 | Recall = 0.5369 | F1 = 0.5177 | AUROC= 0.7077 | AUPRC=0.6565\n",
            "\n",
            "Epoch : 14\n"
          ]
        },
        {
          "output_type": "stream",
          "name": "stderr",
          "text": [
            "DEBUG:../experiments_logs/SleepEEG_2_Epilepsy/run1/fine_tune_test_seed_42_2layertransformer/logs_02_02_2023_06_17_45.log:\n",
            "Epoch : 14\n"
          ]
        },
        {
          "output_type": "stream",
          "name": "stdout",
          "text": [
            " Finetune: loss = 7.4748| Acc=68.3333 | Precision = 69.3890 | Recall = 68.3333 | F1 = 67.8964| AUROC=78.3889 | AUPRC = 80.1621\n",
            "update fine-tuned model\n",
            "Test on Target datasts test set\n"
          ]
        },
        {
          "output_type": "stream",
          "name": "stderr",
          "text": [
            "DEBUG:../experiments_logs/SleepEEG_2_Epilepsy/run1/fine_tune_test_seed_42_2layertransformer/logs_02_02_2023_06_17_45.log:Test on Target datasts test set\n"
          ]
        },
        {
          "output_type": "stream",
          "name": "stdout",
          "text": [
            "MLP Testing: Acc=86.5324| Precision = 78.5901 | Recall = 84.1387 | F1 = 80.7526 | AUROC= 83.5543 | AUPRC=81.8403\n",
            "KNN Testing: Acc=0.8187| Precision = 0.8908 | Recall = 0.5430 | F1 = 0.5288 | AUROC= 0.7769 | AUPRC=0.7555\n",
            "\n",
            "Epoch : 15\n"
          ]
        },
        {
          "output_type": "stream",
          "name": "stderr",
          "text": [
            "DEBUG:../experiments_logs/SleepEEG_2_Epilepsy/run1/fine_tune_test_seed_42_2layertransformer/logs_02_02_2023_06_17_45.log:\n",
            "Epoch : 15\n"
          ]
        },
        {
          "output_type": "stream",
          "name": "stdout",
          "text": [
            " Finetune: loss = 7.5632| Acc=81.6667 | Precision = 81.7019 | Recall = 81.6667 | F1 = 81.6616| AUROC=85.7778 | AUPRC = 85.1235\n",
            "update fine-tuned model\n",
            "Test on Target datasts test set\n"
          ]
        },
        {
          "output_type": "stream",
          "name": "stderr",
          "text": [
            "DEBUG:../experiments_logs/SleepEEG_2_Epilepsy/run1/fine_tune_test_seed_42_2layertransformer/logs_02_02_2023_06_17_45.log:Test on Target datasts test set\n"
          ]
        },
        {
          "output_type": "stream",
          "name": "stdout",
          "text": [
            "MLP Testing: Acc=91.1208| Precision = 85.7468 | Recall = 86.6657 | F1 = 86.1942 | AUROC= 87.6686 | AUPRC=85.5875\n",
            "KNN Testing: Acc=0.8363| Precision = 0.9000 | Recall = 0.5884 | F1 = 0.6042 | AUROC= 0.6754 | AUPRC=0.7006\n",
            "\n",
            "Epoch : 16\n"
          ]
        },
        {
          "output_type": "stream",
          "name": "stderr",
          "text": [
            "DEBUG:../experiments_logs/SleepEEG_2_Epilepsy/run1/fine_tune_test_seed_42_2layertransformer/logs_02_02_2023_06_17_45.log:\n",
            "Epoch : 16\n"
          ]
        },
        {
          "output_type": "stream",
          "name": "stdout",
          "text": [
            " Finetune: loss = 7.5950| Acc=75.0000 | Precision = 75.7143 | Recall = 75.0000 | F1 = 74.8252| AUROC=84.6111 | AUPRC = 86.4830\n",
            "Test on Target datasts test set\n"
          ]
        },
        {
          "output_type": "stream",
          "name": "stderr",
          "text": [
            "DEBUG:../experiments_logs/SleepEEG_2_Epilepsy/run1/fine_tune_test_seed_42_2layertransformer/logs_02_02_2023_06_17_45.log:Test on Target datasts test set\n"
          ]
        },
        {
          "output_type": "stream",
          "name": "stdout",
          "text": [
            "MLP Testing: Acc=91.1996| Precision = 85.9242 | Recall = 86.6481 | F1 = 86.2787 | AUROC= 87.5291 | AUPRC=85.4430\n",
            "KNN Testing: Acc=0.8220| Precision = 0.8930 | Recall = 0.5516 | F1 = 0.5439 | AUROC= 0.7683 | AUPRC=0.7455\n",
            "\n",
            "Epoch : 17\n"
          ]
        },
        {
          "output_type": "stream",
          "name": "stderr",
          "text": [
            "DEBUG:../experiments_logs/SleepEEG_2_Epilepsy/run1/fine_tune_test_seed_42_2layertransformer/logs_02_02_2023_06_17_45.log:\n",
            "Epoch : 17\n"
          ]
        },
        {
          "output_type": "stream",
          "name": "stdout",
          "text": [
            " Finetune: loss = 7.3455| Acc=76.6667 | Precision = 77.1493 | Recall = 76.6667 | F1 = 76.5625| AUROC=84.6111 | AUPRC = 85.8494\n",
            "Test on Target datasts test set\n"
          ]
        },
        {
          "output_type": "stream",
          "name": "stderr",
          "text": [
            "DEBUG:../experiments_logs/SleepEEG_2_Epilepsy/run1/fine_tune_test_seed_42_2layertransformer/logs_02_02_2023_06_17_45.log:Test on Target datasts test set\n"
          ]
        },
        {
          "output_type": "stream",
          "name": "stdout",
          "text": [
            "MLP Testing: Acc=91.2259| Precision = 85.9614 | Recall = 86.6978 | F1 = 86.3219 | AUROC= 87.3800 | AUPRC=85.4216\n",
            "KNN Testing: Acc=0.8365| Precision = 0.9047 | Recall = 0.5884 | F1 = 0.6042 | AUROC= 0.8068 | AUPRC=0.7623\n",
            "\n",
            "Epoch : 18\n"
          ]
        },
        {
          "output_type": "stream",
          "name": "stderr",
          "text": [
            "DEBUG:../experiments_logs/SleepEEG_2_Epilepsy/run1/fine_tune_test_seed_42_2layertransformer/logs_02_02_2023_06_17_45.log:\n",
            "Epoch : 18\n"
          ]
        },
        {
          "output_type": "stream",
          "name": "stdout",
          "text": [
            " Finetune: loss = 7.4030| Acc=80.0000 | Precision = 81.2500 | Recall = 80.0000 | F1 = 79.7980| AUROC=87.7778 | AUPRC = 88.6584\n",
            "Test on Target datasts test set\n"
          ]
        },
        {
          "output_type": "stream",
          "name": "stderr",
          "text": [
            "DEBUG:../experiments_logs/SleepEEG_2_Epilepsy/run1/fine_tune_test_seed_42_2layertransformer/logs_02_02_2023_06_17_45.log:Test on Target datasts test set\n"
          ]
        },
        {
          "output_type": "stream",
          "name": "stdout",
          "text": [
            "MLP Testing: Acc=91.2084| Precision = 85.9010 | Recall = 86.7536 | F1 = 86.3170 | AUROC= 87.5298 | AUPRC=85.2126\n",
            "KNN Testing: Acc=0.8343| Precision = 0.9030 | Recall = 0.5829 | F1 = 0.5956 | AUROC= 0.7772 | AUPRC=0.7564\n",
            "\n",
            "Epoch : 19\n"
          ]
        },
        {
          "output_type": "stream",
          "name": "stderr",
          "text": [
            "DEBUG:../experiments_logs/SleepEEG_2_Epilepsy/run1/fine_tune_test_seed_42_2layertransformer/logs_02_02_2023_06_17_45.log:\n",
            "Epoch : 19\n"
          ]
        },
        {
          "output_type": "stream",
          "name": "stdout",
          "text": [
            " Finetune: loss = 7.4154| Acc=73.3333 | Precision = 73.7557 | Recall = 73.3333 | F1 = 73.2143| AUROC=80.0000 | AUPRC = 79.2347\n",
            "Test on Target datasts test set\n"
          ]
        },
        {
          "output_type": "stream",
          "name": "stderr",
          "text": [
            "DEBUG:../experiments_logs/SleepEEG_2_Epilepsy/run1/fine_tune_test_seed_42_2layertransformer/logs_02_02_2023_06_17_45.log:Test on Target datasts test set\n"
          ]
        },
        {
          "output_type": "stream",
          "name": "stdout",
          "text": [
            "MLP Testing: Acc=91.1821| Precision = 85.9174 | Recall = 86.5706 | F1 = 86.2379 | AUROC= 87.4704 | AUPRC=85.3970\n",
            "KNN Testing: Acc=0.8377| Precision = 0.9023 | Recall = 0.5920 | F1 = 0.6097 | AUROC= 0.8139 | AUPRC=0.7924\n",
            "\n",
            "Epoch : 20\n"
          ]
        },
        {
          "output_type": "stream",
          "name": "stderr",
          "text": [
            "DEBUG:../experiments_logs/SleepEEG_2_Epilepsy/run1/fine_tune_test_seed_42_2layertransformer/logs_02_02_2023_06_17_45.log:\n",
            "Epoch : 20\n"
          ]
        },
        {
          "output_type": "stream",
          "name": "stdout",
          "text": [
            " Finetune: loss = 7.6279| Acc=83.3333 | Precision = 83.4821 | Recall = 83.3333 | F1 = 83.3148| AUROC=86.7222 | AUPRC = 84.6337\n",
            "update fine-tuned model\n",
            "Test on Target datasts test set\n"
          ]
        },
        {
          "output_type": "stream",
          "name": "stderr",
          "text": [
            "DEBUG:../experiments_logs/SleepEEG_2_Epilepsy/run1/fine_tune_test_seed_42_2layertransformer/logs_02_02_2023_06_17_45.log:Test on Target datasts test set\n"
          ]
        },
        {
          "output_type": "stream",
          "name": "stdout",
          "text": [
            "MLP Testing: Acc=93.0736| Precision = 90.4056 | Recall = 87.1330 | F1 = 88.6386 | AUROC= 90.7238 | AUPRC=88.2820\n",
            "KNN Testing: Acc=0.8575| Precision = 0.9045 | Recall = 0.6449 | F1 = 0.6834 | AUROC= 0.8313 | AUPRC=0.7891\n",
            "\n",
            "Epoch : 21\n"
          ]
        },
        {
          "output_type": "stream",
          "name": "stderr",
          "text": [
            "DEBUG:../experiments_logs/SleepEEG_2_Epilepsy/run1/fine_tune_test_seed_42_2layertransformer/logs_02_02_2023_06_17_45.log:\n",
            "Epoch : 21\n"
          ]
        },
        {
          "output_type": "stream",
          "name": "stdout",
          "text": [
            " Finetune: loss = 7.5479| Acc=80.0000 | Precision = 80.1339 | Recall = 80.0000 | F1 = 79.9778| AUROC=84.6667 | AUPRC = 84.2552\n",
            "Test on Target datasts test set\n"
          ]
        },
        {
          "output_type": "stream",
          "name": "stderr",
          "text": [
            "DEBUG:../experiments_logs/SleepEEG_2_Epilepsy/run1/fine_tune_test_seed_42_2layertransformer/logs_02_02_2023_06_17_45.log:Test on Target datasts test set\n"
          ]
        },
        {
          "output_type": "stream",
          "name": "stdout",
          "text": [
            "MLP Testing: Acc=93.0911| Precision = 90.4489 | Recall = 87.1439 | F1 = 88.6633 | AUROC= 90.9054 | AUPRC=88.5497\n",
            "KNN Testing: Acc=0.8603| Precision = 0.9130 | Recall = 0.6503 | F1 = 0.6907 | AUROC= 0.8609 | AUPRC=0.8195\n",
            "\n",
            "Epoch : 22\n"
          ]
        },
        {
          "output_type": "stream",
          "name": "stderr",
          "text": [
            "DEBUG:../experiments_logs/SleepEEG_2_Epilepsy/run1/fine_tune_test_seed_42_2layertransformer/logs_02_02_2023_06_17_45.log:\n",
            "Epoch : 22\n"
          ]
        },
        {
          "output_type": "stream",
          "name": "stdout",
          "text": [
            " Finetune: loss = 7.1888| Acc=83.3333 | Precision = 83.9367 | Recall = 83.3333 | F1 = 83.2589| AUROC=86.6111 | AUPRC = 88.0187\n",
            "Test on Target datasts test set\n"
          ]
        },
        {
          "output_type": "stream",
          "name": "stderr",
          "text": [
            "DEBUG:../experiments_logs/SleepEEG_2_Epilepsy/run1/fine_tune_test_seed_42_2layertransformer/logs_02_02_2023_06_17_45.log:Test on Target datasts test set\n"
          ]
        },
        {
          "output_type": "stream",
          "name": "stdout",
          "text": [
            "MLP Testing: Acc=93.0911| Precision = 90.4621 | Recall = 87.1272 | F1 = 88.6592 | AUROC= 90.7542 | AUPRC=88.3580\n",
            "KNN Testing: Acc=0.8251| Precision = 0.8964 | Recall = 0.5595 | F1 = 0.5576 | AUROC= 0.7059 | AUPRC=0.6713\n",
            "\n",
            "Epoch : 23\n"
          ]
        },
        {
          "output_type": "stream",
          "name": "stderr",
          "text": [
            "DEBUG:../experiments_logs/SleepEEG_2_Epilepsy/run1/fine_tune_test_seed_42_2layertransformer/logs_02_02_2023_06_17_45.log:\n",
            "Epoch : 23\n"
          ]
        },
        {
          "output_type": "stream",
          "name": "stdout",
          "text": [
            " Finetune: loss = 7.4677| Acc=80.0000 | Precision = 80.1339 | Recall = 80.0000 | F1 = 79.9778| AUROC=87.1667 | AUPRC = 87.9712\n",
            "Test on Target datasts test set\n"
          ]
        },
        {
          "output_type": "stream",
          "name": "stderr",
          "text": [
            "DEBUG:../experiments_logs/SleepEEG_2_Epilepsy/run1/fine_tune_test_seed_42_2layertransformer/logs_02_02_2023_06_17_45.log:Test on Target datasts test set\n"
          ]
        },
        {
          "output_type": "stream",
          "name": "stdout",
          "text": [
            "MLP Testing: Acc=93.0736| Precision = 90.3402 | Recall = 87.2163 | F1 = 88.6590 | AUROC= 90.6142 | AUPRC=88.2727\n",
            "KNN Testing: Acc=0.8355| Precision = 0.9062 | Recall = 0.5855 | F1 = 0.5996 | AUROC= 0.7976 | AUPRC=0.7831\n",
            "\n",
            "Epoch : 24\n"
          ]
        },
        {
          "output_type": "stream",
          "name": "stderr",
          "text": [
            "DEBUG:../experiments_logs/SleepEEG_2_Epilepsy/run1/fine_tune_test_seed_42_2layertransformer/logs_02_02_2023_06_17_45.log:\n",
            "Epoch : 24\n"
          ]
        },
        {
          "output_type": "stream",
          "name": "stdout",
          "text": [
            " Finetune: loss = 7.3812| Acc=75.0000 | Precision = 75.7143 | Recall = 75.0000 | F1 = 74.8252| AUROC=85.0000 | AUPRC = 84.9908\n",
            "Test on Target datasts test set\n"
          ]
        },
        {
          "output_type": "stream",
          "name": "stderr",
          "text": [
            "DEBUG:../experiments_logs/SleepEEG_2_Epilepsy/run1/fine_tune_test_seed_42_2layertransformer/logs_02_02_2023_06_17_45.log:Test on Target datasts test set\n"
          ]
        },
        {
          "output_type": "stream",
          "name": "stdout",
          "text": [
            "MLP Testing: Acc=93.0473| Precision = 90.3936 | Recall = 87.0499 | F1 = 88.5853 | AUROC= 90.7473 | AUPRC=88.4027\n",
            "KNN Testing: Acc=0.8532| Precision = 0.9044 | Recall = 0.6330 | F1 = 0.6679 | AUROC= 0.7197 | AUPRC=0.7334\n",
            "\n",
            "Epoch : 25\n"
          ]
        },
        {
          "output_type": "stream",
          "name": "stderr",
          "text": [
            "DEBUG:../experiments_logs/SleepEEG_2_Epilepsy/run1/fine_tune_test_seed_42_2layertransformer/logs_02_02_2023_06_17_45.log:\n",
            "Epoch : 25\n"
          ]
        },
        {
          "output_type": "stream",
          "name": "stdout",
          "text": [
            " Finetune: loss = 7.2159| Acc=80.0000 | Precision = 80.1339 | Recall = 80.0000 | F1 = 79.9778| AUROC=89.3889 | AUPRC = 90.8262\n",
            "Test on Target datasts test set\n"
          ]
        },
        {
          "output_type": "stream",
          "name": "stderr",
          "text": [
            "DEBUG:../experiments_logs/SleepEEG_2_Epilepsy/run1/fine_tune_test_seed_42_2layertransformer/logs_02_02_2023_06_17_45.log:Test on Target datasts test set\n"
          ]
        },
        {
          "output_type": "stream",
          "name": "stdout",
          "text": [
            "MLP Testing: Acc=93.0473| Precision = 90.3149 | Recall = 87.1499 | F1 = 88.6098 | AUROC= 90.8225 | AUPRC=88.3999\n",
            "KNN Testing: Acc=0.8323| Precision = 0.9027 | Recall = 0.5777 | F1 = 0.5873 | AUROC= 0.8110 | AUPRC=0.7752\n",
            "\n",
            "Epoch : 26\n"
          ]
        },
        {
          "output_type": "stream",
          "name": "stderr",
          "text": [
            "DEBUG:../experiments_logs/SleepEEG_2_Epilepsy/run1/fine_tune_test_seed_42_2layertransformer/logs_02_02_2023_06_17_45.log:\n",
            "Epoch : 26\n"
          ]
        },
        {
          "output_type": "stream",
          "name": "stdout",
          "text": [
            " Finetune: loss = 7.3455| Acc=86.6667 | Precision = 86.8304 | Recall = 86.6667 | F1 = 86.6518| AUROC=88.8889 | AUPRC = 89.9873\n",
            "update fine-tuned model\n",
            "Test on Target datasts test set\n"
          ]
        },
        {
          "output_type": "stream",
          "name": "stderr",
          "text": [
            "DEBUG:../experiments_logs/SleepEEG_2_Epilepsy/run1/fine_tune_test_seed_42_2layertransformer/logs_02_02_2023_06_17_45.log:Test on Target datasts test set\n"
          ]
        },
        {
          "output_type": "stream",
          "name": "stdout",
          "text": [
            "MLP Testing: Acc=93.6340| Precision = 91.8015 | Recall = 87.5157 | F1 = 89.4437 | AUROC= 93.3144 | AUPRC=91.1203\n",
            "KNN Testing: Acc=0.8405| Precision = 0.9064 | Recall = 0.5986 | F1 = 0.6196 | AUROC= 0.8271 | AUPRC=0.8109\n",
            "\n",
            "Epoch : 27\n"
          ]
        },
        {
          "output_type": "stream",
          "name": "stderr",
          "text": [
            "DEBUG:../experiments_logs/SleepEEG_2_Epilepsy/run1/fine_tune_test_seed_42_2layertransformer/logs_02_02_2023_06_17_45.log:\n",
            "Epoch : 27\n"
          ]
        },
        {
          "output_type": "stream",
          "name": "stdout",
          "text": [
            " Finetune: loss = 7.2997| Acc=81.6667 | Precision = 81.7019 | Recall = 81.6667 | F1 = 81.6616| AUROC=88.3889 | AUPRC = 88.4184\n",
            "Test on Target datasts test set\n"
          ]
        },
        {
          "output_type": "stream",
          "name": "stderr",
          "text": [
            "DEBUG:../experiments_logs/SleepEEG_2_Epilepsy/run1/fine_tune_test_seed_42_2layertransformer/logs_02_02_2023_06_17_45.log:Test on Target datasts test set\n"
          ]
        },
        {
          "output_type": "stream",
          "name": "stdout",
          "text": [
            "MLP Testing: Acc=93.7478| Precision = 91.9937 | Recall = 87.7033 | F1 = 89.6344 | AUROC= 93.2271 | AUPRC=91.1271\n",
            "KNN Testing: Acc=0.8415| Precision = 0.8968 | Recall = 0.6031 | F1 = 0.6261 | AUROC= 0.8075 | AUPRC=0.7600\n",
            "\n",
            "Epoch : 28\n"
          ]
        },
        {
          "output_type": "stream",
          "name": "stderr",
          "text": [
            "DEBUG:../experiments_logs/SleepEEG_2_Epilepsy/run1/fine_tune_test_seed_42_2layertransformer/logs_02_02_2023_06_17_45.log:\n",
            "Epoch : 28\n"
          ]
        },
        {
          "output_type": "stream",
          "name": "stdout",
          "text": [
            " Finetune: loss = 7.5154| Acc=88.3333 | Precision = 88.3760 | Recall = 88.3333 | F1 = 88.3301| AUROC=93.8333 | AUPRC = 93.6071\n",
            "update fine-tuned model\n",
            "Test on Target datasts test set\n"
          ]
        },
        {
          "output_type": "stream",
          "name": "stderr",
          "text": [
            "DEBUG:../experiments_logs/SleepEEG_2_Epilepsy/run1/fine_tune_test_seed_42_2layertransformer/logs_02_02_2023_06_17_45.log:Test on Target datasts test set\n"
          ]
        },
        {
          "output_type": "stream",
          "name": "stdout",
          "text": [
            "MLP Testing: Acc=94.2382| Precision = 92.7432 | Recall = 88.5922 | F1 = 90.4717 | AUROC= 95.0310 | AUPRC=92.8804\n",
            "KNN Testing: Acc=0.8521| Precision = 0.9072 | Recall = 0.6295 | F1 = 0.6634 | AUROC= 0.8282 | AUPRC=0.7971\n",
            "\n",
            "Epoch : 29\n"
          ]
        },
        {
          "output_type": "stream",
          "name": "stderr",
          "text": [
            "DEBUG:../experiments_logs/SleepEEG_2_Epilepsy/run1/fine_tune_test_seed_42_2layertransformer/logs_02_02_2023_06_17_45.log:\n",
            "Epoch : 29\n"
          ]
        },
        {
          "output_type": "stream",
          "name": "stdout",
          "text": [
            " Finetune: loss = 7.3716| Acc=91.6667 | Precision = 91.7130 | Recall = 91.6667 | F1 = 91.6644| AUROC=94.6667 | AUPRC = 94.6407\n",
            "update fine-tuned model\n",
            "Test on Target datasts test set\n"
          ]
        },
        {
          "output_type": "stream",
          "name": "stderr",
          "text": [
            "DEBUG:../experiments_logs/SleepEEG_2_Epilepsy/run1/fine_tune_test_seed_42_2layertransformer/logs_02_02_2023_06_17_45.log:Test on Target datasts test set\n"
          ]
        },
        {
          "output_type": "stream",
          "name": "stdout",
          "text": [
            "MLP Testing: Acc=94.5271| Precision = 92.9575 | Recall = 89.3557 | F1 = 91.0100 | AUROC= 96.0642 | AUPRC=94.1318\n",
            "KNN Testing: Acc=0.8743| Precision = 0.9174 | Recall = 0.6872 | F1 = 0.7351 | AUROC= 0.8781 | AUPRC=0.8507\n",
            "\n",
            "Epoch : 30\n"
          ]
        },
        {
          "output_type": "stream",
          "name": "stderr",
          "text": [
            "DEBUG:../experiments_logs/SleepEEG_2_Epilepsy/run1/fine_tune_test_seed_42_2layertransformer/logs_02_02_2023_06_17_45.log:\n",
            "Epoch : 30\n"
          ]
        },
        {
          "output_type": "stream",
          "name": "stdout",
          "text": [
            " Finetune: loss = 7.2526| Acc=86.6667 | Precision = 86.8304 | Recall = 86.6667 | F1 = 86.6518| AUROC=93.1667 | AUPRC = 93.6630\n",
            "Test on Target datasts test set\n"
          ]
        },
        {
          "output_type": "stream",
          "name": "stderr",
          "text": [
            "DEBUG:../experiments_logs/SleepEEG_2_Epilepsy/run1/fine_tune_test_seed_42_2layertransformer/logs_02_02_2023_06_17_45.log:Test on Target datasts test set\n"
          ]
        },
        {
          "output_type": "stream",
          "name": "stdout",
          "text": [
            "MLP Testing: Acc=94.4921| Precision = 92.7768 | Recall = 89.4338 | F1 = 90.9784 | AUROC= 96.2378 | AUPRC=93.9681\n",
            "KNN Testing: Acc=0.8723| Precision = 0.9170 | Recall = 0.6818 | F1 = 0.7289 | AUROC= 0.8387 | AUPRC=0.8061\n",
            "\n",
            "Epoch : 31\n"
          ]
        },
        {
          "output_type": "stream",
          "name": "stderr",
          "text": [
            "DEBUG:../experiments_logs/SleepEEG_2_Epilepsy/run1/fine_tune_test_seed_42_2layertransformer/logs_02_02_2023_06_17_45.log:\n",
            "Epoch : 31\n"
          ]
        },
        {
          "output_type": "stream",
          "name": "stdout",
          "text": [
            " Finetune: loss = 7.2113| Acc=88.3333 | Precision = 88.7205 | Recall = 88.3333 | F1 = 88.3041| AUROC=91.7222 | AUPRC = 91.9736\n",
            "Test on Target datasts test set\n"
          ]
        },
        {
          "output_type": "stream",
          "name": "stderr",
          "text": [
            "DEBUG:../experiments_logs/SleepEEG_2_Epilepsy/run1/fine_tune_test_seed_42_2layertransformer/logs_02_02_2023_06_17_45.log:Test on Target datasts test set\n"
          ]
        },
        {
          "output_type": "stream",
          "name": "stdout",
          "text": [
            "MLP Testing: Acc=94.5096| Precision = 92.9121 | Recall = 89.3447 | F1 = 90.9845 | AUROC= 96.0970 | AUPRC=93.9561\n",
            "KNN Testing: Acc=0.8836| Precision = 0.9257 | Recall = 0.7098 | F1 = 0.7608 | AUROC= 0.7650 | AUPRC=0.7809\n",
            "\n",
            "Epoch : 32\n"
          ]
        },
        {
          "output_type": "stream",
          "name": "stderr",
          "text": [
            "DEBUG:../experiments_logs/SleepEEG_2_Epilepsy/run1/fine_tune_test_seed_42_2layertransformer/logs_02_02_2023_06_17_45.log:\n",
            "Epoch : 32\n"
          ]
        },
        {
          "output_type": "stream",
          "name": "stdout",
          "text": [
            " Finetune: loss = 6.9427| Acc=90.0000 | Precision = 90.1786 | Recall = 90.0000 | F1 = 89.9889| AUROC=94.8889 | AUPRC = 95.4872\n",
            "Test on Target datasts test set\n"
          ]
        },
        {
          "output_type": "stream",
          "name": "stderr",
          "text": [
            "DEBUG:../experiments_logs/SleepEEG_2_Epilepsy/run1/fine_tune_test_seed_42_2layertransformer/logs_02_02_2023_06_17_45.log:Test on Target datasts test set\n"
          ]
        },
        {
          "output_type": "stream",
          "name": "stdout",
          "text": [
            "MLP Testing: Acc=94.5447| Precision = 92.9876 | Recall = 89.3832 | F1 = 91.0388 | AUROC= 96.0925 | AUPRC=93.8821\n",
            "KNN Testing: Acc=0.8772| Precision = 0.9188 | Recall = 0.6947 | F1 = 0.7436 | AUROC= 0.8696 | AUPRC=0.8398\n",
            "\n",
            "Epoch : 33\n"
          ]
        },
        {
          "output_type": "stream",
          "name": "stderr",
          "text": [
            "DEBUG:../experiments_logs/SleepEEG_2_Epilepsy/run1/fine_tune_test_seed_42_2layertransformer/logs_02_02_2023_06_17_45.log:\n",
            "Epoch : 33\n"
          ]
        },
        {
          "output_type": "stream",
          "name": "stdout",
          "text": [
            " Finetune: loss = 7.2406| Acc=91.6667 | Precision = 92.8571 | Recall = 91.6667 | F1 = 91.6084| AUROC=92.3333 | AUPRC = 91.9259\n",
            "Test on Target datasts test set\n"
          ]
        },
        {
          "output_type": "stream",
          "name": "stderr",
          "text": [
            "DEBUG:../experiments_logs/SleepEEG_2_Epilepsy/run1/fine_tune_test_seed_42_2layertransformer/logs_02_02_2023_06_17_45.log:Test on Target datasts test set\n"
          ]
        },
        {
          "output_type": "stream",
          "name": "stdout",
          "text": [
            "MLP Testing: Acc=94.6235| Precision = 93.1308 | Recall = 89.4990 | F1 = 91.1667 | AUROC= 96.3320 | AUPRC=94.1686\n",
            "KNN Testing: Acc=0.8757| Precision = 0.9222 | Recall = 0.6892 | F1 = 0.7378 | AUROC= 0.8691 | AUPRC=0.8537\n",
            "\n",
            "Epoch : 34\n"
          ]
        },
        {
          "output_type": "stream",
          "name": "stderr",
          "text": [
            "DEBUG:../experiments_logs/SleepEEG_2_Epilepsy/run1/fine_tune_test_seed_42_2layertransformer/logs_02_02_2023_06_17_45.log:\n",
            "Epoch : 34\n"
          ]
        },
        {
          "output_type": "stream",
          "name": "stdout",
          "text": [
            " Finetune: loss = 7.1318| Acc=86.6667 | Precision = 87.3303 | Recall = 86.6667 | F1 = 86.6071| AUROC=94.1111 | AUPRC = 94.0515\n",
            "Test on Target datasts test set\n"
          ]
        },
        {
          "output_type": "stream",
          "name": "stderr",
          "text": [
            "DEBUG:../experiments_logs/SleepEEG_2_Epilepsy/run1/fine_tune_test_seed_42_2layertransformer/logs_02_02_2023_06_17_45.log:Test on Target datasts test set\n"
          ]
        },
        {
          "output_type": "stream",
          "name": "stdout",
          "text": [
            "MLP Testing: Acc=94.4746| Precision = 92.7917 | Recall = 89.3562 | F1 = 90.9400 | AUROC= 96.1253 | AUPRC=93.9910\n",
            "KNN Testing: Acc=0.8771| Precision = 0.9206 | Recall = 0.6935 | F1 = 0.7426 | AUROC= 0.8818 | AUPRC=0.8457\n",
            "\n",
            "Epoch : 35\n"
          ]
        },
        {
          "output_type": "stream",
          "name": "stderr",
          "text": [
            "DEBUG:../experiments_logs/SleepEEG_2_Epilepsy/run1/fine_tune_test_seed_42_2layertransformer/logs_02_02_2023_06_17_45.log:\n",
            "Epoch : 35\n"
          ]
        },
        {
          "output_type": "stream",
          "name": "stdout",
          "text": [
            " Finetune: loss = 7.2328| Acc=90.0000 | Precision = 90.1786 | Recall = 90.0000 | F1 = 89.9889| AUROC=96.1111 | AUPRC = 96.2458\n",
            "Test on Target datasts test set\n"
          ]
        },
        {
          "output_type": "stream",
          "name": "stderr",
          "text": [
            "DEBUG:../experiments_logs/SleepEEG_2_Epilepsy/run1/fine_tune_test_seed_42_2layertransformer/logs_02_02_2023_06_17_45.log:Test on Target datasts test set\n"
          ]
        },
        {
          "output_type": "stream",
          "name": "stdout",
          "text": [
            "MLP Testing: Acc=94.5096| Precision = 92.7327 | Recall = 89.5447 | F1 = 91.0232 | AUROC= 96.0766 | AUPRC=93.9248\n",
            "KNN Testing: Acc=0.8765| Precision = 0.9193 | Recall = 0.6926 | F1 = 0.7414 | AUROC= 0.7322 | AUPRC=0.7617\n",
            "\n",
            "Epoch : 36\n"
          ]
        },
        {
          "output_type": "stream",
          "name": "stderr",
          "text": [
            "DEBUG:../experiments_logs/SleepEEG_2_Epilepsy/run1/fine_tune_test_seed_42_2layertransformer/logs_02_02_2023_06_17_45.log:\n",
            "Epoch : 36\n"
          ]
        },
        {
          "output_type": "stream",
          "name": "stdout",
          "text": [
            " Finetune: loss = 6.9913| Acc=90.0000 | Precision = 90.1786 | Recall = 90.0000 | F1 = 89.9889| AUROC=94.9444 | AUPRC = 96.2033\n",
            "Test on Target datasts test set\n"
          ]
        },
        {
          "output_type": "stream",
          "name": "stderr",
          "text": [
            "DEBUG:../experiments_logs/SleepEEG_2_Epilepsy/run1/fine_tune_test_seed_42_2layertransformer/logs_02_02_2023_06_17_45.log:Test on Target datasts test set\n"
          ]
        },
        {
          "output_type": "stream",
          "name": "stdout",
          "text": [
            "MLP Testing: Acc=94.6410| Precision = 93.0236 | Recall = 89.6766 | F1 = 91.2238 | AUROC= 96.1677 | AUPRC=94.0092\n",
            "KNN Testing: Acc=0.8838| Precision = 0.9267 | Recall = 0.7099 | F1 = 0.7611 | AUROC= 0.8830 | AUPRC=0.8580\n",
            "\n",
            "Epoch : 37\n"
          ]
        },
        {
          "output_type": "stream",
          "name": "stderr",
          "text": [
            "DEBUG:../experiments_logs/SleepEEG_2_Epilepsy/run1/fine_tune_test_seed_42_2layertransformer/logs_02_02_2023_06_17_45.log:\n",
            "Epoch : 37\n"
          ]
        },
        {
          "output_type": "stream",
          "name": "stdout",
          "text": [
            " Finetune: loss = 7.1861| Acc=86.6667 | Precision = 87.3303 | Recall = 86.6667 | F1 = 86.6071| AUROC=91.7778 | AUPRC = 92.5153\n",
            "Test on Target datasts test set\n"
          ]
        },
        {
          "output_type": "stream",
          "name": "stderr",
          "text": [
            "DEBUG:../experiments_logs/SleepEEG_2_Epilepsy/run1/fine_tune_test_seed_42_2layertransformer/logs_02_02_2023_06_17_45.log:Test on Target datasts test set\n"
          ]
        },
        {
          "output_type": "stream",
          "name": "stdout",
          "text": [
            "MLP Testing: Acc=94.5534| Precision = 92.9191 | Recall = 89.4887 | F1 = 91.0708 | AUROC= 96.1001 | AUPRC=93.9435\n",
            "KNN Testing: Acc=0.8761| Precision = 0.9161 | Recall = 0.6924 | F1 = 0.7409 | AUROC= 0.7510 | AUPRC=0.7656\n",
            "\n",
            "Epoch : 38\n"
          ]
        },
        {
          "output_type": "stream",
          "name": "stderr",
          "text": [
            "DEBUG:../experiments_logs/SleepEEG_2_Epilepsy/run1/fine_tune_test_seed_42_2layertransformer/logs_02_02_2023_06_17_45.log:\n",
            "Epoch : 38\n"
          ]
        },
        {
          "output_type": "stream",
          "name": "stdout",
          "text": [
            " Finetune: loss = 7.0912| Acc=91.6667 | Precision = 92.0875 | Recall = 91.6667 | F1 = 91.6458| AUROC=97.0000 | AUPRC = 97.2648\n",
            "Test on Target datasts test set\n"
          ]
        },
        {
          "output_type": "stream",
          "name": "stderr",
          "text": [
            "DEBUG:../experiments_logs/SleepEEG_2_Epilepsy/run1/fine_tune_test_seed_42_2layertransformer/logs_02_02_2023_06_17_45.log:Test on Target datasts test set\n"
          ]
        },
        {
          "output_type": "stream",
          "name": "stdout",
          "text": [
            "MLP Testing: Acc=94.6410| Precision = 93.0995 | Recall = 89.5933 | F1 = 91.2081 | AUROC= 96.2222 | AUPRC=94.2153\n",
            "KNN Testing: Acc=0.8728| Precision = 0.9194 | Recall = 0.6822 | F1 = 0.7296 | AUROC= 0.8597 | AUPRC=0.8412\n",
            "\n",
            "Epoch : 39\n"
          ]
        },
        {
          "output_type": "stream",
          "name": "stderr",
          "text": [
            "DEBUG:../experiments_logs/SleepEEG_2_Epilepsy/run1/fine_tune_test_seed_42_2layertransformer/logs_02_02_2023_06_17_45.log:\n",
            "Epoch : 39\n"
          ]
        },
        {
          "output_type": "stream",
          "name": "stdout",
          "text": [
            " Finetune: loss = 7.1405| Acc=86.6667 | Precision = 86.6667 | Recall = 86.6667 | F1 = 86.6667| AUROC=94.7778 | AUPRC = 94.6451\n",
            "Test on Target datasts test set\n"
          ]
        },
        {
          "output_type": "stream",
          "name": "stderr",
          "text": [
            "DEBUG:../experiments_logs/SleepEEG_2_Epilepsy/run1/fine_tune_test_seed_42_2layertransformer/logs_02_02_2023_06_17_45.log:Test on Target datasts test set\n"
          ]
        },
        {
          "output_type": "stream",
          "name": "stdout",
          "text": [
            "MLP Testing: Acc=94.4921| Precision = 92.7471 | Recall = 89.4671 | F1 = 90.9849 | AUROC= 96.2243 | AUPRC=94.0489\n",
            "KNN Testing: Acc=0.8653| Precision = 0.9151 | Recall = 0.6632 | F1 = 0.7069 | AUROC= 0.8463 | AUPRC=0.8113\n",
            "\n",
            "Epoch : 40\n"
          ]
        },
        {
          "output_type": "stream",
          "name": "stderr",
          "text": [
            "DEBUG:../experiments_logs/SleepEEG_2_Epilepsy/run1/fine_tune_test_seed_42_2layertransformer/logs_02_02_2023_06_17_45.log:\n",
            "Epoch : 40\n"
          ]
        },
        {
          "output_type": "stream",
          "name": "stdout",
          "text": [
            " Finetune: loss = 7.0616| Acc=86.6667 | Precision = 86.8304 | Recall = 86.6667 | F1 = 86.6518| AUROC=93.5556 | AUPRC = 93.6815\n",
            "Test on Target datasts test set\n"
          ]
        },
        {
          "output_type": "stream",
          "name": "stderr",
          "text": [
            "DEBUG:../experiments_logs/SleepEEG_2_Epilepsy/run1/fine_tune_test_seed_42_2layertransformer/logs_02_02_2023_06_17_45.log:Test on Target datasts test set\n"
          ]
        },
        {
          "output_type": "stream",
          "name": "stdout",
          "text": [
            "MLP Testing: Acc=94.5359| Precision = 92.8591 | Recall = 89.4944 | F1 = 91.0485 | AUROC= 96.0603 | AUPRC=93.9889\n",
            "KNN Testing: Acc=0.8729| Precision = 0.9205 | Recall = 0.6821 | F1 = 0.7296 | AUROC= 0.8656 | AUPRC=0.8395\n",
            "\n",
            "################## Best testing performance! #########################\n"
          ]
        },
        {
          "output_type": "stream",
          "name": "stderr",
          "text": [
            "DEBUG:../experiments_logs/SleepEEG_2_Epilepsy/run1/fine_tune_test_seed_42_2layertransformer/logs_02_02_2023_06_17_45.log:\n",
            "################## Best testing performance! #########################\n"
          ]
        },
        {
          "output_type": "stream",
          "name": "stdout",
          "text": [
            "Best Testing Performance: Acc=94.6410| Precision = 93.0236 | Recall = 89.6766 | F1 = 91.2238 | AUROC= 96.1677 | AUPRC=94.0092\n",
            "Best KNN F1 0.7610561290274263\n",
            "\n",
            "################## Training is Done! #########################\n"
          ]
        },
        {
          "output_type": "stream",
          "name": "stderr",
          "text": [
            "DEBUG:../experiments_logs/SleepEEG_2_Epilepsy/run1/fine_tune_test_seed_42_2layertransformer/logs_02_02_2023_06_17_45.log:\n",
            "################## Training is Done! #########################\n"
          ]
        },
        {
          "output_type": "stream",
          "name": "stdout",
          "text": [
            "Training time is : 0:01:13.809615\n"
          ]
        },
        {
          "output_type": "stream",
          "name": "stderr",
          "text": [
            "DEBUG:../experiments_logs/SleepEEG_2_Epilepsy/run1/fine_tune_test_seed_42_2layertransformer/logs_02_02_2023_06_17_45.log:Training time is : 0:01:13.809615\n"
          ]
        }
      ]
    },
    {
      "cell_type": "code",
      "source": [
        "cd TFC"
      ],
      "metadata": {
        "colab": {
          "base_uri": "https://localhost:8080/"
        },
        "id": "Q2z_L1Anyr-P",
        "outputId": "c8582277-9e40-4837-976e-c5097215228d"
      },
      "execution_count": null,
      "outputs": [
        {
          "output_type": "stream",
          "name": "stdout",
          "text": [
            "/content/drive/MyDrive/Colab Notebooks/TFC-pretraining-main/code/TFC\n"
          ]
        }
      ]
    },
    {
      "cell_type": "code",
      "source": [
        "ls"
      ],
      "metadata": {
        "colab": {
          "base_uri": "https://localhost:8080/"
        },
        "id": "7MP4mQD_y7c-",
        "outputId": "a6db4ded-976b-40de-bf76-f95167fe75c8"
      },
      "execution_count": null,
      "outputs": [
        {
          "output_type": "stream",
          "name": "stdout",
          "text": [
            "augmentations.py  \u001b[0m\u001b[01;34mexperiments_logs\u001b[0m/  main.py       readme\n",
            "dataloader.py     KNN.py             model.py      trainer.py\n",
            "Data_split.py     loss.py            \u001b[01;34m__pycache__\u001b[0m/  utils.py\n"
          ]
        }
      ]
    },
    {
      "cell_type": "code",
      "source": [
        "!python main.py --training_mode pre_train --pretrain_dataset SleepEEG --target_dataset Epilepsy"
      ],
      "metadata": {
        "colab": {
          "base_uri": "https://localhost:8080/"
        },
        "id": "FPx36GYsyo97",
        "outputId": "cddaaa49-ed0c-44b9-e362-64af70d59346"
      },
      "execution_count": null,
      "outputs": [
        {
          "output_type": "stream",
          "name": "stdout",
          "text": [
            "We are using cuda now.\n",
            "=============================================\n",
            "Pre-training Dataset: SleepEEG\n",
            "Target (fine-tuning) Dataset: Epilepsy\n",
            "Method:  TF-C\n",
            "Mode:    pre_train\n",
            "=============================================\n",
            "Using subset for debugging, the datasize is: 1280\n",
            "Using subset for debugging, the datasize is: 60\n",
            "Data loaded ...\n",
            "Training started ....\n",
            "Pretraining on source dataset\n",
            "Pretraining: overall loss:8.839262962341309, l_t: 3.7407238483428955, l_f:6.083005428314209, l_c:6.874517440795898\n",
            "--- Logging error ---\n",
            "Traceback (most recent call last):\n",
            "  File \"/usr/lib/python3.8/logging/__init__.py\", line 1085, in emit\n",
            "    msg = self.format(record)\n",
            "  File \"/usr/lib/python3.8/logging/__init__.py\", line 929, in format\n",
            "    return fmt.format(record)\n",
            "  File \"/usr/lib/python3.8/logging/__init__.py\", line 668, in format\n",
            "    record.message = record.getMessage()\n",
            "  File \"/usr/lib/python3.8/logging/__init__.py\", line 373, in getMessage\n",
            "    msg = msg % self.args\n",
            "TypeError: not all arguments converted during string formatting\n",
            "Call stack:\n",
            "  File \"main.py\", line 116, in <module>\n",
            "    Trainer(TFC_model, model_optimizer, classifier, classifier_optimizer, train_dl, valid_dl, test_dl, device,\n",
            "  File \"/content/drive/MyDrive/Colab Notebooks/TFC-pretraining-main/code/TFC/trainer.py\", line 36, in Trainer\n",
            "    logger.debug(f'\\nPre-training Epoch : {epoch}', f'Train Loss : {train_loss:.4f}')\n",
            "Message: '\\nPre-training Epoch : 1'\n",
            "Arguments: ('Train Loss : 9.1163',)\n",
            "--- Logging error ---\n",
            "Traceback (most recent call last):\n",
            "  File \"/usr/lib/python3.8/logging/__init__.py\", line 1085, in emit\n",
            "    msg = self.format(record)\n",
            "  File \"/usr/lib/python3.8/logging/__init__.py\", line 929, in format\n",
            "    return fmt.format(record)\n",
            "  File \"/usr/lib/python3.8/logging/__init__.py\", line 668, in format\n",
            "    record.message = record.getMessage()\n",
            "  File \"/usr/lib/python3.8/logging/__init__.py\", line 373, in getMessage\n",
            "    msg = msg % self.args\n",
            "TypeError: not all arguments converted during string formatting\n",
            "Call stack:\n",
            "  File \"main.py\", line 116, in <module>\n",
            "    Trainer(TFC_model, model_optimizer, classifier, classifier_optimizer, train_dl, valid_dl, test_dl, device,\n",
            "  File \"/content/drive/MyDrive/Colab Notebooks/TFC-pretraining-main/code/TFC/trainer.py\", line 36, in Trainer\n",
            "    logger.debug(f'\\nPre-training Epoch : {epoch}', f'Train Loss : {train_loss:.4f}')\n",
            "Message: '\\nPre-training Epoch : 1'\n",
            "Arguments: ('Train Loss : 9.1163',)\n",
            "Pretraining: overall loss:8.403865814208984, l_t: 3.2678513526916504, l_f:5.386228561401367, l_c:6.673050403594971\n",
            "--- Logging error ---\n",
            "Traceback (most recent call last):\n",
            "  File \"/usr/lib/python3.8/logging/__init__.py\", line 1085, in emit\n",
            "    msg = self.format(record)\n",
            "  File \"/usr/lib/python3.8/logging/__init__.py\", line 929, in format\n",
            "    return fmt.format(record)\n",
            "  File \"/usr/lib/python3.8/logging/__init__.py\", line 668, in format\n",
            "    record.message = record.getMessage()\n",
            "  File \"/usr/lib/python3.8/logging/__init__.py\", line 373, in getMessage\n",
            "    msg = msg % self.args\n",
            "TypeError: not all arguments converted during string formatting\n",
            "Call stack:\n",
            "  File \"main.py\", line 116, in <module>\n",
            "    Trainer(TFC_model, model_optimizer, classifier, classifier_optimizer, train_dl, valid_dl, test_dl, device,\n",
            "  File \"/content/drive/MyDrive/Colab Notebooks/TFC-pretraining-main/code/TFC/trainer.py\", line 36, in Trainer\n",
            "    logger.debug(f'\\nPre-training Epoch : {epoch}', f'Train Loss : {train_loss:.4f}')\n",
            "Message: '\\nPre-training Epoch : 2'\n",
            "Arguments: ('Train Loss : 8.7346',)\n",
            "--- Logging error ---\n",
            "Traceback (most recent call last):\n",
            "  File \"/usr/lib/python3.8/logging/__init__.py\", line 1085, in emit\n",
            "    msg = self.format(record)\n",
            "  File \"/usr/lib/python3.8/logging/__init__.py\", line 929, in format\n",
            "    return fmt.format(record)\n",
            "  File \"/usr/lib/python3.8/logging/__init__.py\", line 668, in format\n",
            "    record.message = record.getMessage()\n",
            "  File \"/usr/lib/python3.8/logging/__init__.py\", line 373, in getMessage\n",
            "    msg = msg % self.args\n",
            "TypeError: not all arguments converted during string formatting\n",
            "Call stack:\n",
            "  File \"main.py\", line 116, in <module>\n",
            "    Trainer(TFC_model, model_optimizer, classifier, classifier_optimizer, train_dl, valid_dl, test_dl, device,\n",
            "  File \"/content/drive/MyDrive/Colab Notebooks/TFC-pretraining-main/code/TFC/trainer.py\", line 36, in Trainer\n",
            "    logger.debug(f'\\nPre-training Epoch : {epoch}', f'Train Loss : {train_loss:.4f}')\n",
            "Message: '\\nPre-training Epoch : 2'\n",
            "Arguments: ('Train Loss : 8.7346',)\n",
            "Pretraining: overall loss:8.142424583435059, l_t: 3.2309532165527344, l_f:4.951358795166016, l_c:6.505962371826172\n",
            "--- Logging error ---\n",
            "Traceback (most recent call last):\n",
            "  File \"/usr/lib/python3.8/logging/__init__.py\", line 1085, in emit\n",
            "    msg = self.format(record)\n",
            "  File \"/usr/lib/python3.8/logging/__init__.py\", line 929, in format\n",
            "    return fmt.format(record)\n",
            "  File \"/usr/lib/python3.8/logging/__init__.py\", line 668, in format\n",
            "    record.message = record.getMessage()\n",
            "  File \"/usr/lib/python3.8/logging/__init__.py\", line 373, in getMessage\n",
            "    msg = msg % self.args\n",
            "TypeError: not all arguments converted during string formatting\n",
            "Call stack:\n",
            "  File \"main.py\", line 116, in <module>\n",
            "    Trainer(TFC_model, model_optimizer, classifier, classifier_optimizer, train_dl, valid_dl, test_dl, device,\n",
            "  File \"/content/drive/MyDrive/Colab Notebooks/TFC-pretraining-main/code/TFC/trainer.py\", line 36, in Trainer\n",
            "    logger.debug(f'\\nPre-training Epoch : {epoch}', f'Train Loss : {train_loss:.4f}')\n",
            "Message: '\\nPre-training Epoch : 3'\n",
            "Arguments: ('Train Loss : 8.3570',)\n",
            "--- Logging error ---\n",
            "Traceback (most recent call last):\n",
            "  File \"/usr/lib/python3.8/logging/__init__.py\", line 1085, in emit\n",
            "    msg = self.format(record)\n",
            "  File \"/usr/lib/python3.8/logging/__init__.py\", line 929, in format\n",
            "    return fmt.format(record)\n",
            "  File \"/usr/lib/python3.8/logging/__init__.py\", line 668, in format\n",
            "    record.message = record.getMessage()\n",
            "  File \"/usr/lib/python3.8/logging/__init__.py\", line 373, in getMessage\n",
            "    msg = msg % self.args\n",
            "TypeError: not all arguments converted during string formatting\n",
            "Call stack:\n",
            "  File \"main.py\", line 116, in <module>\n",
            "    Trainer(TFC_model, model_optimizer, classifier, classifier_optimizer, train_dl, valid_dl, test_dl, device,\n",
            "  File \"/content/drive/MyDrive/Colab Notebooks/TFC-pretraining-main/code/TFC/trainer.py\", line 36, in Trainer\n",
            "    logger.debug(f'\\nPre-training Epoch : {epoch}', f'Train Loss : {train_loss:.4f}')\n",
            "Message: '\\nPre-training Epoch : 3'\n",
            "Arguments: ('Train Loss : 8.3570',)\n",
            "Pretraining: overall loss:7.978701114654541, l_t: 3.1161258220672607, l_f:4.795519828796387, l_c:6.396371841430664\n",
            "--- Logging error ---\n",
            "Traceback (most recent call last):\n",
            "  File \"/usr/lib/python3.8/logging/__init__.py\", line 1085, in emit\n",
            "    msg = self.format(record)\n",
            "  File \"/usr/lib/python3.8/logging/__init__.py\", line 929, in format\n",
            "    return fmt.format(record)\n",
            "  File \"/usr/lib/python3.8/logging/__init__.py\", line 668, in format\n",
            "    record.message = record.getMessage()\n",
            "  File \"/usr/lib/python3.8/logging/__init__.py\", line 373, in getMessage\n",
            "    msg = msg % self.args\n",
            "TypeError: not all arguments converted during string formatting\n",
            "Call stack:\n",
            "  File \"main.py\", line 116, in <module>\n",
            "    Trainer(TFC_model, model_optimizer, classifier, classifier_optimizer, train_dl, valid_dl, test_dl, device,\n",
            "  File \"/content/drive/MyDrive/Colab Notebooks/TFC-pretraining-main/code/TFC/trainer.py\", line 36, in Trainer\n",
            "    logger.debug(f'\\nPre-training Epoch : {epoch}', f'Train Loss : {train_loss:.4f}')\n",
            "Message: '\\nPre-training Epoch : 4'\n",
            "Arguments: ('Train Loss : 8.0947',)\n",
            "--- Logging error ---\n",
            "Traceback (most recent call last):\n",
            "  File \"/usr/lib/python3.8/logging/__init__.py\", line 1085, in emit\n",
            "    msg = self.format(record)\n",
            "  File \"/usr/lib/python3.8/logging/__init__.py\", line 929, in format\n",
            "    return fmt.format(record)\n",
            "  File \"/usr/lib/python3.8/logging/__init__.py\", line 668, in format\n",
            "    record.message = record.getMessage()\n",
            "  File \"/usr/lib/python3.8/logging/__init__.py\", line 373, in getMessage\n",
            "    msg = msg % self.args\n",
            "TypeError: not all arguments converted during string formatting\n",
            "Call stack:\n",
            "  File \"main.py\", line 116, in <module>\n",
            "    Trainer(TFC_model, model_optimizer, classifier, classifier_optimizer, train_dl, valid_dl, test_dl, device,\n",
            "  File \"/content/drive/MyDrive/Colab Notebooks/TFC-pretraining-main/code/TFC/trainer.py\", line 36, in Trainer\n",
            "    logger.debug(f'\\nPre-training Epoch : {epoch}', f'Train Loss : {train_loss:.4f}')\n",
            "Message: '\\nPre-training Epoch : 4'\n",
            "Arguments: ('Train Loss : 8.0947',)\n",
            "Pretraining: overall loss:7.765730857849121, l_t: 3.192784070968628, l_f:4.536465644836426, l_c:6.219881057739258\n",
            "--- Logging error ---\n",
            "Traceback (most recent call last):\n",
            "  File \"/usr/lib/python3.8/logging/__init__.py\", line 1085, in emit\n",
            "    msg = self.format(record)\n",
            "  File \"/usr/lib/python3.8/logging/__init__.py\", line 929, in format\n",
            "    return fmt.format(record)\n",
            "  File \"/usr/lib/python3.8/logging/__init__.py\", line 668, in format\n",
            "    record.message = record.getMessage()\n",
            "  File \"/usr/lib/python3.8/logging/__init__.py\", line 373, in getMessage\n",
            "    msg = msg % self.args\n",
            "TypeError: not all arguments converted during string formatting\n",
            "Call stack:\n",
            "  File \"main.py\", line 116, in <module>\n",
            "    Trainer(TFC_model, model_optimizer, classifier, classifier_optimizer, train_dl, valid_dl, test_dl, device,\n",
            "  File \"/content/drive/MyDrive/Colab Notebooks/TFC-pretraining-main/code/TFC/trainer.py\", line 36, in Trainer\n",
            "    logger.debug(f'\\nPre-training Epoch : {epoch}', f'Train Loss : {train_loss:.4f}')\n",
            "Message: '\\nPre-training Epoch : 5'\n",
            "Arguments: ('Train Loss : 7.9016',)\n",
            "--- Logging error ---\n",
            "Traceback (most recent call last):\n",
            "  File \"/usr/lib/python3.8/logging/__init__.py\", line 1085, in emit\n",
            "    msg = self.format(record)\n",
            "  File \"/usr/lib/python3.8/logging/__init__.py\", line 929, in format\n",
            "    return fmt.format(record)\n",
            "  File \"/usr/lib/python3.8/logging/__init__.py\", line 668, in format\n",
            "    record.message = record.getMessage()\n",
            "  File \"/usr/lib/python3.8/logging/__init__.py\", line 373, in getMessage\n",
            "    msg = msg % self.args\n",
            "TypeError: not all arguments converted during string formatting\n",
            "Call stack:\n",
            "  File \"main.py\", line 116, in <module>\n",
            "    Trainer(TFC_model, model_optimizer, classifier, classifier_optimizer, train_dl, valid_dl, test_dl, device,\n",
            "  File \"/content/drive/MyDrive/Colab Notebooks/TFC-pretraining-main/code/TFC/trainer.py\", line 36, in Trainer\n",
            "    logger.debug(f'\\nPre-training Epoch : {epoch}', f'Train Loss : {train_loss:.4f}')\n",
            "Message: '\\nPre-training Epoch : 5'\n",
            "Arguments: ('Train Loss : 7.9016',)\n",
            "Pretraining: overall loss:7.442856311798096, l_t: 2.9162821769714355, l_f:4.396621227264404, l_c:5.980275630950928\n",
            "--- Logging error ---\n",
            "Traceback (most recent call last):\n",
            "  File \"/usr/lib/python3.8/logging/__init__.py\", line 1085, in emit\n",
            "    msg = self.format(record)\n",
            "  File \"/usr/lib/python3.8/logging/__init__.py\", line 929, in format\n",
            "    return fmt.format(record)\n",
            "  File \"/usr/lib/python3.8/logging/__init__.py\", line 668, in format\n",
            "    record.message = record.getMessage()\n",
            "  File \"/usr/lib/python3.8/logging/__init__.py\", line 373, in getMessage\n",
            "    msg = msg % self.args\n",
            "TypeError: not all arguments converted during string formatting\n",
            "Call stack:\n",
            "  File \"main.py\", line 116, in <module>\n",
            "    Trainer(TFC_model, model_optimizer, classifier, classifier_optimizer, train_dl, valid_dl, test_dl, device,\n",
            "  File \"/content/drive/MyDrive/Colab Notebooks/TFC-pretraining-main/code/TFC/trainer.py\", line 36, in Trainer\n",
            "    logger.debug(f'\\nPre-training Epoch : {epoch}', f'Train Loss : {train_loss:.4f}')\n",
            "Message: '\\nPre-training Epoch : 6'\n",
            "Arguments: ('Train Loss : 7.6467',)\n",
            "--- Logging error ---\n",
            "Traceback (most recent call last):\n",
            "  File \"/usr/lib/python3.8/logging/__init__.py\", line 1085, in emit\n",
            "    msg = self.format(record)\n",
            "  File \"/usr/lib/python3.8/logging/__init__.py\", line 929, in format\n",
            "    return fmt.format(record)\n",
            "  File \"/usr/lib/python3.8/logging/__init__.py\", line 668, in format\n",
            "    record.message = record.getMessage()\n",
            "  File \"/usr/lib/python3.8/logging/__init__.py\", line 373, in getMessage\n",
            "    msg = msg % self.args\n",
            "TypeError: not all arguments converted during string formatting\n",
            "Call stack:\n",
            "  File \"main.py\", line 116, in <module>\n",
            "    Trainer(TFC_model, model_optimizer, classifier, classifier_optimizer, train_dl, valid_dl, test_dl, device,\n",
            "  File \"/content/drive/MyDrive/Colab Notebooks/TFC-pretraining-main/code/TFC/trainer.py\", line 36, in Trainer\n",
            "    logger.debug(f'\\nPre-training Epoch : {epoch}', f'Train Loss : {train_loss:.4f}')\n",
            "Message: '\\nPre-training Epoch : 6'\n",
            "Arguments: ('Train Loss : 7.6467',)\n",
            "Pretraining: overall loss:7.338402271270752, l_t: 2.919527769088745, l_f:4.426976203918457, l_c:5.869101524353027\n",
            "--- Logging error ---\n",
            "Traceback (most recent call last):\n",
            "  File \"/usr/lib/python3.8/logging/__init__.py\", line 1085, in emit\n",
            "    msg = self.format(record)\n",
            "  File \"/usr/lib/python3.8/logging/__init__.py\", line 929, in format\n",
            "    return fmt.format(record)\n",
            "  File \"/usr/lib/python3.8/logging/__init__.py\", line 668, in format\n",
            "    record.message = record.getMessage()\n",
            "  File \"/usr/lib/python3.8/logging/__init__.py\", line 373, in getMessage\n",
            "    msg = msg % self.args\n",
            "TypeError: not all arguments converted during string formatting\n",
            "Call stack:\n",
            "  File \"main.py\", line 116, in <module>\n",
            "    Trainer(TFC_model, model_optimizer, classifier, classifier_optimizer, train_dl, valid_dl, test_dl, device,\n",
            "  File \"/content/drive/MyDrive/Colab Notebooks/TFC-pretraining-main/code/TFC/trainer.py\", line 36, in Trainer\n",
            "    logger.debug(f'\\nPre-training Epoch : {epoch}', f'Train Loss : {train_loss:.4f}')\n",
            "Message: '\\nPre-training Epoch : 7'\n",
            "Arguments: ('Train Loss : 7.4165',)\n",
            "--- Logging error ---\n",
            "Traceback (most recent call last):\n",
            "  File \"/usr/lib/python3.8/logging/__init__.py\", line 1085, in emit\n",
            "    msg = self.format(record)\n",
            "  File \"/usr/lib/python3.8/logging/__init__.py\", line 929, in format\n",
            "    return fmt.format(record)\n",
            "  File \"/usr/lib/python3.8/logging/__init__.py\", line 668, in format\n",
            "    record.message = record.getMessage()\n",
            "  File \"/usr/lib/python3.8/logging/__init__.py\", line 373, in getMessage\n",
            "    msg = msg % self.args\n",
            "TypeError: not all arguments converted during string formatting\n",
            "Call stack:\n",
            "  File \"main.py\", line 116, in <module>\n",
            "    Trainer(TFC_model, model_optimizer, classifier, classifier_optimizer, train_dl, valid_dl, test_dl, device,\n",
            "  File \"/content/drive/MyDrive/Colab Notebooks/TFC-pretraining-main/code/TFC/trainer.py\", line 36, in Trainer\n",
            "    logger.debug(f'\\nPre-training Epoch : {epoch}', f'Train Loss : {train_loss:.4f}')\n",
            "Message: '\\nPre-training Epoch : 7'\n",
            "Arguments: ('Train Loss : 7.4165',)\n",
            "Pretraining: overall loss:7.026183128356934, l_t: 2.888298988342285, l_f:4.219062328338623, l_c:5.604710578918457\n",
            "--- Logging error ---\n",
            "Traceback (most recent call last):\n",
            "  File \"/usr/lib/python3.8/logging/__init__.py\", line 1085, in emit\n",
            "    msg = self.format(record)\n",
            "  File \"/usr/lib/python3.8/logging/__init__.py\", line 929, in format\n",
            "    return fmt.format(record)\n",
            "  File \"/usr/lib/python3.8/logging/__init__.py\", line 668, in format\n",
            "    record.message = record.getMessage()\n",
            "  File \"/usr/lib/python3.8/logging/__init__.py\", line 373, in getMessage\n",
            "    msg = msg % self.args\n",
            "TypeError: not all arguments converted during string formatting\n",
            "Call stack:\n",
            "  File \"main.py\", line 116, in <module>\n",
            "    Trainer(TFC_model, model_optimizer, classifier, classifier_optimizer, train_dl, valid_dl, test_dl, device,\n",
            "  File \"/content/drive/MyDrive/Colab Notebooks/TFC-pretraining-main/code/TFC/trainer.py\", line 36, in Trainer\n",
            "    logger.debug(f'\\nPre-training Epoch : {epoch}', f'Train Loss : {train_loss:.4f}')\n",
            "Message: '\\nPre-training Epoch : 8'\n",
            "Arguments: ('Train Loss : 7.2365',)\n",
            "--- Logging error ---\n",
            "Traceback (most recent call last):\n",
            "  File \"/usr/lib/python3.8/logging/__init__.py\", line 1085, in emit\n",
            "    msg = self.format(record)\n",
            "  File \"/usr/lib/python3.8/logging/__init__.py\", line 929, in format\n",
            "    return fmt.format(record)\n",
            "  File \"/usr/lib/python3.8/logging/__init__.py\", line 668, in format\n",
            "    record.message = record.getMessage()\n",
            "  File \"/usr/lib/python3.8/logging/__init__.py\", line 373, in getMessage\n",
            "    msg = msg % self.args\n",
            "TypeError: not all arguments converted during string formatting\n",
            "Call stack:\n",
            "  File \"main.py\", line 116, in <module>\n",
            "    Trainer(TFC_model, model_optimizer, classifier, classifier_optimizer, train_dl, valid_dl, test_dl, device,\n",
            "  File \"/content/drive/MyDrive/Colab Notebooks/TFC-pretraining-main/code/TFC/trainer.py\", line 36, in Trainer\n",
            "    logger.debug(f'\\nPre-training Epoch : {epoch}', f'Train Loss : {train_loss:.4f}')\n",
            "Message: '\\nPre-training Epoch : 8'\n",
            "Arguments: ('Train Loss : 7.2365',)\n",
            "Pretraining: overall loss:7.08957576751709, l_t: 3.0404086112976074, l_f:4.213582515716553, l_c:5.638777732849121\n",
            "--- Logging error ---\n",
            "Traceback (most recent call last):\n",
            "  File \"/usr/lib/python3.8/logging/__init__.py\", line 1085, in emit\n",
            "    msg = self.format(record)\n",
            "  File \"/usr/lib/python3.8/logging/__init__.py\", line 929, in format\n",
            "    return fmt.format(record)\n",
            "  File \"/usr/lib/python3.8/logging/__init__.py\", line 668, in format\n",
            "    record.message = record.getMessage()\n",
            "  File \"/usr/lib/python3.8/logging/__init__.py\", line 373, in getMessage\n",
            "    msg = msg % self.args\n",
            "TypeError: not all arguments converted during string formatting\n",
            "Call stack:\n",
            "  File \"main.py\", line 116, in <module>\n",
            "    Trainer(TFC_model, model_optimizer, classifier, classifier_optimizer, train_dl, valid_dl, test_dl, device,\n",
            "  File \"/content/drive/MyDrive/Colab Notebooks/TFC-pretraining-main/code/TFC/trainer.py\", line 36, in Trainer\n",
            "    logger.debug(f'\\nPre-training Epoch : {epoch}', f'Train Loss : {train_loss:.4f}')\n",
            "Message: '\\nPre-training Epoch : 9'\n",
            "Arguments: ('Train Loss : 7.3210',)\n",
            "--- Logging error ---\n",
            "Traceback (most recent call last):\n",
            "  File \"/usr/lib/python3.8/logging/__init__.py\", line 1085, in emit\n",
            "    msg = self.format(record)\n",
            "  File \"/usr/lib/python3.8/logging/__init__.py\", line 929, in format\n",
            "    return fmt.format(record)\n",
            "  File \"/usr/lib/python3.8/logging/__init__.py\", line 668, in format\n",
            "    record.message = record.getMessage()\n",
            "  File \"/usr/lib/python3.8/logging/__init__.py\", line 373, in getMessage\n",
            "    msg = msg % self.args\n",
            "TypeError: not all arguments converted during string formatting\n",
            "Call stack:\n",
            "  File \"main.py\", line 116, in <module>\n",
            "    Trainer(TFC_model, model_optimizer, classifier, classifier_optimizer, train_dl, valid_dl, test_dl, device,\n",
            "  File \"/content/drive/MyDrive/Colab Notebooks/TFC-pretraining-main/code/TFC/trainer.py\", line 36, in Trainer\n",
            "    logger.debug(f'\\nPre-training Epoch : {epoch}', f'Train Loss : {train_loss:.4f}')\n",
            "Message: '\\nPre-training Epoch : 9'\n",
            "Arguments: ('Train Loss : 7.3210',)\n",
            "Pretraining: overall loss:7.178369998931885, l_t: 3.1658596992492676, l_f:4.148070335388184, l_c:5.715583801269531\n",
            "--- Logging error ---\n",
            "Traceback (most recent call last):\n",
            "  File \"/usr/lib/python3.8/logging/__init__.py\", line 1085, in emit\n",
            "    msg = self.format(record)\n",
            "  File \"/usr/lib/python3.8/logging/__init__.py\", line 929, in format\n",
            "    return fmt.format(record)\n",
            "  File \"/usr/lib/python3.8/logging/__init__.py\", line 668, in format\n",
            "    record.message = record.getMessage()\n",
            "  File \"/usr/lib/python3.8/logging/__init__.py\", line 373, in getMessage\n",
            "    msg = msg % self.args\n",
            "TypeError: not all arguments converted during string formatting\n",
            "Call stack:\n",
            "  File \"main.py\", line 116, in <module>\n",
            "    Trainer(TFC_model, model_optimizer, classifier, classifier_optimizer, train_dl, valid_dl, test_dl, device,\n",
            "  File \"/content/drive/MyDrive/Colab Notebooks/TFC-pretraining-main/code/TFC/trainer.py\", line 36, in Trainer\n",
            "    logger.debug(f'\\nPre-training Epoch : {epoch}', f'Train Loss : {train_loss:.4f}')\n",
            "Message: '\\nPre-training Epoch : 10'\n",
            "Arguments: ('Train Loss : 7.3248',)\n",
            "--- Logging error ---\n",
            "Traceback (most recent call last):\n",
            "  File \"/usr/lib/python3.8/logging/__init__.py\", line 1085, in emit\n",
            "    msg = self.format(record)\n",
            "  File \"/usr/lib/python3.8/logging/__init__.py\", line 929, in format\n",
            "    return fmt.format(record)\n",
            "  File \"/usr/lib/python3.8/logging/__init__.py\", line 668, in format\n",
            "    record.message = record.getMessage()\n",
            "  File \"/usr/lib/python3.8/logging/__init__.py\", line 373, in getMessage\n",
            "    msg = msg % self.args\n",
            "TypeError: not all arguments converted during string formatting\n",
            "Call stack:\n",
            "  File \"main.py\", line 116, in <module>\n",
            "    Trainer(TFC_model, model_optimizer, classifier, classifier_optimizer, train_dl, valid_dl, test_dl, device,\n",
            "  File \"/content/drive/MyDrive/Colab Notebooks/TFC-pretraining-main/code/TFC/trainer.py\", line 36, in Trainer\n",
            "    logger.debug(f'\\nPre-training Epoch : {epoch}', f'Train Loss : {train_loss:.4f}')\n",
            "Message: '\\nPre-training Epoch : 10'\n",
            "Arguments: ('Train Loss : 7.3248',)\n",
            "Pretraining: overall loss:6.8542327880859375, l_t: 3.0797696113586426, l_f:4.0236406326293945, l_c:5.433550834655762\n",
            "--- Logging error ---\n",
            "Traceback (most recent call last):\n",
            "  File \"/usr/lib/python3.8/logging/__init__.py\", line 1085, in emit\n",
            "    msg = self.format(record)\n",
            "  File \"/usr/lib/python3.8/logging/__init__.py\", line 929, in format\n",
            "    return fmt.format(record)\n",
            "  File \"/usr/lib/python3.8/logging/__init__.py\", line 668, in format\n",
            "    record.message = record.getMessage()\n",
            "  File \"/usr/lib/python3.8/logging/__init__.py\", line 373, in getMessage\n",
            "    msg = msg % self.args\n",
            "TypeError: not all arguments converted during string formatting\n",
            "Call stack:\n",
            "  File \"main.py\", line 116, in <module>\n",
            "    Trainer(TFC_model, model_optimizer, classifier, classifier_optimizer, train_dl, valid_dl, test_dl, device,\n",
            "  File \"/content/drive/MyDrive/Colab Notebooks/TFC-pretraining-main/code/TFC/trainer.py\", line 36, in Trainer\n",
            "    logger.debug(f'\\nPre-training Epoch : {epoch}', f'Train Loss : {train_loss:.4f}')\n",
            "Message: '\\nPre-training Epoch : 11'\n",
            "Arguments: ('Train Loss : 7.2089',)\n",
            "--- Logging error ---\n",
            "Traceback (most recent call last):\n",
            "  File \"/usr/lib/python3.8/logging/__init__.py\", line 1085, in emit\n",
            "    msg = self.format(record)\n",
            "  File \"/usr/lib/python3.8/logging/__init__.py\", line 929, in format\n",
            "    return fmt.format(record)\n",
            "  File \"/usr/lib/python3.8/logging/__init__.py\", line 668, in format\n",
            "    record.message = record.getMessage()\n",
            "  File \"/usr/lib/python3.8/logging/__init__.py\", line 373, in getMessage\n",
            "    msg = msg % self.args\n",
            "TypeError: not all arguments converted during string formatting\n",
            "Call stack:\n",
            "  File \"main.py\", line 116, in <module>\n",
            "    Trainer(TFC_model, model_optimizer, classifier, classifier_optimizer, train_dl, valid_dl, test_dl, device,\n",
            "  File \"/content/drive/MyDrive/Colab Notebooks/TFC-pretraining-main/code/TFC/trainer.py\", line 36, in Trainer\n",
            "    logger.debug(f'\\nPre-training Epoch : {epoch}', f'Train Loss : {train_loss:.4f}')\n",
            "Message: '\\nPre-training Epoch : 11'\n",
            "Arguments: ('Train Loss : 7.2089',)\n",
            "Pretraining: overall loss:6.820976734161377, l_t: 3.0276660919189453, l_f:4.060770034790039, l_c:5.403289318084717\n",
            "--- Logging error ---\n",
            "Traceback (most recent call last):\n",
            "  File \"/usr/lib/python3.8/logging/__init__.py\", line 1085, in emit\n",
            "    msg = self.format(record)\n",
            "  File \"/usr/lib/python3.8/logging/__init__.py\", line 929, in format\n",
            "    return fmt.format(record)\n",
            "  File \"/usr/lib/python3.8/logging/__init__.py\", line 668, in format\n",
            "    record.message = record.getMessage()\n",
            "  File \"/usr/lib/python3.8/logging/__init__.py\", line 373, in getMessage\n",
            "    msg = msg % self.args\n",
            "TypeError: not all arguments converted during string formatting\n",
            "Call stack:\n",
            "  File \"main.py\", line 116, in <module>\n",
            "    Trainer(TFC_model, model_optimizer, classifier, classifier_optimizer, train_dl, valid_dl, test_dl, device,\n",
            "  File \"/content/drive/MyDrive/Colab Notebooks/TFC-pretraining-main/code/TFC/trainer.py\", line 36, in Trainer\n",
            "    logger.debug(f'\\nPre-training Epoch : {epoch}', f'Train Loss : {train_loss:.4f}')\n",
            "Message: '\\nPre-training Epoch : 12'\n",
            "Arguments: ('Train Loss : 7.0016',)\n",
            "--- Logging error ---\n",
            "Traceback (most recent call last):\n",
            "  File \"/usr/lib/python3.8/logging/__init__.py\", line 1085, in emit\n",
            "    msg = self.format(record)\n",
            "  File \"/usr/lib/python3.8/logging/__init__.py\", line 929, in format\n",
            "    return fmt.format(record)\n",
            "  File \"/usr/lib/python3.8/logging/__init__.py\", line 668, in format\n",
            "    record.message = record.getMessage()\n",
            "  File \"/usr/lib/python3.8/logging/__init__.py\", line 373, in getMessage\n",
            "    msg = msg % self.args\n",
            "TypeError: not all arguments converted during string formatting\n",
            "Call stack:\n",
            "  File \"main.py\", line 116, in <module>\n",
            "    Trainer(TFC_model, model_optimizer, classifier, classifier_optimizer, train_dl, valid_dl, test_dl, device,\n",
            "  File \"/content/drive/MyDrive/Colab Notebooks/TFC-pretraining-main/code/TFC/trainer.py\", line 36, in Trainer\n",
            "    logger.debug(f'\\nPre-training Epoch : {epoch}', f'Train Loss : {train_loss:.4f}')\n",
            "Message: '\\nPre-training Epoch : 12'\n",
            "Arguments: ('Train Loss : 7.0016',)\n",
            "Pretraining: overall loss:6.788580894470215, l_t: 3.0895323753356934, l_f:4.089027404785156, l_c:5.352869033813477\n",
            "--- Logging error ---\n",
            "Traceback (most recent call last):\n",
            "  File \"/usr/lib/python3.8/logging/__init__.py\", line 1085, in emit\n",
            "    msg = self.format(record)\n",
            "  File \"/usr/lib/python3.8/logging/__init__.py\", line 929, in format\n",
            "    return fmt.format(record)\n",
            "  File \"/usr/lib/python3.8/logging/__init__.py\", line 668, in format\n",
            "    record.message = record.getMessage()\n",
            "  File \"/usr/lib/python3.8/logging/__init__.py\", line 373, in getMessage\n",
            "    msg = msg % self.args\n",
            "TypeError: not all arguments converted during string formatting\n",
            "Call stack:\n",
            "  File \"main.py\", line 116, in <module>\n",
            "    Trainer(TFC_model, model_optimizer, classifier, classifier_optimizer, train_dl, valid_dl, test_dl, device,\n",
            "  File \"/content/drive/MyDrive/Colab Notebooks/TFC-pretraining-main/code/TFC/trainer.py\", line 36, in Trainer\n",
            "    logger.debug(f'\\nPre-training Epoch : {epoch}', f'Train Loss : {train_loss:.4f}')\n",
            "Message: '\\nPre-training Epoch : 13'\n",
            "Arguments: ('Train Loss : 6.9031',)\n",
            "--- Logging error ---\n",
            "Traceback (most recent call last):\n",
            "  File \"/usr/lib/python3.8/logging/__init__.py\", line 1085, in emit\n",
            "    msg = self.format(record)\n",
            "  File \"/usr/lib/python3.8/logging/__init__.py\", line 929, in format\n",
            "    return fmt.format(record)\n",
            "  File \"/usr/lib/python3.8/logging/__init__.py\", line 668, in format\n",
            "    record.message = record.getMessage()\n",
            "  File \"/usr/lib/python3.8/logging/__init__.py\", line 373, in getMessage\n",
            "    msg = msg % self.args\n",
            "TypeError: not all arguments converted during string formatting\n",
            "Call stack:\n",
            "  File \"main.py\", line 116, in <module>\n",
            "    Trainer(TFC_model, model_optimizer, classifier, classifier_optimizer, train_dl, valid_dl, test_dl, device,\n",
            "  File \"/content/drive/MyDrive/Colab Notebooks/TFC-pretraining-main/code/TFC/trainer.py\", line 36, in Trainer\n",
            "    logger.debug(f'\\nPre-training Epoch : {epoch}', f'Train Loss : {train_loss:.4f}')\n",
            "Message: '\\nPre-training Epoch : 13'\n",
            "Arguments: ('Train Loss : 6.9031',)\n",
            "Pretraining: overall loss:6.9020280838012695, l_t: 3.282625436782837, l_f:4.001533031463623, l_c:5.445196151733398\n",
            "--- Logging error ---\n",
            "Traceback (most recent call last):\n",
            "  File \"/usr/lib/python3.8/logging/__init__.py\", line 1085, in emit\n",
            "    msg = self.format(record)\n",
            "  File \"/usr/lib/python3.8/logging/__init__.py\", line 929, in format\n",
            "    return fmt.format(record)\n",
            "  File \"/usr/lib/python3.8/logging/__init__.py\", line 668, in format\n",
            "    record.message = record.getMessage()\n",
            "  File \"/usr/lib/python3.8/logging/__init__.py\", line 373, in getMessage\n",
            "    msg = msg % self.args\n",
            "TypeError: not all arguments converted during string formatting\n",
            "Call stack:\n",
            "  File \"main.py\", line 116, in <module>\n",
            "    Trainer(TFC_model, model_optimizer, classifier, classifier_optimizer, train_dl, valid_dl, test_dl, device,\n",
            "  File \"/content/drive/MyDrive/Colab Notebooks/TFC-pretraining-main/code/TFC/trainer.py\", line 36, in Trainer\n",
            "    logger.debug(f'\\nPre-training Epoch : {epoch}', f'Train Loss : {train_loss:.4f}')\n",
            "Message: '\\nPre-training Epoch : 14'\n",
            "Arguments: ('Train Loss : 6.8261',)\n",
            "--- Logging error ---\n",
            "Traceback (most recent call last):\n",
            "  File \"/usr/lib/python3.8/logging/__init__.py\", line 1085, in emit\n",
            "    msg = self.format(record)\n",
            "  File \"/usr/lib/python3.8/logging/__init__.py\", line 929, in format\n",
            "    return fmt.format(record)\n",
            "  File \"/usr/lib/python3.8/logging/__init__.py\", line 668, in format\n",
            "    record.message = record.getMessage()\n",
            "  File \"/usr/lib/python3.8/logging/__init__.py\", line 373, in getMessage\n",
            "    msg = msg % self.args\n",
            "TypeError: not all arguments converted during string formatting\n",
            "Call stack:\n",
            "  File \"main.py\", line 116, in <module>\n",
            "    Trainer(TFC_model, model_optimizer, classifier, classifier_optimizer, train_dl, valid_dl, test_dl, device,\n",
            "  File \"/content/drive/MyDrive/Colab Notebooks/TFC-pretraining-main/code/TFC/trainer.py\", line 36, in Trainer\n",
            "    logger.debug(f'\\nPre-training Epoch : {epoch}', f'Train Loss : {train_loss:.4f}')\n",
            "Message: '\\nPre-training Epoch : 14'\n",
            "Arguments: ('Train Loss : 6.8261',)\n",
            "Pretraining: overall loss:6.701531410217285, l_t: 3.1564221382141113, l_f:4.167453289031982, l_c:5.236756324768066\n",
            "--- Logging error ---\n",
            "Traceback (most recent call last):\n",
            "  File \"/usr/lib/python3.8/logging/__init__.py\", line 1085, in emit\n",
            "    msg = self.format(record)\n",
            "  File \"/usr/lib/python3.8/logging/__init__.py\", line 929, in format\n",
            "    return fmt.format(record)\n",
            "  File \"/usr/lib/python3.8/logging/__init__.py\", line 668, in format\n",
            "    record.message = record.getMessage()\n",
            "  File \"/usr/lib/python3.8/logging/__init__.py\", line 373, in getMessage\n",
            "    msg = msg % self.args\n",
            "TypeError: not all arguments converted during string formatting\n",
            "Call stack:\n",
            "  File \"main.py\", line 116, in <module>\n",
            "    Trainer(TFC_model, model_optimizer, classifier, classifier_optimizer, train_dl, valid_dl, test_dl, device,\n",
            "  File \"/content/drive/MyDrive/Colab Notebooks/TFC-pretraining-main/code/TFC/trainer.py\", line 36, in Trainer\n",
            "    logger.debug(f'\\nPre-training Epoch : {epoch}', f'Train Loss : {train_loss:.4f}')\n",
            "Message: '\\nPre-training Epoch : 15'\n",
            "Arguments: ('Train Loss : 6.6702',)\n",
            "--- Logging error ---\n",
            "Traceback (most recent call last):\n",
            "  File \"/usr/lib/python3.8/logging/__init__.py\", line 1085, in emit\n",
            "    msg = self.format(record)\n",
            "  File \"/usr/lib/python3.8/logging/__init__.py\", line 929, in format\n",
            "    return fmt.format(record)\n",
            "  File \"/usr/lib/python3.8/logging/__init__.py\", line 668, in format\n",
            "    record.message = record.getMessage()\n",
            "  File \"/usr/lib/python3.8/logging/__init__.py\", line 373, in getMessage\n",
            "    msg = msg % self.args\n",
            "TypeError: not all arguments converted during string formatting\n",
            "Call stack:\n",
            "  File \"main.py\", line 116, in <module>\n",
            "    Trainer(TFC_model, model_optimizer, classifier, classifier_optimizer, train_dl, valid_dl, test_dl, device,\n",
            "  File \"/content/drive/MyDrive/Colab Notebooks/TFC-pretraining-main/code/TFC/trainer.py\", line 36, in Trainer\n",
            "    logger.debug(f'\\nPre-training Epoch : {epoch}', f'Train Loss : {train_loss:.4f}')\n",
            "Message: '\\nPre-training Epoch : 15'\n",
            "Arguments: ('Train Loss : 6.6702',)\n",
            "Pretraining: overall loss:6.313504695892334, l_t: 2.912980794906616, l_f:3.9119019508361816, l_c:4.948528289794922\n",
            "--- Logging error ---\n",
            "Traceback (most recent call last):\n",
            "  File \"/usr/lib/python3.8/logging/__init__.py\", line 1085, in emit\n",
            "    msg = self.format(record)\n",
            "  File \"/usr/lib/python3.8/logging/__init__.py\", line 929, in format\n",
            "    return fmt.format(record)\n",
            "  File \"/usr/lib/python3.8/logging/__init__.py\", line 668, in format\n",
            "    record.message = record.getMessage()\n",
            "  File \"/usr/lib/python3.8/logging/__init__.py\", line 373, in getMessage\n",
            "    msg = msg % self.args\n",
            "TypeError: not all arguments converted during string formatting\n",
            "Call stack:\n",
            "  File \"main.py\", line 116, in <module>\n",
            "    Trainer(TFC_model, model_optimizer, classifier, classifier_optimizer, train_dl, valid_dl, test_dl, device,\n",
            "  File \"/content/drive/MyDrive/Colab Notebooks/TFC-pretraining-main/code/TFC/trainer.py\", line 36, in Trainer\n",
            "    logger.debug(f'\\nPre-training Epoch : {epoch}', f'Train Loss : {train_loss:.4f}')\n",
            "Message: '\\nPre-training Epoch : 16'\n",
            "Arguments: ('Train Loss : 6.5437',)\n",
            "--- Logging error ---\n",
            "Traceback (most recent call last):\n",
            "  File \"/usr/lib/python3.8/logging/__init__.py\", line 1085, in emit\n",
            "    msg = self.format(record)\n",
            "  File \"/usr/lib/python3.8/logging/__init__.py\", line 929, in format\n",
            "    return fmt.format(record)\n",
            "  File \"/usr/lib/python3.8/logging/__init__.py\", line 668, in format\n",
            "    record.message = record.getMessage()\n",
            "  File \"/usr/lib/python3.8/logging/__init__.py\", line 373, in getMessage\n",
            "    msg = msg % self.args\n",
            "TypeError: not all arguments converted during string formatting\n",
            "Call stack:\n",
            "  File \"main.py\", line 116, in <module>\n",
            "    Trainer(TFC_model, model_optimizer, classifier, classifier_optimizer, train_dl, valid_dl, test_dl, device,\n",
            "  File \"/content/drive/MyDrive/Colab Notebooks/TFC-pretraining-main/code/TFC/trainer.py\", line 36, in Trainer\n",
            "    logger.debug(f'\\nPre-training Epoch : {epoch}', f'Train Loss : {train_loss:.4f}')\n",
            "Message: '\\nPre-training Epoch : 16'\n",
            "Arguments: ('Train Loss : 6.5437',)\n",
            "Pretraining: overall loss:6.527718544006348, l_t: 3.096025228500366, l_f:4.100861549377441, l_c:5.088341236114502\n",
            "--- Logging error ---\n",
            "Traceback (most recent call last):\n",
            "  File \"/usr/lib/python3.8/logging/__init__.py\", line 1085, in emit\n",
            "    msg = self.format(record)\n",
            "  File \"/usr/lib/python3.8/logging/__init__.py\", line 929, in format\n",
            "    return fmt.format(record)\n",
            "  File \"/usr/lib/python3.8/logging/__init__.py\", line 668, in format\n",
            "    record.message = record.getMessage()\n",
            "  File \"/usr/lib/python3.8/logging/__init__.py\", line 373, in getMessage\n",
            "    msg = msg % self.args\n",
            "TypeError: not all arguments converted during string formatting\n",
            "Call stack:\n",
            "  File \"main.py\", line 116, in <module>\n",
            "    Trainer(TFC_model, model_optimizer, classifier, classifier_optimizer, train_dl, valid_dl, test_dl, device,\n",
            "  File \"/content/drive/MyDrive/Colab Notebooks/TFC-pretraining-main/code/TFC/trainer.py\", line 36, in Trainer\n",
            "    logger.debug(f'\\nPre-training Epoch : {epoch}', f'Train Loss : {train_loss:.4f}')\n",
            "Message: '\\nPre-training Epoch : 17'\n",
            "Arguments: ('Train Loss : 6.5100',)\n",
            "--- Logging error ---\n",
            "Traceback (most recent call last):\n",
            "  File \"/usr/lib/python3.8/logging/__init__.py\", line 1085, in emit\n",
            "    msg = self.format(record)\n",
            "  File \"/usr/lib/python3.8/logging/__init__.py\", line 929, in format\n",
            "    return fmt.format(record)\n",
            "  File \"/usr/lib/python3.8/logging/__init__.py\", line 668, in format\n",
            "    record.message = record.getMessage()\n",
            "  File \"/usr/lib/python3.8/logging/__init__.py\", line 373, in getMessage\n",
            "    msg = msg % self.args\n",
            "TypeError: not all arguments converted during string formatting\n",
            "Call stack:\n",
            "  File \"main.py\", line 116, in <module>\n",
            "    Trainer(TFC_model, model_optimizer, classifier, classifier_optimizer, train_dl, valid_dl, test_dl, device,\n",
            "  File \"/content/drive/MyDrive/Colab Notebooks/TFC-pretraining-main/code/TFC/trainer.py\", line 36, in Trainer\n",
            "    logger.debug(f'\\nPre-training Epoch : {epoch}', f'Train Loss : {train_loss:.4f}')\n",
            "Message: '\\nPre-training Epoch : 17'\n",
            "Arguments: ('Train Loss : 6.5100',)\n",
            "Pretraining: overall loss:6.215012550354004, l_t: 2.7619996070861816, l_f:3.8066694736480713, l_c:4.901278495788574\n",
            "--- Logging error ---\n",
            "Traceback (most recent call last):\n",
            "  File \"/usr/lib/python3.8/logging/__init__.py\", line 1085, in emit\n",
            "    msg = self.format(record)\n",
            "  File \"/usr/lib/python3.8/logging/__init__.py\", line 929, in format\n",
            "    return fmt.format(record)\n",
            "  File \"/usr/lib/python3.8/logging/__init__.py\", line 668, in format\n",
            "    record.message = record.getMessage()\n",
            "  File \"/usr/lib/python3.8/logging/__init__.py\", line 373, in getMessage\n",
            "    msg = msg % self.args\n",
            "TypeError: not all arguments converted during string formatting\n",
            "Call stack:\n",
            "  File \"main.py\", line 116, in <module>\n",
            "    Trainer(TFC_model, model_optimizer, classifier, classifier_optimizer, train_dl, valid_dl, test_dl, device,\n",
            "  File \"/content/drive/MyDrive/Colab Notebooks/TFC-pretraining-main/code/TFC/trainer.py\", line 36, in Trainer\n",
            "    logger.debug(f'\\nPre-training Epoch : {epoch}', f'Train Loss : {train_loss:.4f}')\n",
            "Message: '\\nPre-training Epoch : 18'\n",
            "Arguments: ('Train Loss : 6.3769',)\n",
            "--- Logging error ---\n",
            "Traceback (most recent call last):\n",
            "  File \"/usr/lib/python3.8/logging/__init__.py\", line 1085, in emit\n",
            "    msg = self.format(record)\n",
            "  File \"/usr/lib/python3.8/logging/__init__.py\", line 929, in format\n",
            "    return fmt.format(record)\n",
            "  File \"/usr/lib/python3.8/logging/__init__.py\", line 668, in format\n",
            "    record.message = record.getMessage()\n",
            "  File \"/usr/lib/python3.8/logging/__init__.py\", line 373, in getMessage\n",
            "    msg = msg % self.args\n",
            "TypeError: not all arguments converted during string formatting\n",
            "Call stack:\n",
            "  File \"main.py\", line 116, in <module>\n",
            "    Trainer(TFC_model, model_optimizer, classifier, classifier_optimizer, train_dl, valid_dl, test_dl, device,\n",
            "  File \"/content/drive/MyDrive/Colab Notebooks/TFC-pretraining-main/code/TFC/trainer.py\", line 36, in Trainer\n",
            "    logger.debug(f'\\nPre-training Epoch : {epoch}', f'Train Loss : {train_loss:.4f}')\n",
            "Message: '\\nPre-training Epoch : 18'\n",
            "Arguments: ('Train Loss : 6.3769',)\n",
            "Pretraining: overall loss:6.3778910636901855, l_t: 2.9143295288085938, l_f:4.004594802856445, l_c:4.994106292724609\n",
            "--- Logging error ---\n",
            "Traceback (most recent call last):\n",
            "  File \"/usr/lib/python3.8/logging/__init__.py\", line 1085, in emit\n",
            "    msg = self.format(record)\n",
            "  File \"/usr/lib/python3.8/logging/__init__.py\", line 929, in format\n",
            "    return fmt.format(record)\n",
            "  File \"/usr/lib/python3.8/logging/__init__.py\", line 668, in format\n",
            "    record.message = record.getMessage()\n",
            "  File \"/usr/lib/python3.8/logging/__init__.py\", line 373, in getMessage\n",
            "    msg = msg % self.args\n",
            "TypeError: not all arguments converted during string formatting\n",
            "Call stack:\n",
            "  File \"main.py\", line 116, in <module>\n",
            "    Trainer(TFC_model, model_optimizer, classifier, classifier_optimizer, train_dl, valid_dl, test_dl, device,\n",
            "  File \"/content/drive/MyDrive/Colab Notebooks/TFC-pretraining-main/code/TFC/trainer.py\", line 36, in Trainer\n",
            "    logger.debug(f'\\nPre-training Epoch : {epoch}', f'Train Loss : {train_loss:.4f}')\n",
            "Message: '\\nPre-training Epoch : 19'\n",
            "Arguments: ('Train Loss : 6.3201',)\n",
            "--- Logging error ---\n",
            "Traceback (most recent call last):\n",
            "  File \"/usr/lib/python3.8/logging/__init__.py\", line 1085, in emit\n",
            "    msg = self.format(record)\n",
            "  File \"/usr/lib/python3.8/logging/__init__.py\", line 929, in format\n",
            "    return fmt.format(record)\n",
            "  File \"/usr/lib/python3.8/logging/__init__.py\", line 668, in format\n",
            "    record.message = record.getMessage()\n",
            "  File \"/usr/lib/python3.8/logging/__init__.py\", line 373, in getMessage\n",
            "    msg = msg % self.args\n",
            "TypeError: not all arguments converted during string formatting\n",
            "Call stack:\n",
            "  File \"main.py\", line 116, in <module>\n",
            "    Trainer(TFC_model, model_optimizer, classifier, classifier_optimizer, train_dl, valid_dl, test_dl, device,\n",
            "  File \"/content/drive/MyDrive/Colab Notebooks/TFC-pretraining-main/code/TFC/trainer.py\", line 36, in Trainer\n",
            "    logger.debug(f'\\nPre-training Epoch : {epoch}', f'Train Loss : {train_loss:.4f}')\n",
            "Message: '\\nPre-training Epoch : 19'\n",
            "Arguments: ('Train Loss : 6.3201',)\n",
            "Pretraining: overall loss:6.224322319030762, l_t: 2.882460355758667, l_f:3.9671199321746826, l_c:4.854406356811523\n",
            "--- Logging error ---\n",
            "Traceback (most recent call last):\n",
            "  File \"/usr/lib/python3.8/logging/__init__.py\", line 1085, in emit\n",
            "    msg = self.format(record)\n",
            "  File \"/usr/lib/python3.8/logging/__init__.py\", line 929, in format\n",
            "    return fmt.format(record)\n",
            "  File \"/usr/lib/python3.8/logging/__init__.py\", line 668, in format\n",
            "    record.message = record.getMessage()\n",
            "  File \"/usr/lib/python3.8/logging/__init__.py\", line 373, in getMessage\n",
            "    msg = msg % self.args\n",
            "TypeError: not all arguments converted during string formatting\n",
            "Call stack:\n",
            "  File \"main.py\", line 116, in <module>\n",
            "    Trainer(TFC_model, model_optimizer, classifier, classifier_optimizer, train_dl, valid_dl, test_dl, device,\n",
            "  File \"/content/drive/MyDrive/Colab Notebooks/TFC-pretraining-main/code/TFC/trainer.py\", line 36, in Trainer\n",
            "    logger.debug(f'\\nPre-training Epoch : {epoch}', f'Train Loss : {train_loss:.4f}')\n",
            "Message: '\\nPre-training Epoch : 20'\n",
            "Arguments: ('Train Loss : 6.2335',)\n",
            "--- Logging error ---\n",
            "Traceback (most recent call last):\n",
            "  File \"/usr/lib/python3.8/logging/__init__.py\", line 1085, in emit\n",
            "    msg = self.format(record)\n",
            "  File \"/usr/lib/python3.8/logging/__init__.py\", line 929, in format\n",
            "    return fmt.format(record)\n",
            "  File \"/usr/lib/python3.8/logging/__init__.py\", line 668, in format\n",
            "    record.message = record.getMessage()\n",
            "  File \"/usr/lib/python3.8/logging/__init__.py\", line 373, in getMessage\n",
            "    msg = msg % self.args\n",
            "TypeError: not all arguments converted during string formatting\n",
            "Call stack:\n",
            "  File \"main.py\", line 116, in <module>\n",
            "    Trainer(TFC_model, model_optimizer, classifier, classifier_optimizer, train_dl, valid_dl, test_dl, device,\n",
            "  File \"/content/drive/MyDrive/Colab Notebooks/TFC-pretraining-main/code/TFC/trainer.py\", line 36, in Trainer\n",
            "    logger.debug(f'\\nPre-training Epoch : {epoch}', f'Train Loss : {train_loss:.4f}')\n",
            "Message: '\\nPre-training Epoch : 20'\n",
            "Arguments: ('Train Loss : 6.2335',)\n",
            "Pretraining: overall loss:6.018994331359863, l_t: 2.8155922889709473, l_f:3.78899884223938, l_c:4.698076248168945\n",
            "--- Logging error ---\n",
            "Traceback (most recent call last):\n",
            "  File \"/usr/lib/python3.8/logging/__init__.py\", line 1085, in emit\n",
            "    msg = self.format(record)\n",
            "  File \"/usr/lib/python3.8/logging/__init__.py\", line 929, in format\n",
            "    return fmt.format(record)\n",
            "  File \"/usr/lib/python3.8/logging/__init__.py\", line 668, in format\n",
            "    record.message = record.getMessage()\n",
            "  File \"/usr/lib/python3.8/logging/__init__.py\", line 373, in getMessage\n",
            "    msg = msg % self.args\n",
            "TypeError: not all arguments converted during string formatting\n",
            "Call stack:\n",
            "  File \"main.py\", line 116, in <module>\n",
            "    Trainer(TFC_model, model_optimizer, classifier, classifier_optimizer, train_dl, valid_dl, test_dl, device,\n",
            "  File \"/content/drive/MyDrive/Colab Notebooks/TFC-pretraining-main/code/TFC/trainer.py\", line 36, in Trainer\n",
            "    logger.debug(f'\\nPre-training Epoch : {epoch}', f'Train Loss : {train_loss:.4f}')\n",
            "Message: '\\nPre-training Epoch : 21'\n",
            "Arguments: ('Train Loss : 6.2441',)\n",
            "--- Logging error ---\n",
            "Traceback (most recent call last):\n",
            "  File \"/usr/lib/python3.8/logging/__init__.py\", line 1085, in emit\n",
            "    msg = self.format(record)\n",
            "  File \"/usr/lib/python3.8/logging/__init__.py\", line 929, in format\n",
            "    return fmt.format(record)\n",
            "  File \"/usr/lib/python3.8/logging/__init__.py\", line 668, in format\n",
            "    record.message = record.getMessage()\n",
            "  File \"/usr/lib/python3.8/logging/__init__.py\", line 373, in getMessage\n",
            "    msg = msg % self.args\n",
            "TypeError: not all arguments converted during string formatting\n",
            "Call stack:\n",
            "  File \"main.py\", line 116, in <module>\n",
            "    Trainer(TFC_model, model_optimizer, classifier, classifier_optimizer, train_dl, valid_dl, test_dl, device,\n",
            "  File \"/content/drive/MyDrive/Colab Notebooks/TFC-pretraining-main/code/TFC/trainer.py\", line 36, in Trainer\n",
            "    logger.debug(f'\\nPre-training Epoch : {epoch}', f'Train Loss : {train_loss:.4f}')\n",
            "Message: '\\nPre-training Epoch : 21'\n",
            "Arguments: ('Train Loss : 6.2441',)\n",
            "Pretraining: overall loss:6.336065769195557, l_t: 3.128499984741211, l_f:3.966094493865967, l_c:4.917146682739258\n",
            "--- Logging error ---\n",
            "Traceback (most recent call last):\n",
            "  File \"/usr/lib/python3.8/logging/__init__.py\", line 1085, in emit\n",
            "    msg = self.format(record)\n",
            "  File \"/usr/lib/python3.8/logging/__init__.py\", line 929, in format\n",
            "    return fmt.format(record)\n",
            "  File \"/usr/lib/python3.8/logging/__init__.py\", line 668, in format\n",
            "    record.message = record.getMessage()\n",
            "  File \"/usr/lib/python3.8/logging/__init__.py\", line 373, in getMessage\n",
            "    msg = msg % self.args\n",
            "TypeError: not all arguments converted during string formatting\n",
            "Call stack:\n",
            "  File \"main.py\", line 116, in <module>\n",
            "    Trainer(TFC_model, model_optimizer, classifier, classifier_optimizer, train_dl, valid_dl, test_dl, device,\n",
            "  File \"/content/drive/MyDrive/Colab Notebooks/TFC-pretraining-main/code/TFC/trainer.py\", line 36, in Trainer\n",
            "    logger.debug(f'\\nPre-training Epoch : {epoch}', f'Train Loss : {train_loss:.4f}')\n",
            "Message: '\\nPre-training Epoch : 22'\n",
            "Arguments: ('Train Loss : 6.1843',)\n",
            "--- Logging error ---\n",
            "Traceback (most recent call last):\n",
            "  File \"/usr/lib/python3.8/logging/__init__.py\", line 1085, in emit\n",
            "    msg = self.format(record)\n",
            "  File \"/usr/lib/python3.8/logging/__init__.py\", line 929, in format\n",
            "    return fmt.format(record)\n",
            "  File \"/usr/lib/python3.8/logging/__init__.py\", line 668, in format\n",
            "    record.message = record.getMessage()\n",
            "  File \"/usr/lib/python3.8/logging/__init__.py\", line 373, in getMessage\n",
            "    msg = msg % self.args\n",
            "TypeError: not all arguments converted during string formatting\n",
            "Call stack:\n",
            "  File \"main.py\", line 116, in <module>\n",
            "    Trainer(TFC_model, model_optimizer, classifier, classifier_optimizer, train_dl, valid_dl, test_dl, device,\n",
            "  File \"/content/drive/MyDrive/Colab Notebooks/TFC-pretraining-main/code/TFC/trainer.py\", line 36, in Trainer\n",
            "    logger.debug(f'\\nPre-training Epoch : {epoch}', f'Train Loss : {train_loss:.4f}')\n",
            "Message: '\\nPre-training Epoch : 22'\n",
            "Arguments: ('Train Loss : 6.1843',)\n",
            "Pretraining: overall loss:6.038150787353516, l_t: 2.842310667037964, l_f:3.7480647563934326, l_c:4.720075607299805\n",
            "--- Logging error ---\n",
            "Traceback (most recent call last):\n",
            "  File \"/usr/lib/python3.8/logging/__init__.py\", line 1085, in emit\n",
            "    msg = self.format(record)\n",
            "  File \"/usr/lib/python3.8/logging/__init__.py\", line 929, in format\n",
            "    return fmt.format(record)\n",
            "  File \"/usr/lib/python3.8/logging/__init__.py\", line 668, in format\n",
            "    record.message = record.getMessage()\n",
            "  File \"/usr/lib/python3.8/logging/__init__.py\", line 373, in getMessage\n",
            "    msg = msg % self.args\n",
            "TypeError: not all arguments converted during string formatting\n",
            "Call stack:\n",
            "  File \"main.py\", line 116, in <module>\n",
            "    Trainer(TFC_model, model_optimizer, classifier, classifier_optimizer, train_dl, valid_dl, test_dl, device,\n",
            "  File \"/content/drive/MyDrive/Colab Notebooks/TFC-pretraining-main/code/TFC/trainer.py\", line 36, in Trainer\n",
            "    logger.debug(f'\\nPre-training Epoch : {epoch}', f'Train Loss : {train_loss:.4f}')\n",
            "Message: '\\nPre-training Epoch : 23'\n",
            "Arguments: ('Train Loss : 6.0788',)\n",
            "--- Logging error ---\n",
            "Traceback (most recent call last):\n",
            "  File \"/usr/lib/python3.8/logging/__init__.py\", line 1085, in emit\n",
            "    msg = self.format(record)\n",
            "  File \"/usr/lib/python3.8/logging/__init__.py\", line 929, in format\n",
            "    return fmt.format(record)\n",
            "  File \"/usr/lib/python3.8/logging/__init__.py\", line 668, in format\n",
            "    record.message = record.getMessage()\n",
            "  File \"/usr/lib/python3.8/logging/__init__.py\", line 373, in getMessage\n",
            "    msg = msg % self.args\n",
            "TypeError: not all arguments converted during string formatting\n",
            "Call stack:\n",
            "  File \"main.py\", line 116, in <module>\n",
            "    Trainer(TFC_model, model_optimizer, classifier, classifier_optimizer, train_dl, valid_dl, test_dl, device,\n",
            "  File \"/content/drive/MyDrive/Colab Notebooks/TFC-pretraining-main/code/TFC/trainer.py\", line 36, in Trainer\n",
            "    logger.debug(f'\\nPre-training Epoch : {epoch}', f'Train Loss : {train_loss:.4f}')\n",
            "Message: '\\nPre-training Epoch : 23'\n",
            "Arguments: ('Train Loss : 6.0788',)\n",
            "Pretraining: overall loss:5.952232837677002, l_t: 2.8522861003875732, l_f:3.7602052688598633, l_c:4.629734516143799\n",
            "--- Logging error ---\n",
            "Traceback (most recent call last):\n",
            "  File \"/usr/lib/python3.8/logging/__init__.py\", line 1085, in emit\n",
            "    msg = self.format(record)\n",
            "  File \"/usr/lib/python3.8/logging/__init__.py\", line 929, in format\n",
            "    return fmt.format(record)\n",
            "  File \"/usr/lib/python3.8/logging/__init__.py\", line 668, in format\n",
            "    record.message = record.getMessage()\n",
            "  File \"/usr/lib/python3.8/logging/__init__.py\", line 373, in getMessage\n",
            "    msg = msg % self.args\n",
            "TypeError: not all arguments converted during string formatting\n",
            "Call stack:\n",
            "  File \"main.py\", line 116, in <module>\n",
            "    Trainer(TFC_model, model_optimizer, classifier, classifier_optimizer, train_dl, valid_dl, test_dl, device,\n",
            "  File \"/content/drive/MyDrive/Colab Notebooks/TFC-pretraining-main/code/TFC/trainer.py\", line 36, in Trainer\n",
            "    logger.debug(f'\\nPre-training Epoch : {epoch}', f'Train Loss : {train_loss:.4f}')\n",
            "Message: '\\nPre-training Epoch : 24'\n",
            "Arguments: ('Train Loss : 6.0007',)\n",
            "--- Logging error ---\n",
            "Traceback (most recent call last):\n",
            "  File \"/usr/lib/python3.8/logging/__init__.py\", line 1085, in emit\n",
            "    msg = self.format(record)\n",
            "  File \"/usr/lib/python3.8/logging/__init__.py\", line 929, in format\n",
            "    return fmt.format(record)\n",
            "  File \"/usr/lib/python3.8/logging/__init__.py\", line 668, in format\n",
            "    record.message = record.getMessage()\n",
            "  File \"/usr/lib/python3.8/logging/__init__.py\", line 373, in getMessage\n",
            "    msg = msg % self.args\n",
            "TypeError: not all arguments converted during string formatting\n",
            "Call stack:\n",
            "  File \"main.py\", line 116, in <module>\n",
            "    Trainer(TFC_model, model_optimizer, classifier, classifier_optimizer, train_dl, valid_dl, test_dl, device,\n",
            "  File \"/content/drive/MyDrive/Colab Notebooks/TFC-pretraining-main/code/TFC/trainer.py\", line 36, in Trainer\n",
            "    logger.debug(f'\\nPre-training Epoch : {epoch}', f'Train Loss : {train_loss:.4f}')\n",
            "Message: '\\nPre-training Epoch : 24'\n",
            "Arguments: ('Train Loss : 6.0007',)\n",
            "Pretraining: overall loss:5.718332290649414, l_t: 2.734585762023926, l_f:3.648192882537842, l_c:4.441776275634766\n",
            "--- Logging error ---\n",
            "Traceback (most recent call last):\n",
            "  File \"/usr/lib/python3.8/logging/__init__.py\", line 1085, in emit\n",
            "    msg = self.format(record)\n",
            "  File \"/usr/lib/python3.8/logging/__init__.py\", line 929, in format\n",
            "    return fmt.format(record)\n",
            "  File \"/usr/lib/python3.8/logging/__init__.py\", line 668, in format\n",
            "    record.message = record.getMessage()\n",
            "  File \"/usr/lib/python3.8/logging/__init__.py\", line 373, in getMessage\n",
            "    msg = msg % self.args\n",
            "TypeError: not all arguments converted during string formatting\n",
            "Call stack:\n",
            "  File \"main.py\", line 116, in <module>\n",
            "    Trainer(TFC_model, model_optimizer, classifier, classifier_optimizer, train_dl, valid_dl, test_dl, device,\n",
            "  File \"/content/drive/MyDrive/Colab Notebooks/TFC-pretraining-main/code/TFC/trainer.py\", line 36, in Trainer\n",
            "    logger.debug(f'\\nPre-training Epoch : {epoch}', f'Train Loss : {train_loss:.4f}')\n",
            "Message: '\\nPre-training Epoch : 25'\n",
            "Arguments: ('Train Loss : 5.8730',)\n",
            "--- Logging error ---\n",
            "Traceback (most recent call last):\n",
            "  File \"/usr/lib/python3.8/logging/__init__.py\", line 1085, in emit\n",
            "    msg = self.format(record)\n",
            "  File \"/usr/lib/python3.8/logging/__init__.py\", line 929, in format\n",
            "    return fmt.format(record)\n",
            "  File \"/usr/lib/python3.8/logging/__init__.py\", line 668, in format\n",
            "    record.message = record.getMessage()\n",
            "  File \"/usr/lib/python3.8/logging/__init__.py\", line 373, in getMessage\n",
            "    msg = msg % self.args\n",
            "TypeError: not all arguments converted during string formatting\n",
            "Call stack:\n",
            "  File \"main.py\", line 116, in <module>\n",
            "    Trainer(TFC_model, model_optimizer, classifier, classifier_optimizer, train_dl, valid_dl, test_dl, device,\n",
            "  File \"/content/drive/MyDrive/Colab Notebooks/TFC-pretraining-main/code/TFC/trainer.py\", line 36, in Trainer\n",
            "    logger.debug(f'\\nPre-training Epoch : {epoch}', f'Train Loss : {train_loss:.4f}')\n",
            "Message: '\\nPre-training Epoch : 25'\n",
            "Arguments: ('Train Loss : 5.8730',)\n",
            "Pretraining: overall loss:5.718629837036133, l_t: 2.7551257610321045, l_f:3.6375021934509277, l_c:4.4401044845581055\n",
            "--- Logging error ---\n",
            "Traceback (most recent call last):\n",
            "  File \"/usr/lib/python3.8/logging/__init__.py\", line 1085, in emit\n",
            "    msg = self.format(record)\n",
            "  File \"/usr/lib/python3.8/logging/__init__.py\", line 929, in format\n",
            "    return fmt.format(record)\n",
            "  File \"/usr/lib/python3.8/logging/__init__.py\", line 668, in format\n",
            "    record.message = record.getMessage()\n",
            "  File \"/usr/lib/python3.8/logging/__init__.py\", line 373, in getMessage\n",
            "    msg = msg % self.args\n",
            "TypeError: not all arguments converted during string formatting\n",
            "Call stack:\n",
            "  File \"main.py\", line 116, in <module>\n",
            "    Trainer(TFC_model, model_optimizer, classifier, classifier_optimizer, train_dl, valid_dl, test_dl, device,\n",
            "  File \"/content/drive/MyDrive/Colab Notebooks/TFC-pretraining-main/code/TFC/trainer.py\", line 36, in Trainer\n",
            "    logger.debug(f'\\nPre-training Epoch : {epoch}', f'Train Loss : {train_loss:.4f}')\n",
            "Message: '\\nPre-training Epoch : 26'\n",
            "Arguments: ('Train Loss : 5.8153',)\n",
            "--- Logging error ---\n",
            "Traceback (most recent call last):\n",
            "  File \"/usr/lib/python3.8/logging/__init__.py\", line 1085, in emit\n",
            "    msg = self.format(record)\n",
            "  File \"/usr/lib/python3.8/logging/__init__.py\", line 929, in format\n",
            "    return fmt.format(record)\n",
            "  File \"/usr/lib/python3.8/logging/__init__.py\", line 668, in format\n",
            "    record.message = record.getMessage()\n",
            "  File \"/usr/lib/python3.8/logging/__init__.py\", line 373, in getMessage\n",
            "    msg = msg % self.args\n",
            "TypeError: not all arguments converted during string formatting\n",
            "Call stack:\n",
            "  File \"main.py\", line 116, in <module>\n",
            "    Trainer(TFC_model, model_optimizer, classifier, classifier_optimizer, train_dl, valid_dl, test_dl, device,\n",
            "  File \"/content/drive/MyDrive/Colab Notebooks/TFC-pretraining-main/code/TFC/trainer.py\", line 36, in Trainer\n",
            "    logger.debug(f'\\nPre-training Epoch : {epoch}', f'Train Loss : {train_loss:.4f}')\n",
            "Message: '\\nPre-training Epoch : 26'\n",
            "Arguments: ('Train Loss : 5.8153',)\n",
            "Pretraining: overall loss:5.97203254699707, l_t: 3.259921073913574, l_f:3.6413936614990234, l_c:4.591769695281982\n",
            "--- Logging error ---\n",
            "Traceback (most recent call last):\n",
            "  File \"/usr/lib/python3.8/logging/__init__.py\", line 1085, in emit\n",
            "    msg = self.format(record)\n",
            "  File \"/usr/lib/python3.8/logging/__init__.py\", line 929, in format\n",
            "    return fmt.format(record)\n",
            "  File \"/usr/lib/python3.8/logging/__init__.py\", line 668, in format\n",
            "    record.message = record.getMessage()\n",
            "  File \"/usr/lib/python3.8/logging/__init__.py\", line 373, in getMessage\n",
            "    msg = msg % self.args\n",
            "TypeError: not all arguments converted during string formatting\n",
            "Call stack:\n",
            "  File \"main.py\", line 116, in <module>\n",
            "    Trainer(TFC_model, model_optimizer, classifier, classifier_optimizer, train_dl, valid_dl, test_dl, device,\n",
            "  File \"/content/drive/MyDrive/Colab Notebooks/TFC-pretraining-main/code/TFC/trainer.py\", line 36, in Trainer\n",
            "    logger.debug(f'\\nPre-training Epoch : {epoch}', f'Train Loss : {train_loss:.4f}')\n",
            "Message: '\\nPre-training Epoch : 27'\n",
            "Arguments: ('Train Loss : 5.7154',)\n",
            "--- Logging error ---\n",
            "Traceback (most recent call last):\n",
            "  File \"/usr/lib/python3.8/logging/__init__.py\", line 1085, in emit\n",
            "    msg = self.format(record)\n",
            "  File \"/usr/lib/python3.8/logging/__init__.py\", line 929, in format\n",
            "    return fmt.format(record)\n",
            "  File \"/usr/lib/python3.8/logging/__init__.py\", line 668, in format\n",
            "    record.message = record.getMessage()\n",
            "  File \"/usr/lib/python3.8/logging/__init__.py\", line 373, in getMessage\n",
            "    msg = msg % self.args\n",
            "TypeError: not all arguments converted during string formatting\n",
            "Call stack:\n",
            "  File \"main.py\", line 116, in <module>\n",
            "    Trainer(TFC_model, model_optimizer, classifier, classifier_optimizer, train_dl, valid_dl, test_dl, device,\n",
            "  File \"/content/drive/MyDrive/Colab Notebooks/TFC-pretraining-main/code/TFC/trainer.py\", line 36, in Trainer\n",
            "    logger.debug(f'\\nPre-training Epoch : {epoch}', f'Train Loss : {train_loss:.4f}')\n",
            "Message: '\\nPre-training Epoch : 27'\n",
            "Arguments: ('Train Loss : 5.7154',)\n",
            "Pretraining: overall loss:5.699484825134277, l_t: 2.8011157512664795, l_f:3.7014427185058594, l_c:4.398972988128662\n",
            "--- Logging error ---\n",
            "Traceback (most recent call last):\n",
            "  File \"/usr/lib/python3.8/logging/__init__.py\", line 1085, in emit\n",
            "    msg = self.format(record)\n",
            "  File \"/usr/lib/python3.8/logging/__init__.py\", line 929, in format\n",
            "    return fmt.format(record)\n",
            "  File \"/usr/lib/python3.8/logging/__init__.py\", line 668, in format\n",
            "    record.message = record.getMessage()\n",
            "  File \"/usr/lib/python3.8/logging/__init__.py\", line 373, in getMessage\n",
            "    msg = msg % self.args\n",
            "TypeError: not all arguments converted during string formatting\n",
            "Call stack:\n",
            "  File \"main.py\", line 116, in <module>\n",
            "    Trainer(TFC_model, model_optimizer, classifier, classifier_optimizer, train_dl, valid_dl, test_dl, device,\n",
            "  File \"/content/drive/MyDrive/Colab Notebooks/TFC-pretraining-main/code/TFC/trainer.py\", line 36, in Trainer\n",
            "    logger.debug(f'\\nPre-training Epoch : {epoch}', f'Train Loss : {train_loss:.4f}')\n",
            "Message: '\\nPre-training Epoch : 28'\n",
            "Arguments: ('Train Loss : 5.6745',)\n",
            "--- Logging error ---\n",
            "Traceback (most recent call last):\n",
            "  File \"/usr/lib/python3.8/logging/__init__.py\", line 1085, in emit\n",
            "    msg = self.format(record)\n",
            "  File \"/usr/lib/python3.8/logging/__init__.py\", line 929, in format\n",
            "    return fmt.format(record)\n",
            "  File \"/usr/lib/python3.8/logging/__init__.py\", line 668, in format\n",
            "    record.message = record.getMessage()\n",
            "  File \"/usr/lib/python3.8/logging/__init__.py\", line 373, in getMessage\n",
            "    msg = msg % self.args\n",
            "TypeError: not all arguments converted during string formatting\n",
            "Call stack:\n",
            "  File \"main.py\", line 116, in <module>\n",
            "    Trainer(TFC_model, model_optimizer, classifier, classifier_optimizer, train_dl, valid_dl, test_dl, device,\n",
            "  File \"/content/drive/MyDrive/Colab Notebooks/TFC-pretraining-main/code/TFC/trainer.py\", line 36, in Trainer\n",
            "    logger.debug(f'\\nPre-training Epoch : {epoch}', f'Train Loss : {train_loss:.4f}')\n",
            "Message: '\\nPre-training Epoch : 28'\n",
            "Arguments: ('Train Loss : 5.6745',)\n",
            "Pretraining: overall loss:5.570462226867676, l_t: 2.635589599609375, l_f:3.627727508544922, l_c:4.317798614501953\n",
            "--- Logging error ---\n",
            "Traceback (most recent call last):\n",
            "  File \"/usr/lib/python3.8/logging/__init__.py\", line 1085, in emit\n",
            "    msg = self.format(record)\n",
            "  File \"/usr/lib/python3.8/logging/__init__.py\", line 929, in format\n",
            "    return fmt.format(record)\n",
            "  File \"/usr/lib/python3.8/logging/__init__.py\", line 668, in format\n",
            "    record.message = record.getMessage()\n",
            "  File \"/usr/lib/python3.8/logging/__init__.py\", line 373, in getMessage\n",
            "    msg = msg % self.args\n",
            "TypeError: not all arguments converted during string formatting\n",
            "Call stack:\n",
            "  File \"main.py\", line 116, in <module>\n",
            "    Trainer(TFC_model, model_optimizer, classifier, classifier_optimizer, train_dl, valid_dl, test_dl, device,\n",
            "  File \"/content/drive/MyDrive/Colab Notebooks/TFC-pretraining-main/code/TFC/trainer.py\", line 36, in Trainer\n",
            "    logger.debug(f'\\nPre-training Epoch : {epoch}', f'Train Loss : {train_loss:.4f}')\n",
            "Message: '\\nPre-training Epoch : 29'\n",
            "Arguments: ('Train Loss : 5.6559',)\n",
            "--- Logging error ---\n",
            "Traceback (most recent call last):\n",
            "  File \"/usr/lib/python3.8/logging/__init__.py\", line 1085, in emit\n",
            "    msg = self.format(record)\n",
            "  File \"/usr/lib/python3.8/logging/__init__.py\", line 929, in format\n",
            "    return fmt.format(record)\n",
            "  File \"/usr/lib/python3.8/logging/__init__.py\", line 668, in format\n",
            "    record.message = record.getMessage()\n",
            "  File \"/usr/lib/python3.8/logging/__init__.py\", line 373, in getMessage\n",
            "    msg = msg % self.args\n",
            "TypeError: not all arguments converted during string formatting\n",
            "Call stack:\n",
            "  File \"main.py\", line 116, in <module>\n",
            "    Trainer(TFC_model, model_optimizer, classifier, classifier_optimizer, train_dl, valid_dl, test_dl, device,\n",
            "  File \"/content/drive/MyDrive/Colab Notebooks/TFC-pretraining-main/code/TFC/trainer.py\", line 36, in Trainer\n",
            "    logger.debug(f'\\nPre-training Epoch : {epoch}', f'Train Loss : {train_loss:.4f}')\n",
            "Message: '\\nPre-training Epoch : 29'\n",
            "Arguments: ('Train Loss : 5.6559',)\n",
            "Pretraining: overall loss:5.405453681945801, l_t: 2.667792558670044, l_f:3.6193206310272217, l_c:4.148031234741211\n",
            "--- Logging error ---\n",
            "Traceback (most recent call last):\n",
            "  File \"/usr/lib/python3.8/logging/__init__.py\", line 1085, in emit\n",
            "    msg = self.format(record)\n",
            "  File \"/usr/lib/python3.8/logging/__init__.py\", line 929, in format\n",
            "    return fmt.format(record)\n",
            "  File \"/usr/lib/python3.8/logging/__init__.py\", line 668, in format\n",
            "    record.message = record.getMessage()\n",
            "  File \"/usr/lib/python3.8/logging/__init__.py\", line 373, in getMessage\n",
            "    msg = msg % self.args\n",
            "TypeError: not all arguments converted during string formatting\n",
            "Call stack:\n",
            "  File \"main.py\", line 116, in <module>\n",
            "    Trainer(TFC_model, model_optimizer, classifier, classifier_optimizer, train_dl, valid_dl, test_dl, device,\n",
            "  File \"/content/drive/MyDrive/Colab Notebooks/TFC-pretraining-main/code/TFC/trainer.py\", line 36, in Trainer\n",
            "    logger.debug(f'\\nPre-training Epoch : {epoch}', f'Train Loss : {train_loss:.4f}')\n",
            "Message: '\\nPre-training Epoch : 30'\n",
            "Arguments: ('Train Loss : 5.6043',)\n",
            "--- Logging error ---\n",
            "Traceback (most recent call last):\n",
            "  File \"/usr/lib/python3.8/logging/__init__.py\", line 1085, in emit\n",
            "    msg = self.format(record)\n",
            "  File \"/usr/lib/python3.8/logging/__init__.py\", line 929, in format\n",
            "    return fmt.format(record)\n",
            "  File \"/usr/lib/python3.8/logging/__init__.py\", line 668, in format\n",
            "    record.message = record.getMessage()\n",
            "  File \"/usr/lib/python3.8/logging/__init__.py\", line 373, in getMessage\n",
            "    msg = msg % self.args\n",
            "TypeError: not all arguments converted during string formatting\n",
            "Call stack:\n",
            "  File \"main.py\", line 116, in <module>\n",
            "    Trainer(TFC_model, model_optimizer, classifier, classifier_optimizer, train_dl, valid_dl, test_dl, device,\n",
            "  File \"/content/drive/MyDrive/Colab Notebooks/TFC-pretraining-main/code/TFC/trainer.py\", line 36, in Trainer\n",
            "    logger.debug(f'\\nPre-training Epoch : {epoch}', f'Train Loss : {train_loss:.4f}')\n",
            "Message: '\\nPre-training Epoch : 30'\n",
            "Arguments: ('Train Loss : 5.6043',)\n",
            "Pretraining: overall loss:5.506417751312256, l_t: 2.7017109394073486, l_f:3.5127389430999756, l_c:4.263527870178223\n",
            "--- Logging error ---\n",
            "Traceback (most recent call last):\n",
            "  File \"/usr/lib/python3.8/logging/__init__.py\", line 1085, in emit\n",
            "    msg = self.format(record)\n",
            "  File \"/usr/lib/python3.8/logging/__init__.py\", line 929, in format\n",
            "    return fmt.format(record)\n",
            "  File \"/usr/lib/python3.8/logging/__init__.py\", line 668, in format\n",
            "    record.message = record.getMessage()\n",
            "  File \"/usr/lib/python3.8/logging/__init__.py\", line 373, in getMessage\n",
            "    msg = msg % self.args\n",
            "TypeError: not all arguments converted during string formatting\n",
            "Call stack:\n",
            "  File \"main.py\", line 116, in <module>\n",
            "    Trainer(TFC_model, model_optimizer, classifier, classifier_optimizer, train_dl, valid_dl, test_dl, device,\n",
            "  File \"/content/drive/MyDrive/Colab Notebooks/TFC-pretraining-main/code/TFC/trainer.py\", line 36, in Trainer\n",
            "    logger.debug(f'\\nPre-training Epoch : {epoch}', f'Train Loss : {train_loss:.4f}')\n",
            "Message: '\\nPre-training Epoch : 31'\n",
            "Arguments: ('Train Loss : 5.5507',)\n",
            "--- Logging error ---\n",
            "Traceback (most recent call last):\n",
            "  File \"/usr/lib/python3.8/logging/__init__.py\", line 1085, in emit\n",
            "    msg = self.format(record)\n",
            "  File \"/usr/lib/python3.8/logging/__init__.py\", line 929, in format\n",
            "    return fmt.format(record)\n",
            "  File \"/usr/lib/python3.8/logging/__init__.py\", line 668, in format\n",
            "    record.message = record.getMessage()\n",
            "  File \"/usr/lib/python3.8/logging/__init__.py\", line 373, in getMessage\n",
            "    msg = msg % self.args\n",
            "TypeError: not all arguments converted during string formatting\n",
            "Call stack:\n",
            "  File \"main.py\", line 116, in <module>\n",
            "    Trainer(TFC_model, model_optimizer, classifier, classifier_optimizer, train_dl, valid_dl, test_dl, device,\n",
            "  File \"/content/drive/MyDrive/Colab Notebooks/TFC-pretraining-main/code/TFC/trainer.py\", line 36, in Trainer\n",
            "    logger.debug(f'\\nPre-training Epoch : {epoch}', f'Train Loss : {train_loss:.4f}')\n",
            "Message: '\\nPre-training Epoch : 31'\n",
            "Arguments: ('Train Loss : 5.5507',)\n",
            "Pretraining: overall loss:5.494643211364746, l_t: 2.753424882888794, l_f:3.677748680114746, l_c:4.208408355712891\n",
            "--- Logging error ---\n",
            "Traceback (most recent call last):\n",
            "  File \"/usr/lib/python3.8/logging/__init__.py\", line 1085, in emit\n",
            "    msg = self.format(record)\n",
            "  File \"/usr/lib/python3.8/logging/__init__.py\", line 929, in format\n",
            "    return fmt.format(record)\n",
            "  File \"/usr/lib/python3.8/logging/__init__.py\", line 668, in format\n",
            "    record.message = record.getMessage()\n",
            "  File \"/usr/lib/python3.8/logging/__init__.py\", line 373, in getMessage\n",
            "    msg = msg % self.args\n",
            "TypeError: not all arguments converted during string formatting\n",
            "Call stack:\n",
            "  File \"main.py\", line 116, in <module>\n",
            "    Trainer(TFC_model, model_optimizer, classifier, classifier_optimizer, train_dl, valid_dl, test_dl, device,\n",
            "  File \"/content/drive/MyDrive/Colab Notebooks/TFC-pretraining-main/code/TFC/trainer.py\", line 36, in Trainer\n",
            "    logger.debug(f'\\nPre-training Epoch : {epoch}', f'Train Loss : {train_loss:.4f}')\n",
            "Message: '\\nPre-training Epoch : 32'\n",
            "Arguments: ('Train Loss : 5.5168',)\n",
            "--- Logging error ---\n",
            "Traceback (most recent call last):\n",
            "  File \"/usr/lib/python3.8/logging/__init__.py\", line 1085, in emit\n",
            "    msg = self.format(record)\n",
            "  File \"/usr/lib/python3.8/logging/__init__.py\", line 929, in format\n",
            "    return fmt.format(record)\n",
            "  File \"/usr/lib/python3.8/logging/__init__.py\", line 668, in format\n",
            "    record.message = record.getMessage()\n",
            "  File \"/usr/lib/python3.8/logging/__init__.py\", line 373, in getMessage\n",
            "    msg = msg % self.args\n",
            "TypeError: not all arguments converted during string formatting\n",
            "Call stack:\n",
            "  File \"main.py\", line 116, in <module>\n",
            "    Trainer(TFC_model, model_optimizer, classifier, classifier_optimizer, train_dl, valid_dl, test_dl, device,\n",
            "  File \"/content/drive/MyDrive/Colab Notebooks/TFC-pretraining-main/code/TFC/trainer.py\", line 36, in Trainer\n",
            "    logger.debug(f'\\nPre-training Epoch : {epoch}', f'Train Loss : {train_loss:.4f}')\n",
            "Message: '\\nPre-training Epoch : 32'\n",
            "Arguments: ('Train Loss : 5.5168',)\n",
            "Pretraining: overall loss:5.355135440826416, l_t: 2.6478610038757324, l_f:3.5238471031188965, l_c:4.12079381942749\n",
            "--- Logging error ---\n",
            "Traceback (most recent call last):\n",
            "  File \"/usr/lib/python3.8/logging/__init__.py\", line 1085, in emit\n",
            "    msg = self.format(record)\n",
            "  File \"/usr/lib/python3.8/logging/__init__.py\", line 929, in format\n",
            "    return fmt.format(record)\n",
            "  File \"/usr/lib/python3.8/logging/__init__.py\", line 668, in format\n",
            "    record.message = record.getMessage()\n",
            "  File \"/usr/lib/python3.8/logging/__init__.py\", line 373, in getMessage\n",
            "    msg = msg % self.args\n",
            "TypeError: not all arguments converted during string formatting\n",
            "Call stack:\n",
            "  File \"main.py\", line 116, in <module>\n",
            "    Trainer(TFC_model, model_optimizer, classifier, classifier_optimizer, train_dl, valid_dl, test_dl, device,\n",
            "  File \"/content/drive/MyDrive/Colab Notebooks/TFC-pretraining-main/code/TFC/trainer.py\", line 36, in Trainer\n",
            "    logger.debug(f'\\nPre-training Epoch : {epoch}', f'Train Loss : {train_loss:.4f}')\n",
            "Message: '\\nPre-training Epoch : 33'\n",
            "Arguments: ('Train Loss : 5.4595',)\n",
            "--- Logging error ---\n",
            "Traceback (most recent call last):\n",
            "  File \"/usr/lib/python3.8/logging/__init__.py\", line 1085, in emit\n",
            "    msg = self.format(record)\n",
            "  File \"/usr/lib/python3.8/logging/__init__.py\", line 929, in format\n",
            "    return fmt.format(record)\n",
            "  File \"/usr/lib/python3.8/logging/__init__.py\", line 668, in format\n",
            "    record.message = record.getMessage()\n",
            "  File \"/usr/lib/python3.8/logging/__init__.py\", line 373, in getMessage\n",
            "    msg = msg % self.args\n",
            "TypeError: not all arguments converted during string formatting\n",
            "Call stack:\n",
            "  File \"main.py\", line 116, in <module>\n",
            "    Trainer(TFC_model, model_optimizer, classifier, classifier_optimizer, train_dl, valid_dl, test_dl, device,\n",
            "  File \"/content/drive/MyDrive/Colab Notebooks/TFC-pretraining-main/code/TFC/trainer.py\", line 36, in Trainer\n",
            "    logger.debug(f'\\nPre-training Epoch : {epoch}', f'Train Loss : {train_loss:.4f}')\n",
            "Message: '\\nPre-training Epoch : 33'\n",
            "Arguments: ('Train Loss : 5.4595',)\n",
            "Pretraining: overall loss:5.2559404373168945, l_t: 2.627502918243408, l_f:3.5035641193389893, l_c:4.029726982116699\n",
            "--- Logging error ---\n",
            "Traceback (most recent call last):\n",
            "  File \"/usr/lib/python3.8/logging/__init__.py\", line 1085, in emit\n",
            "    msg = self.format(record)\n",
            "  File \"/usr/lib/python3.8/logging/__init__.py\", line 929, in format\n",
            "    return fmt.format(record)\n",
            "  File \"/usr/lib/python3.8/logging/__init__.py\", line 668, in format\n",
            "    record.message = record.getMessage()\n",
            "  File \"/usr/lib/python3.8/logging/__init__.py\", line 373, in getMessage\n",
            "    msg = msg % self.args\n",
            "TypeError: not all arguments converted during string formatting\n",
            "Call stack:\n",
            "  File \"main.py\", line 116, in <module>\n",
            "    Trainer(TFC_model, model_optimizer, classifier, classifier_optimizer, train_dl, valid_dl, test_dl, device,\n",
            "  File \"/content/drive/MyDrive/Colab Notebooks/TFC-pretraining-main/code/TFC/trainer.py\", line 36, in Trainer\n",
            "    logger.debug(f'\\nPre-training Epoch : {epoch}', f'Train Loss : {train_loss:.4f}')\n",
            "Message: '\\nPre-training Epoch : 34'\n",
            "Arguments: ('Train Loss : 5.4340',)\n",
            "--- Logging error ---\n",
            "Traceback (most recent call last):\n",
            "  File \"/usr/lib/python3.8/logging/__init__.py\", line 1085, in emit\n",
            "    msg = self.format(record)\n",
            "  File \"/usr/lib/python3.8/logging/__init__.py\", line 929, in format\n",
            "    return fmt.format(record)\n",
            "  File \"/usr/lib/python3.8/logging/__init__.py\", line 668, in format\n",
            "    record.message = record.getMessage()\n",
            "  File \"/usr/lib/python3.8/logging/__init__.py\", line 373, in getMessage\n",
            "    msg = msg % self.args\n",
            "TypeError: not all arguments converted during string formatting\n",
            "Call stack:\n",
            "  File \"main.py\", line 116, in <module>\n",
            "    Trainer(TFC_model, model_optimizer, classifier, classifier_optimizer, train_dl, valid_dl, test_dl, device,\n",
            "  File \"/content/drive/MyDrive/Colab Notebooks/TFC-pretraining-main/code/TFC/trainer.py\", line 36, in Trainer\n",
            "    logger.debug(f'\\nPre-training Epoch : {epoch}', f'Train Loss : {train_loss:.4f}')\n",
            "Message: '\\nPre-training Epoch : 34'\n",
            "Arguments: ('Train Loss : 5.4340',)\n",
            "Pretraining: overall loss:5.319126605987549, l_t: 2.617558002471924, l_f:3.550379991531372, l_c:4.085538864135742\n",
            "--- Logging error ---\n",
            "Traceback (most recent call last):\n",
            "  File \"/usr/lib/python3.8/logging/__init__.py\", line 1085, in emit\n",
            "    msg = self.format(record)\n",
            "  File \"/usr/lib/python3.8/logging/__init__.py\", line 929, in format\n",
            "    return fmt.format(record)\n",
            "  File \"/usr/lib/python3.8/logging/__init__.py\", line 668, in format\n",
            "    record.message = record.getMessage()\n",
            "  File \"/usr/lib/python3.8/logging/__init__.py\", line 373, in getMessage\n",
            "    msg = msg % self.args\n",
            "TypeError: not all arguments converted during string formatting\n",
            "Call stack:\n",
            "  File \"main.py\", line 116, in <module>\n",
            "    Trainer(TFC_model, model_optimizer, classifier, classifier_optimizer, train_dl, valid_dl, test_dl, device,\n",
            "  File \"/content/drive/MyDrive/Colab Notebooks/TFC-pretraining-main/code/TFC/trainer.py\", line 36, in Trainer\n",
            "    logger.debug(f'\\nPre-training Epoch : {epoch}', f'Train Loss : {train_loss:.4f}')\n",
            "Message: '\\nPre-training Epoch : 35'\n",
            "Arguments: ('Train Loss : 5.3870',)\n",
            "--- Logging error ---\n",
            "Traceback (most recent call last):\n",
            "  File \"/usr/lib/python3.8/logging/__init__.py\", line 1085, in emit\n",
            "    msg = self.format(record)\n",
            "  File \"/usr/lib/python3.8/logging/__init__.py\", line 929, in format\n",
            "    return fmt.format(record)\n",
            "  File \"/usr/lib/python3.8/logging/__init__.py\", line 668, in format\n",
            "    record.message = record.getMessage()\n",
            "  File \"/usr/lib/python3.8/logging/__init__.py\", line 373, in getMessage\n",
            "    msg = msg % self.args\n",
            "TypeError: not all arguments converted during string formatting\n",
            "Call stack:\n",
            "  File \"main.py\", line 116, in <module>\n",
            "    Trainer(TFC_model, model_optimizer, classifier, classifier_optimizer, train_dl, valid_dl, test_dl, device,\n",
            "  File \"/content/drive/MyDrive/Colab Notebooks/TFC-pretraining-main/code/TFC/trainer.py\", line 36, in Trainer\n",
            "    logger.debug(f'\\nPre-training Epoch : {epoch}', f'Train Loss : {train_loss:.4f}')\n",
            "Message: '\\nPre-training Epoch : 35'\n",
            "Arguments: ('Train Loss : 5.3870',)\n",
            "Pretraining: overall loss:5.279848575592041, l_t: 2.647803783416748, l_f:3.495349407196045, l_c:4.051218032836914\n",
            "--- Logging error ---\n",
            "Traceback (most recent call last):\n",
            "  File \"/usr/lib/python3.8/logging/__init__.py\", line 1085, in emit\n",
            "    msg = self.format(record)\n",
            "  File \"/usr/lib/python3.8/logging/__init__.py\", line 929, in format\n",
            "    return fmt.format(record)\n",
            "  File \"/usr/lib/python3.8/logging/__init__.py\", line 668, in format\n",
            "    record.message = record.getMessage()\n",
            "  File \"/usr/lib/python3.8/logging/__init__.py\", line 373, in getMessage\n",
            "    msg = msg % self.args\n",
            "TypeError: not all arguments converted during string formatting\n",
            "Call stack:\n",
            "  File \"main.py\", line 116, in <module>\n",
            "    Trainer(TFC_model, model_optimizer, classifier, classifier_optimizer, train_dl, valid_dl, test_dl, device,\n",
            "  File \"/content/drive/MyDrive/Colab Notebooks/TFC-pretraining-main/code/TFC/trainer.py\", line 36, in Trainer\n",
            "    logger.debug(f'\\nPre-training Epoch : {epoch}', f'Train Loss : {train_loss:.4f}')\n",
            "Message: '\\nPre-training Epoch : 36'\n",
            "Arguments: ('Train Loss : 5.3249',)\n",
            "--- Logging error ---\n",
            "Traceback (most recent call last):\n",
            "  File \"/usr/lib/python3.8/logging/__init__.py\", line 1085, in emit\n",
            "    msg = self.format(record)\n",
            "  File \"/usr/lib/python3.8/logging/__init__.py\", line 929, in format\n",
            "    return fmt.format(record)\n",
            "  File \"/usr/lib/python3.8/logging/__init__.py\", line 668, in format\n",
            "    record.message = record.getMessage()\n",
            "  File \"/usr/lib/python3.8/logging/__init__.py\", line 373, in getMessage\n",
            "    msg = msg % self.args\n",
            "TypeError: not all arguments converted during string formatting\n",
            "Call stack:\n",
            "  File \"main.py\", line 116, in <module>\n",
            "    Trainer(TFC_model, model_optimizer, classifier, classifier_optimizer, train_dl, valid_dl, test_dl, device,\n",
            "  File \"/content/drive/MyDrive/Colab Notebooks/TFC-pretraining-main/code/TFC/trainer.py\", line 36, in Trainer\n",
            "    logger.debug(f'\\nPre-training Epoch : {epoch}', f'Train Loss : {train_loss:.4f}')\n",
            "Message: '\\nPre-training Epoch : 36'\n",
            "Arguments: ('Train Loss : 5.3249',)\n",
            "Pretraining: overall loss:5.22569465637207, l_t: 2.607211112976074, l_f:3.536879539489746, l_c:3.9968767166137695\n",
            "--- Logging error ---\n",
            "Traceback (most recent call last):\n",
            "  File \"/usr/lib/python3.8/logging/__init__.py\", line 1085, in emit\n",
            "    msg = self.format(record)\n",
            "  File \"/usr/lib/python3.8/logging/__init__.py\", line 929, in format\n",
            "    return fmt.format(record)\n",
            "  File \"/usr/lib/python3.8/logging/__init__.py\", line 668, in format\n",
            "    record.message = record.getMessage()\n",
            "  File \"/usr/lib/python3.8/logging/__init__.py\", line 373, in getMessage\n",
            "    msg = msg % self.args\n",
            "TypeError: not all arguments converted during string formatting\n",
            "Call stack:\n",
            "  File \"main.py\", line 116, in <module>\n",
            "    Trainer(TFC_model, model_optimizer, classifier, classifier_optimizer, train_dl, valid_dl, test_dl, device,\n",
            "  File \"/content/drive/MyDrive/Colab Notebooks/TFC-pretraining-main/code/TFC/trainer.py\", line 36, in Trainer\n",
            "    logger.debug(f'\\nPre-training Epoch : {epoch}', f'Train Loss : {train_loss:.4f}')\n",
            "Message: '\\nPre-training Epoch : 37'\n",
            "Arguments: ('Train Loss : 5.3449',)\n",
            "--- Logging error ---\n",
            "Traceback (most recent call last):\n",
            "  File \"/usr/lib/python3.8/logging/__init__.py\", line 1085, in emit\n",
            "    msg = self.format(record)\n",
            "  File \"/usr/lib/python3.8/logging/__init__.py\", line 929, in format\n",
            "    return fmt.format(record)\n",
            "  File \"/usr/lib/python3.8/logging/__init__.py\", line 668, in format\n",
            "    record.message = record.getMessage()\n",
            "  File \"/usr/lib/python3.8/logging/__init__.py\", line 373, in getMessage\n",
            "    msg = msg % self.args\n",
            "TypeError: not all arguments converted during string formatting\n",
            "Call stack:\n",
            "  File \"main.py\", line 116, in <module>\n",
            "    Trainer(TFC_model, model_optimizer, classifier, classifier_optimizer, train_dl, valid_dl, test_dl, device,\n",
            "  File \"/content/drive/MyDrive/Colab Notebooks/TFC-pretraining-main/code/TFC/trainer.py\", line 36, in Trainer\n",
            "    logger.debug(f'\\nPre-training Epoch : {epoch}', f'Train Loss : {train_loss:.4f}')\n",
            "Message: '\\nPre-training Epoch : 37'\n",
            "Arguments: ('Train Loss : 5.3449',)\n",
            "Pretraining: overall loss:5.274067401885986, l_t: 2.685478687286377, l_f:3.5107522010803223, l_c:4.034821033477783\n",
            "--- Logging error ---\n",
            "Traceback (most recent call last):\n",
            "  File \"/usr/lib/python3.8/logging/__init__.py\", line 1085, in emit\n",
            "    msg = self.format(record)\n",
            "  File \"/usr/lib/python3.8/logging/__init__.py\", line 929, in format\n",
            "    return fmt.format(record)\n",
            "  File \"/usr/lib/python3.8/logging/__init__.py\", line 668, in format\n",
            "    record.message = record.getMessage()\n",
            "  File \"/usr/lib/python3.8/logging/__init__.py\", line 373, in getMessage\n",
            "    msg = msg % self.args\n",
            "TypeError: not all arguments converted during string formatting\n",
            "Call stack:\n",
            "  File \"main.py\", line 116, in <module>\n",
            "    Trainer(TFC_model, model_optimizer, classifier, classifier_optimizer, train_dl, valid_dl, test_dl, device,\n",
            "  File \"/content/drive/MyDrive/Colab Notebooks/TFC-pretraining-main/code/TFC/trainer.py\", line 36, in Trainer\n",
            "    logger.debug(f'\\nPre-training Epoch : {epoch}', f'Train Loss : {train_loss:.4f}')\n",
            "Message: '\\nPre-training Epoch : 38'\n",
            "Arguments: ('Train Loss : 5.3601',)\n",
            "--- Logging error ---\n",
            "Traceback (most recent call last):\n",
            "  File \"/usr/lib/python3.8/logging/__init__.py\", line 1085, in emit\n",
            "    msg = self.format(record)\n",
            "  File \"/usr/lib/python3.8/logging/__init__.py\", line 929, in format\n",
            "    return fmt.format(record)\n",
            "  File \"/usr/lib/python3.8/logging/__init__.py\", line 668, in format\n",
            "    record.message = record.getMessage()\n",
            "  File \"/usr/lib/python3.8/logging/__init__.py\", line 373, in getMessage\n",
            "    msg = msg % self.args\n",
            "TypeError: not all arguments converted during string formatting\n",
            "Call stack:\n",
            "  File \"main.py\", line 116, in <module>\n",
            "    Trainer(TFC_model, model_optimizer, classifier, classifier_optimizer, train_dl, valid_dl, test_dl, device,\n",
            "  File \"/content/drive/MyDrive/Colab Notebooks/TFC-pretraining-main/code/TFC/trainer.py\", line 36, in Trainer\n",
            "    logger.debug(f'\\nPre-training Epoch : {epoch}', f'Train Loss : {train_loss:.4f}')\n",
            "Message: '\\nPre-training Epoch : 38'\n",
            "Arguments: ('Train Loss : 5.3601',)\n",
            "Pretraining: overall loss:5.227348327636719, l_t: 2.684779167175293, l_f:3.4917044639587402, l_c:3.992051839828491\n",
            "--- Logging error ---\n",
            "Traceback (most recent call last):\n",
            "  File \"/usr/lib/python3.8/logging/__init__.py\", line 1085, in emit\n",
            "    msg = self.format(record)\n",
            "  File \"/usr/lib/python3.8/logging/__init__.py\", line 929, in format\n",
            "    return fmt.format(record)\n",
            "  File \"/usr/lib/python3.8/logging/__init__.py\", line 668, in format\n",
            "    record.message = record.getMessage()\n",
            "  File \"/usr/lib/python3.8/logging/__init__.py\", line 373, in getMessage\n",
            "    msg = msg % self.args\n",
            "TypeError: not all arguments converted during string formatting\n",
            "Call stack:\n",
            "  File \"main.py\", line 116, in <module>\n",
            "    Trainer(TFC_model, model_optimizer, classifier, classifier_optimizer, train_dl, valid_dl, test_dl, device,\n",
            "  File \"/content/drive/MyDrive/Colab Notebooks/TFC-pretraining-main/code/TFC/trainer.py\", line 36, in Trainer\n",
            "    logger.debug(f'\\nPre-training Epoch : {epoch}', f'Train Loss : {train_loss:.4f}')\n",
            "Message: '\\nPre-training Epoch : 39'\n",
            "Arguments: ('Train Loss : 5.3026',)\n",
            "--- Logging error ---\n",
            "Traceback (most recent call last):\n",
            "  File \"/usr/lib/python3.8/logging/__init__.py\", line 1085, in emit\n",
            "    msg = self.format(record)\n",
            "  File \"/usr/lib/python3.8/logging/__init__.py\", line 929, in format\n",
            "    return fmt.format(record)\n",
            "  File \"/usr/lib/python3.8/logging/__init__.py\", line 668, in format\n",
            "    record.message = record.getMessage()\n",
            "  File \"/usr/lib/python3.8/logging/__init__.py\", line 373, in getMessage\n",
            "    msg = msg % self.args\n",
            "TypeError: not all arguments converted during string formatting\n",
            "Call stack:\n",
            "  File \"main.py\", line 116, in <module>\n",
            "    Trainer(TFC_model, model_optimizer, classifier, classifier_optimizer, train_dl, valid_dl, test_dl, device,\n",
            "  File \"/content/drive/MyDrive/Colab Notebooks/TFC-pretraining-main/code/TFC/trainer.py\", line 36, in Trainer\n",
            "    logger.debug(f'\\nPre-training Epoch : {epoch}', f'Train Loss : {train_loss:.4f}')\n",
            "Message: '\\nPre-training Epoch : 39'\n",
            "Arguments: ('Train Loss : 5.3026',)\n",
            "Pretraining: overall loss:5.2217936515808105, l_t: 2.697855234146118, l_f:3.519669532775879, l_c:3.9782888889312744\n",
            "--- Logging error ---\n",
            "Traceback (most recent call last):\n",
            "  File \"/usr/lib/python3.8/logging/__init__.py\", line 1085, in emit\n",
            "    msg = self.format(record)\n",
            "  File \"/usr/lib/python3.8/logging/__init__.py\", line 929, in format\n",
            "    return fmt.format(record)\n",
            "  File \"/usr/lib/python3.8/logging/__init__.py\", line 668, in format\n",
            "    record.message = record.getMessage()\n",
            "  File \"/usr/lib/python3.8/logging/__init__.py\", line 373, in getMessage\n",
            "    msg = msg % self.args\n",
            "TypeError: not all arguments converted during string formatting\n",
            "Call stack:\n",
            "  File \"main.py\", line 116, in <module>\n",
            "    Trainer(TFC_model, model_optimizer, classifier, classifier_optimizer, train_dl, valid_dl, test_dl, device,\n",
            "  File \"/content/drive/MyDrive/Colab Notebooks/TFC-pretraining-main/code/TFC/trainer.py\", line 36, in Trainer\n",
            "    logger.debug(f'\\nPre-training Epoch : {epoch}', f'Train Loss : {train_loss:.4f}')\n",
            "Message: '\\nPre-training Epoch : 40'\n",
            "Arguments: ('Train Loss : 5.2162',)\n",
            "--- Logging error ---\n",
            "Traceback (most recent call last):\n",
            "  File \"/usr/lib/python3.8/logging/__init__.py\", line 1085, in emit\n",
            "    msg = self.format(record)\n",
            "  File \"/usr/lib/python3.8/logging/__init__.py\", line 929, in format\n",
            "    return fmt.format(record)\n",
            "  File \"/usr/lib/python3.8/logging/__init__.py\", line 668, in format\n",
            "    record.message = record.getMessage()\n",
            "  File \"/usr/lib/python3.8/logging/__init__.py\", line 373, in getMessage\n",
            "    msg = msg % self.args\n",
            "TypeError: not all arguments converted during string formatting\n",
            "Call stack:\n",
            "  File \"main.py\", line 116, in <module>\n",
            "    Trainer(TFC_model, model_optimizer, classifier, classifier_optimizer, train_dl, valid_dl, test_dl, device,\n",
            "  File \"/content/drive/MyDrive/Colab Notebooks/TFC-pretraining-main/code/TFC/trainer.py\", line 36, in Trainer\n",
            "    logger.debug(f'\\nPre-training Epoch : {epoch}', f'Train Loss : {train_loss:.4f}')\n",
            "Message: '\\nPre-training Epoch : 40'\n",
            "Arguments: ('Train Loss : 5.2162',)\n",
            "Pretrained model is stored at folder:../experiments_logs/SleepEEG_2_Epilepsy/run1/pre_train_seed_42_2layertransformersaved_modelsckp_last.pt\n",
            "\n",
            "################## Training is Done! #########################\n",
            "Training time is : 0:00:32.669650\n"
          ]
        }
      ]
    },
    {
      "cell_type": "code",
      "source": [
        "!python main.py --training_mode fine_tune_test --pretrain_dataset SleepEEG --target_dataset Epilepsy"
      ],
      "metadata": {
        "colab": {
          "base_uri": "https://localhost:8080/"
        },
        "id": "F479DDUh0f42",
        "outputId": "25dbd278-60a2-4a98-a871-717413696bba"
      },
      "execution_count": null,
      "outputs": [
        {
          "output_type": "stream",
          "name": "stdout",
          "text": [
            "We are using cuda now.\n",
            "=============================================\n",
            "Pre-training Dataset: SleepEEG\n",
            "Target (fine-tuning) Dataset: Epilepsy\n",
            "Method:  TF-C\n",
            "Mode:    fine_tune_test\n",
            "=============================================\n",
            "Using subset for debugging, the datasize is: 1280\n",
            "Using subset for debugging, the datasize is: 60\n",
            "Data loaded ...\n",
            "The loading file path ../experiments_logs/SleepEEG_2_Epilepsy/run1/pre_train_seed_42_2layertransformer/saved_models\n",
            "Training started ....\n",
            "Fine-tune on Fine-tuning set\n",
            "\n",
            "Epoch : 1\n",
            " Finetune: loss = 7.4396| Acc=48.3333 | Precision = 41.2281 | Recall = 48.3333 | F1 = 35.2142| AUROC=36.7222 | AUPRC = 44.1919\n",
            "update fine-tuned model\n",
            "Test on Target datasts test set\n",
            "/usr/local/lib/python3.8/dist-packages/sklearn/metrics/_classification.py:1318: UndefinedMetricWarning: Precision is ill-defined and being set to 0.0 in labels with no predicted samples. Use `zero_division` parameter to control this behavior.\n",
            "  _warn_prf(average, modifier, msg_start, len(result))\n",
            "MLP Testing: Acc=19.7898| Precision = 9.8949 | Recall = 50.0000 | F1 = 16.5205 | AUROC= 45.7111 | AUPRC=55.8649\n",
            "KNN Testing: Acc=0.8221| Precision = 0.9050 | Recall = 0.5508 | F1 = 0.5424 | AUROC= 0.7694 | AUPRC=0.7293\n",
            "\n",
            "Epoch : 2\n",
            " Finetune: loss = 7.1855| Acc=48.3333 | Precision = 41.2281 | Recall = 48.3333 | F1 = 35.2142| AUROC=47.3889 | AUPRC = 51.3088\n",
            "Test on Target datasts test set\n",
            "/usr/local/lib/python3.8/dist-packages/sklearn/metrics/_classification.py:1318: UndefinedMetricWarning: Precision is ill-defined and being set to 0.0 in labels with no predicted samples. Use `zero_division` parameter to control this behavior.\n",
            "  _warn_prf(average, modifier, msg_start, len(result))\n",
            "MLP Testing: Acc=19.7898| Precision = 9.8949 | Recall = 50.0000 | F1 = 16.5205 | AUROC= 45.8411 | AUPRC=55.6838\n",
            "KNN Testing: Acc=0.8384| Precision = 0.9039 | Recall = 0.5934 | F1 = 0.6118 | AUROC= 0.6123 | AUPRC=0.6538\n",
            "\n",
            "Epoch : 3\n",
            " Finetune: loss = 6.9296| Acc=45.0000 | Precision = 33.6364 | Recall = 45.0000 | F1 = 33.4454| AUROC=48.2222 | AUPRC = 52.8782\n",
            "Test on Target datasts test set\n",
            "/usr/local/lib/python3.8/dist-packages/sklearn/metrics/_classification.py:1318: UndefinedMetricWarning: Precision is ill-defined and being set to 0.0 in labels with no predicted samples. Use `zero_division` parameter to control this behavior.\n",
            "  _warn_prf(average, modifier, msg_start, len(result))\n",
            "MLP Testing: Acc=19.7898| Precision = 9.8949 | Recall = 50.0000 | F1 = 16.5205 | AUROC= 45.8995 | AUPRC=55.8842\n",
            "KNN Testing: Acc=0.8100| Precision = 0.8887 | Recall = 0.5204 | F1 = 0.4865 | AUROC= 0.6525 | AUPRC=0.6089\n",
            "\n",
            "Epoch : 4\n",
            " Finetune: loss = 6.9173| Acc=43.3333 | Precision = 31.4815 | Recall = 43.3333 | F1 = 32.5397| AUROC=46.2222 | AUPRC = 48.4304\n",
            "Test on Target datasts test set\n",
            "/usr/local/lib/python3.8/dist-packages/sklearn/metrics/_classification.py:1318: UndefinedMetricWarning: Precision is ill-defined and being set to 0.0 in labels with no predicted samples. Use `zero_division` parameter to control this behavior.\n",
            "  _warn_prf(average, modifier, msg_start, len(result))\n",
            "MLP Testing: Acc=19.7898| Precision = 9.8949 | Recall = 50.0000 | F1 = 16.5205 | AUROC= 45.9186 | AUPRC=55.7410\n",
            "KNN Testing: Acc=0.8082| Precision = 0.9035 | Recall = 0.5155 | F1 = 0.4767 | AUROC= 0.6476 | AUPRC=0.6375\n",
            "\n",
            "Epoch : 5\n",
            " Finetune: loss = 7.0088| Acc=51.6667 | Precision = 58.7719 | Recall = 51.6667 | F1 = 39.3939| AUROC=52.9444 | AUPRC = 55.0462\n",
            "update fine-tuned model\n",
            "Test on Target datasts test set\n",
            "MLP Testing: Acc=19.7898| Precision = 34.8923 | Recall = 49.9833 | F1 = 16.5265 | AUROC= 58.4439 | AUPRC=65.9158\n",
            "KNN Testing: Acc=0.8174| Precision = 0.8965 | Recall = 0.5394 | F1 = 0.5222 | AUROC= 0.7125 | AUPRC=0.6616\n",
            "\n",
            "Epoch : 6\n",
            " Finetune: loss = 6.9281| Acc=50.0000 | Precision = 50.0000 | Recall = 50.0000 | F1 = 40.4762| AUROC=58.1667 | AUPRC = 61.1152\n",
            "update fine-tuned model\n",
            "Test on Target datasts test set\n",
            "MLP Testing: Acc=19.8424| Precision = 37.9694 | Recall = 49.6828 | F1 = 16.7178 | AUROC= 68.9287 | AUPRC=73.5431\n",
            "KNN Testing: Acc=0.8259| Precision = 0.8836 | Recall = 0.5630 | F1 = 0.5636 | AUROC= 0.8154 | AUPRC=0.7572\n",
            "\n",
            "Epoch : 7\n",
            " Finetune: loss = 6.7230| Acc=48.3333 | Precision = 46.7320 | Recall = 48.3333 | F1 = 41.1206| AUROC=67.0000 | AUPRC = 67.6011\n",
            "update fine-tuned model\n",
            "Test on Target datasts test set\n",
            "MLP Testing: Acc=50.6392| Precision = 61.0314 | Recall = 65.7140 | F1 = 49.5407 | AUROC= 77.8255 | AUPRC=78.9151\n",
            "KNN Testing: Acc=0.8353| Precision = 0.8958 | Recall = 0.5865 | F1 = 0.6013 | AUROC= 0.7142 | AUPRC=0.6847\n",
            "\n",
            "Epoch : 8\n",
            " Finetune: loss = 6.5488| Acc=56.6667 | Precision = 58.5227 | Recall = 56.6667 | F1 = 54.1716| AUROC=72.0556 | AUPRC = 75.0777\n",
            "update fine-tuned model\n",
            "Test on Target datasts test set\n",
            "MLP Testing: Acc=90.5517| Precision = 85.8748 | Recall = 83.5277 | F1 = 84.6231 | AUROC= 82.5430 | AUPRC=82.1920\n",
            "KNN Testing: Acc=0.8413| Precision = 0.8975 | Recall = 0.6024 | F1 = 0.6252 | AUROC= 0.7676 | AUPRC=0.7194\n",
            "\n",
            "Epoch : 9\n",
            " Finetune: loss = 6.4939| Acc=73.3333 | Precision = 73.4375 | Recall = 73.3333 | F1 = 73.3037| AUROC=71.8333 | AUPRC = 73.3244\n",
            "update fine-tuned model\n",
            "Test on Target datasts test set\n",
            "MLP Testing: Acc=90.7180| Precision = 91.0991 | Recall = 78.5652 | F1 = 82.9141 | AUROC= 84.7272 | AUPRC=84.0484\n",
            "KNN Testing: Acc=0.8525| Precision = 0.8983 | Recall = 0.6325 | F1 = 0.6671 | AUROC= 0.8162 | AUPRC=0.7697\n",
            "\n",
            "Epoch : 10\n",
            " Finetune: loss = 6.3592| Acc=78.3333 | Precision = 78.6195 | Recall = 78.3333 | F1 = 78.2790| AUROC=75.0000 | AUPRC = 73.1796\n",
            "update fine-tuned model\n",
            "Test on Target datasts test set\n",
            "MLP Testing: Acc=90.1051| Precision = 92.2431 | Recall = 76.0499 | F1 = 81.0068 | AUROC= 85.9775 | AUPRC=85.0591\n",
            "KNN Testing: Acc=0.8602| Precision = 0.8990 | Recall = 0.6537 | F1 = 0.6942 | AUROC= 0.7792 | AUPRC=0.7617\n",
            "\n",
            "Epoch : 11\n",
            " Finetune: loss = 6.5732| Acc=80.0000 | Precision = 85.7143 | Recall = 80.0000 | F1 = 79.1667| AUROC=79.0000 | AUPRC = 78.7293\n",
            "update fine-tuned model\n",
            "Test on Target datasts test set\n",
            "MLP Testing: Acc=89.4658| Precision = 92.4753 | Recall = 74.1016 | F1 = 79.2298 | AUROC= 87.8161 | AUPRC=86.8596\n",
            "KNN Testing: Acc=0.8774| Precision = 0.9073 | Recall = 0.6994 | F1 = 0.7476 | AUROC= 0.8617 | AUPRC=0.8081\n",
            "\n",
            "Epoch : 12\n",
            " Finetune: loss = 6.5233| Acc=78.3333 | Precision = 84.8837 | Recall = 78.3333 | F1 = 77.2661| AUROC=82.0000 | AUPRC = 81.3007\n",
            "Test on Target datasts test set\n",
            "MLP Testing: Acc=89.5271| Precision = 92.5170 | Recall = 74.2564 | F1 = 79.3856 | AUROC= 87.6771 | AUPRC=86.8055\n",
            "KNN Testing: Acc=0.8661| Precision = 0.8934 | Recall = 0.6724 | F1 = 0.7161 | AUROC= 0.7989 | AUPRC=0.7643\n",
            "\n",
            "Epoch : 13\n",
            " Finetune: loss = 6.4098| Acc=73.3333 | Precision = 77.7778 | Recall = 73.3333 | F1 = 72.2222| AUROC=77.6667 | AUPRC = 80.2273\n",
            "Test on Target datasts test set\n",
            "MLP Testing: Acc=89.4921| Precision = 92.4932 | Recall = 74.1679 | F1 = 79.2967 | AUROC= 87.9181 | AUPRC=86.9325\n",
            "KNN Testing: Acc=0.8550| Precision = 0.8878 | Recall = 0.6425 | F1 = 0.6795 | AUROC= 0.8441 | AUPRC=0.7953\n",
            "\n",
            "Epoch : 14\n",
            " Finetune: loss = 6.2445| Acc=80.0000 | Precision = 83.7500 | Recall = 80.0000 | F1 = 79.4286| AUROC=83.5556 | AUPRC = 83.5988\n",
            "update fine-tuned model\n",
            "Test on Target datasts test set\n",
            "MLP Testing: Acc=89.5622| Precision = 92.5408 | Recall = 74.3449 | F1 = 79.4744 | AUROC= 90.0727 | AUPRC=88.8139\n",
            "KNN Testing: Acc=0.8726| Precision = 0.9024 | Recall = 0.6876 | F1 = 0.7342 | AUROC= 0.8792 | AUPRC=0.8477\n",
            "\n",
            "Epoch : 15\n",
            " Finetune: loss = 6.3614| Acc=80.0000 | Precision = 83.7500 | Recall = 80.0000 | F1 = 79.4286| AUROC=81.3333 | AUPRC = 83.0215\n",
            "Test on Target datasts test set\n",
            "MLP Testing: Acc=89.5534| Precision = 92.5348 | Recall = 74.3228 | F1 = 79.4522 | AUROC= 89.9708 | AUPRC=88.8510\n",
            "KNN Testing: Acc=0.8708| Precision = 0.8947 | Recall = 0.6853 | F1 = 0.7308 | AUROC= 0.8313 | AUPRC=0.7914\n",
            "\n",
            "Epoch : 16\n",
            " Finetune: loss = 6.3409| Acc=83.3333 | Precision = 85.8852 | Recall = 83.3333 | F1 = 83.0317| AUROC=79.6667 | AUPRC = 79.0483\n",
            "update fine-tuned model\n",
            "Test on Target datasts test set\n",
            "MLP Testing: Acc=89.8511| Precision = 92.7006 | Recall = 75.0917 | F1 = 80.2095 | AUROC= 91.9987 | AUPRC=90.9264\n",
            "KNN Testing: Acc=0.8915| Precision = 0.9185 | Recall = 0.7349 | F1 = 0.7854 | AUROC= 0.9027 | AUPRC=0.8735\n",
            "\n",
            "Epoch : 17\n",
            " Finetune: loss = 6.1654| Acc=76.6667 | Precision = 80.0000 | Recall = 76.6667 | F1 = 76.0000| AUROC=82.8889 | AUPRC = 79.7992\n",
            "Test on Target datasts test set\n",
            "MLP Testing: Acc=89.7723| Precision = 92.7184 | Recall = 74.8592 | F1 = 79.9938 | AUROC= 91.9750 | AUPRC=90.6979\n",
            "KNN Testing: Acc=0.8845| Precision = 0.9087 | Recall = 0.7192 | F1 = 0.7683 | AUROC= 0.8586 | AUPRC=0.8404\n",
            "\n",
            "Epoch : 18\n",
            " Finetune: loss = 6.0933| Acc=80.0000 | Precision = 85.7143 | Recall = 80.0000 | F1 = 79.1667| AUROC=83.3889 | AUPRC = 79.8487\n",
            "Test on Target datasts test set\n",
            "MLP Testing: Acc=89.7986| Precision = 92.6651 | Recall = 74.9589 | F1 = 80.0786 | AUROC= 91.9958 | AUPRC=90.8679\n",
            "KNN Testing: Acc=0.8748| Precision = 0.9065 | Recall = 0.6923 | F1 = 0.7397 | AUROC= 0.8468 | AUPRC=0.8276\n",
            "\n",
            "Epoch : 19\n",
            " Finetune: loss = 5.9820| Acc=80.0000 | Precision = 83.7500 | Recall = 80.0000 | F1 = 79.4286| AUROC=84.5556 | AUPRC = 83.9872\n",
            "Test on Target datasts test set\n",
            "MLP Testing: Acc=89.8336| Precision = 92.7949 | Recall = 74.9974 | F1 = 80.1375 | AUROC= 92.1971 | AUPRC=91.0528\n",
            "KNN Testing: Acc=0.8751| Precision = 0.9016 | Recall = 0.6952 | F1 = 0.7424 | AUROC= 0.7908 | AUPRC=0.7741\n",
            "\n",
            "Epoch : 20\n",
            " Finetune: loss = 6.1277| Acc=83.3333 | Precision = 87.5000 | Recall = 83.3333 | F1 = 82.8571| AUROC=86.0000 | AUPRC = 85.6512\n",
            "Test on Target datasts test set\n",
            "MLP Testing: Acc=89.7811| Precision = 92.7242 | Recall = 74.8814 | F1 = 80.0157 | AUROC= 92.0356 | AUPRC=90.9369\n",
            "KNN Testing: Acc=0.8863| Precision = 0.9091 | Recall = 0.7243 | F1 = 0.7735 | AUROC= 0.8623 | AUPRC=0.8299\n",
            "\n",
            "Epoch : 21\n",
            " Finetune: loss = 6.1246| Acc=83.3333 | Precision = 87.5000 | Recall = 83.3333 | F1 = 82.8571| AUROC=86.1111 | AUPRC = 84.4032\n",
            "Test on Target datasts test set\n",
            "MLP Testing: Acc=89.7986| Precision = 92.7005 | Recall = 74.9423 | F1 = 80.0690 | AUROC= 91.9221 | AUPRC=90.6808\n",
            "KNN Testing: Acc=0.8866| Precision = 0.9079 | Recall = 0.7257 | F1 = 0.7747 | AUROC= 0.8725 | AUPRC=0.8494\n",
            "\n",
            "Epoch : 22\n",
            " Finetune: loss = 6.0505| Acc=80.0000 | Precision = 83.7500 | Recall = 80.0000 | F1 = 79.4286| AUROC=81.0000 | AUPRC = 79.7407\n",
            "Test on Target datasts test set\n",
            "MLP Testing: Acc=89.7898| Precision = 92.6592 | Recall = 74.9368 | F1 = 80.0567 | AUROC= 91.9494 | AUPRC=90.5087\n",
            "KNN Testing: Acc=0.8641| Precision = 0.8958 | Recall = 0.6658 | F1 = 0.7086 | AUROC= 0.8761 | AUPRC=0.8433\n",
            "\n",
            "Epoch : 23\n",
            " Finetune: loss = 6.0565| Acc=80.0000 | Precision = 85.7143 | Recall = 80.0000 | F1 = 79.1667| AUROC=82.7222 | AUPRC = 79.8579\n",
            "Test on Target datasts test set\n",
            "MLP Testing: Acc=89.6585| Precision = 92.4987 | Recall = 74.6383 | F1 = 79.7469 | AUROC= 91.9297 | AUPRC=90.7583\n",
            "KNN Testing: Acc=0.8736| Precision = 0.9020 | Recall = 0.6908 | F1 = 0.7376 | AUROC= 0.8531 | AUPRC=0.8320\n",
            "\n",
            "Epoch : 24\n",
            " Finetune: loss = 6.2303| Acc=78.3333 | Precision = 81.1355 | Recall = 78.3333 | F1 = 77.8346| AUROC=79.6111 | AUPRC = 78.4367\n",
            "Test on Target datasts test set\n",
            "MLP Testing: Acc=89.8074| Precision = 92.6710 | Recall = 74.9811 | F1 = 80.1004 | AUROC= 92.0704 | AUPRC=90.9317\n",
            "KNN Testing: Acc=0.8637| Precision = 0.8975 | Recall = 0.6643 | F1 = 0.7069 | AUROC= 0.8389 | AUPRC=0.8190\n",
            "\n",
            "Epoch : 25\n",
            " Finetune: loss = 6.0104| Acc=81.6667 | Precision = 86.5854 | Recall = 81.6667 | F1 = 81.0290| AUROC=87.1111 | AUPRC = 86.0344\n",
            "Test on Target datasts test set\n",
            "MLP Testing: Acc=89.7636| Precision = 92.6769 | Recall = 74.8538 | F1 = 79.9815 | AUROC= 91.9750 | AUPRC=90.7548\n",
            "KNN Testing: Acc=0.8772| Precision = 0.9076 | Recall = 0.6988 | F1 = 0.7470 | AUROC= 0.8800 | AUPRC=0.8379\n",
            "\n",
            "Epoch : 26\n",
            " Finetune: loss = 6.0140| Acc=85.0000 | Precision = 88.4615 | Recall = 85.0000 | F1 = 84.6547| AUROC=84.1111 | AUPRC = 82.3049\n",
            "update fine-tuned model\n",
            "Test on Target datasts test set\n",
            "MLP Testing: Acc=90.7706| Precision = 92.8747 | Recall = 77.6480 | F1 = 82.5510 | AUROC= 93.3573 | AUPRC=92.0284\n",
            "KNN Testing: Acc=0.8826| Precision = 0.8934 | Recall = 0.7208 | F1 = 0.7677 | AUROC= 0.8430 | AUPRC=0.8067\n",
            "\n",
            "Epoch : 27\n",
            " Finetune: loss = 5.9746| Acc=83.3333 | Precision = 87.5000 | Recall = 83.3333 | F1 = 82.8571| AUROC=84.8333 | AUPRC = 81.6827\n",
            "Test on Target datasts test set\n",
            "MLP Testing: Acc=90.8319| Precision = 92.8872 | Recall = 77.8195 | F1 = 82.7023 | AUROC= 93.1591 | AUPRC=91.8539\n",
            "KNN Testing: Acc=0.8722| Precision = 0.8952 | Recall = 0.6892 | F1 = 0.7351 | AUROC= 0.8302 | AUPRC=0.8075\n",
            "\n",
            "Epoch : 28\n",
            " Finetune: loss = 6.0961| Acc=80.0000 | Precision = 83.7500 | Recall = 80.0000 | F1 = 79.4286| AUROC=82.7778 | AUPRC = 80.8320\n",
            "Test on Target datasts test set\n",
            "MLP Testing: Acc=90.8144| Precision = 92.9053 | Recall = 77.7586 | F1 = 82.6535 | AUROC= 93.2631 | AUPRC=91.9733\n",
            "KNN Testing: Acc=0.8831| Precision = 0.9064 | Recall = 0.7161 | F1 = 0.7649 | AUROC= 0.8777 | AUPRC=0.8557\n",
            "\n",
            "Epoch : 29\n",
            " Finetune: loss = 5.9888| Acc=83.3333 | Precision = 87.5000 | Recall = 83.3333 | F1 = 82.8571| AUROC=85.8333 | AUPRC = 85.3224\n",
            "Test on Target datasts test set\n",
            "MLP Testing: Acc=90.8406| Precision = 92.9236 | Recall = 77.8250 | F1 = 82.7149 | AUROC= 93.1326 | AUPRC=91.8093\n",
            "KNN Testing: Acc=0.8849| Precision = 0.9076 | Recall = 0.7210 | F1 = 0.7699 | AUROC= 0.8616 | AUPRC=0.8346\n",
            "\n",
            "Epoch : 30\n",
            " Finetune: loss = 6.1009| Acc=78.3333 | Precision = 82.7343 | Recall = 78.3333 | F1 = 77.5798| AUROC=85.3333 | AUPRC = 81.3320\n",
            "Test on Target datasts test set\n",
            "MLP Testing: Acc=90.8144| Precision = 92.9053 | Recall = 77.7586 | F1 = 82.6535 | AUROC= 93.5125 | AUPRC=91.9899\n",
            "KNN Testing: Acc=0.8731| Precision = 0.8977 | Recall = 0.6909 | F1 = 0.7373 | AUROC= 0.8391 | AUPRC=0.8183\n",
            "\n",
            "Epoch : 31\n",
            " Finetune: loss = 6.0823| Acc=81.6667 | Precision = 86.5854 | Recall = 81.6667 | F1 = 81.0290| AUROC=87.1111 | AUPRC = 85.4827\n",
            "Test on Target datasts test set\n",
            "MLP Testing: Acc=90.8144| Precision = 92.9357 | Recall = 77.7420 | F1 = 82.6456 | AUROC= 93.2868 | AUPRC=91.8632\n",
            "KNN Testing: Acc=0.8977| Precision = 0.9149 | Recall = 0.7548 | F1 = 0.8034 | AUROC= 0.8138 | AUPRC=0.8168\n",
            "\n",
            "Epoch : 32\n",
            " Finetune: loss = 5.9825| Acc=81.6667 | Precision = 86.5854 | Recall = 81.6667 | F1 = 81.0290| AUROC=84.6111 | AUPRC = 83.4396\n",
            "Test on Target datasts test set\n",
            "MLP Testing: Acc=90.8406| Precision = 93.0151 | Recall = 77.7750 | F1 = 82.6913 | AUROC= 93.2470 | AUPRC=91.7932\n",
            "KNN Testing: Acc=0.8919| Precision = 0.9067 | Recall = 0.7420 | F1 = 0.7901 | AUROC= 0.9037 | AUPRC=0.8736\n",
            "\n",
            "Epoch : 33\n",
            " Finetune: loss = 6.0006| Acc=85.0000 | Precision = 88.4615 | Recall = 85.0000 | F1 = 84.6547| AUROC=85.4444 | AUPRC = 83.2976\n",
            "Test on Target datasts test set\n",
            "MLP Testing: Acc=90.7268| Precision = 92.8135 | Recall = 77.5541 | F1 = 82.4563 | AUROC= 93.4189 | AUPRC=92.0507\n",
            "KNN Testing: Acc=0.8830| Precision = 0.9038 | Recall = 0.7171 | F1 = 0.7655 | AUROC= 0.8692 | AUPRC=0.8479\n",
            "\n",
            "Epoch : 34\n",
            " Finetune: loss = 5.9185| Acc=81.6667 | Precision = 84.7985 | Recall = 81.6667 | F1 = 81.2447| AUROC=87.7778 | AUPRC = 87.7392\n",
            "Test on Target datasts test set\n",
            "MLP Testing: Acc=90.7706| Precision = 92.8747 | Recall = 77.6480 | F1 = 82.5510 | AUROC= 93.4553 | AUPRC=91.8711\n",
            "KNN Testing: Acc=0.8899| Precision = 0.9037 | Recall = 0.7376 | F1 = 0.7855 | AUROC= 0.8714 | AUPRC=0.8395\n",
            "\n",
            "Epoch : 35\n",
            " Finetune: loss = 5.9122| Acc=81.6667 | Precision = 84.7985 | Recall = 81.6667 | F1 = 81.2447| AUROC=89.7778 | AUPRC = 89.4020\n",
            "Test on Target datasts test set\n",
            "MLP Testing: Acc=90.8056| Precision = 92.9296 | Recall = 77.7198 | F1 = 82.6251 | AUROC= 93.1971 | AUPRC=91.9056\n",
            "KNN Testing: Acc=0.8941| Precision = 0.9130 | Recall = 0.7452 | F1 = 0.7942 | AUROC= 0.8574 | AUPRC=0.8355\n",
            "\n",
            "Epoch : 36\n",
            " Finetune: loss = 6.0786| Acc=85.0000 | Precision = 88.4615 | Recall = 85.0000 | F1 = 84.6547| AUROC=89.0000 | AUPRC = 88.3137\n",
            "Test on Target datasts test set\n",
            "MLP Testing: Acc=90.7793| Precision = 92.9114 | Recall = 77.6535 | F1 = 82.5636 | AUROC= 93.3712 | AUPRC=91.9710\n",
            "KNN Testing: Acc=0.8944| Precision = 0.9054 | Recall = 0.7500 | F1 = 0.7973 | AUROC= 0.9094 | AUPRC=0.8725\n",
            "\n",
            "Epoch : 37\n",
            " Finetune: loss = 6.0084| Acc=81.6667 | Precision = 86.5854 | Recall = 81.6667 | F1 = 81.0290| AUROC=83.3889 | AUPRC = 82.6457\n",
            "Test on Target datasts test set\n",
            "MLP Testing: Acc=90.8056| Precision = 92.8992 | Recall = 77.7365 | F1 = 82.6330 | AUROC= 93.3646 | AUPRC=91.9213\n",
            "KNN Testing: Acc=0.8869| Precision = 0.8997 | Recall = 0.7305 | F1 = 0.7781 | AUROC= 0.8939 | AUPRC=0.8474\n",
            "\n",
            "Epoch : 38\n",
            " Finetune: loss = 6.1849| Acc=83.3333 | Precision = 87.5000 | Recall = 83.3333 | F1 = 82.8571| AUROC=89.8889 | AUPRC = 88.7928\n",
            "Test on Target datasts test set\n",
            "MLP Testing: Acc=90.8494| Precision = 92.9601 | Recall = 77.8305 | F1 = 82.7275 | AUROC= 93.4648 | AUPRC=92.0971\n",
            "KNN Testing: Acc=0.8849| Precision = 0.9087 | Recall = 0.7205 | F1 = 0.7696 | AUROC= 0.8596 | AUPRC=0.8375\n",
            "\n",
            "Epoch : 39\n",
            " Finetune: loss = 6.1396| Acc=83.3333 | Precision = 85.8852 | Recall = 83.3333 | F1 = 83.0317| AUROC=82.0000 | AUPRC = 79.5373\n",
            "Test on Target datasts test set\n",
            "MLP Testing: Acc=90.7443| Precision = 92.8563 | Recall = 77.5816 | F1 = 82.4894 | AUROC= 93.3399 | AUPRC=92.0453\n",
            "KNN Testing: Acc=0.8867| Precision = 0.9146 | Recall = 0.7229 | F1 = 0.7729 | AUROC= 0.8651 | AUPRC=0.8355\n",
            "\n",
            "Epoch : 40\n",
            " Finetune: loss = 5.9305| Acc=81.6667 | Precision = 86.5854 | Recall = 81.6667 | F1 = 81.0290| AUROC=84.8333 | AUPRC = 84.5285\n",
            "Test on Target datasts test set\n",
            "MLP Testing: Acc=90.7706| Precision = 92.8747 | Recall = 77.6480 | F1 = 82.5510 | AUROC= 93.2022 | AUPRC=91.7352\n",
            "KNN Testing: Acc=0.8828| Precision = 0.9022 | Recall = 0.7173 | F1 = 0.7655 | AUROC= 0.8399 | AUPRC=0.8112\n",
            "\n",
            "################## Best testing performance! #########################\n",
            "Best Testing Performance: Acc=90.8494| Precision = 92.9601 | Recall = 77.8305 | F1 = 82.7275 | AUROC= 93.4648 | AUPRC=92.0971\n",
            "Best KNN F1 0.8034061280827964\n",
            "\n",
            "################## Training is Done! #########################\n",
            "Training time is : 0:01:09.432850\n"
          ]
        }
      ]
    }
  ]
}
{
  "nbformat": 4,
  "nbformat_minor": 0,
  "metadata": {
    "colab": {
      "provenance": [],
      "authorship_tag": "ABX9TyNyy8lLWMh6vq/9GFeaH5tE"
    },
    "kernelspec": {
      "name": "python3",
      "display_name": "Python 3"
    },
    "language_info": {
      "name": "python"
    }
  },
  "cells": [
    {
      "cell_type": "code",
      "execution_count": 7,
      "metadata": {
        "id": "uFn-RPihp_oK"
      },
      "outputs": [],
      "source": [
        "import torch\n",
        "import torch.nn as nn\n",
        "\n",
        "import pandas as pd\n",
        "import numpy as np\n",
        "import matplotlib.pyplot as plt\n",
        "\n",
        "import os"
      ]
    },
    {
      "cell_type": "code",
      "source": [
        "train = pd.read_csv(\"test.csv\")\n",
        "test = pd.read_csv(\"test.csv\")"
      ],
      "metadata": {
        "id": "_MoePxHVwtiK"
      },
      "execution_count": 34,
      "outputs": []
    },
    {
      "cell_type": "code",
      "source": [
        "train.head()"
      ],
      "metadata": {
        "colab": {
          "base_uri": "https://localhost:8080/",
          "height": 206
        },
        "id": "qmwxLUzuw2jW",
        "outputId": "664f40f5-5388-4f69-fac7-fb9d1227c23d"
      },
      "execution_count": 35,
      "outputs": [
        {
          "output_type": "execute_result",
          "data": {
            "text/plain": [
              "    ID             datetime  temperature  var1  pressure  windspeed var2\n",
              "0  552  2013-07-24 00:00:00        -10.0 -16.4    1011.0    263.280    A\n",
              "1  553  2013-07-24 01:00:00        -10.0 -20.7    1011.0    267.175    A\n",
              "2  554  2013-07-24 02:00:00        -10.7 -17.1    1003.0    269.555    A\n",
              "3  555  2013-07-24 03:00:00        -13.6 -20.7    1008.0    273.060    A\n",
              "4  556  2013-07-24 04:00:00        -10.7 -17.1    1006.0      1.765    A"
            ],
            "text/html": [
              "\n",
              "  <div id=\"df-ace60b98-1cea-4160-9382-a4f878ed9cc4\">\n",
              "    <div class=\"colab-df-container\">\n",
              "      <div>\n",
              "<style scoped>\n",
              "    .dataframe tbody tr th:only-of-type {\n",
              "        vertical-align: middle;\n",
              "    }\n",
              "\n",
              "    .dataframe tbody tr th {\n",
              "        vertical-align: top;\n",
              "    }\n",
              "\n",
              "    .dataframe thead th {\n",
              "        text-align: right;\n",
              "    }\n",
              "</style>\n",
              "<table border=\"1\" class=\"dataframe\">\n",
              "  <thead>\n",
              "    <tr style=\"text-align: right;\">\n",
              "      <th></th>\n",
              "      <th>ID</th>\n",
              "      <th>datetime</th>\n",
              "      <th>temperature</th>\n",
              "      <th>var1</th>\n",
              "      <th>pressure</th>\n",
              "      <th>windspeed</th>\n",
              "      <th>var2</th>\n",
              "    </tr>\n",
              "  </thead>\n",
              "  <tbody>\n",
              "    <tr>\n",
              "      <th>0</th>\n",
              "      <td>552</td>\n",
              "      <td>2013-07-24 00:00:00</td>\n",
              "      <td>-10.0</td>\n",
              "      <td>-16.4</td>\n",
              "      <td>1011.0</td>\n",
              "      <td>263.280</td>\n",
              "      <td>A</td>\n",
              "    </tr>\n",
              "    <tr>\n",
              "      <th>1</th>\n",
              "      <td>553</td>\n",
              "      <td>2013-07-24 01:00:00</td>\n",
              "      <td>-10.0</td>\n",
              "      <td>-20.7</td>\n",
              "      <td>1011.0</td>\n",
              "      <td>267.175</td>\n",
              "      <td>A</td>\n",
              "    </tr>\n",
              "    <tr>\n",
              "      <th>2</th>\n",
              "      <td>554</td>\n",
              "      <td>2013-07-24 02:00:00</td>\n",
              "      <td>-10.7</td>\n",
              "      <td>-17.1</td>\n",
              "      <td>1003.0</td>\n",
              "      <td>269.555</td>\n",
              "      <td>A</td>\n",
              "    </tr>\n",
              "    <tr>\n",
              "      <th>3</th>\n",
              "      <td>555</td>\n",
              "      <td>2013-07-24 03:00:00</td>\n",
              "      <td>-13.6</td>\n",
              "      <td>-20.7</td>\n",
              "      <td>1008.0</td>\n",
              "      <td>273.060</td>\n",
              "      <td>A</td>\n",
              "    </tr>\n",
              "    <tr>\n",
              "      <th>4</th>\n",
              "      <td>556</td>\n",
              "      <td>2013-07-24 04:00:00</td>\n",
              "      <td>-10.7</td>\n",
              "      <td>-17.1</td>\n",
              "      <td>1006.0</td>\n",
              "      <td>1.765</td>\n",
              "      <td>A</td>\n",
              "    </tr>\n",
              "  </tbody>\n",
              "</table>\n",
              "</div>\n",
              "      <button class=\"colab-df-convert\" onclick=\"convertToInteractive('df-ace60b98-1cea-4160-9382-a4f878ed9cc4')\"\n",
              "              title=\"Convert this dataframe to an interactive table.\"\n",
              "              style=\"display:none;\">\n",
              "        \n",
              "  <svg xmlns=\"http://www.w3.org/2000/svg\" height=\"24px\"viewBox=\"0 0 24 24\"\n",
              "       width=\"24px\">\n",
              "    <path d=\"M0 0h24v24H0V0z\" fill=\"none\"/>\n",
              "    <path d=\"M18.56 5.44l.94 2.06.94-2.06 2.06-.94-2.06-.94-.94-2.06-.94 2.06-2.06.94zm-11 1L8.5 8.5l.94-2.06 2.06-.94-2.06-.94L8.5 2.5l-.94 2.06-2.06.94zm10 10l.94 2.06.94-2.06 2.06-.94-2.06-.94-.94-2.06-.94 2.06-2.06.94z\"/><path d=\"M17.41 7.96l-1.37-1.37c-.4-.4-.92-.59-1.43-.59-.52 0-1.04.2-1.43.59L10.3 9.45l-7.72 7.72c-.78.78-.78 2.05 0 2.83L4 21.41c.39.39.9.59 1.41.59.51 0 1.02-.2 1.41-.59l7.78-7.78 2.81-2.81c.8-.78.8-2.07 0-2.86zM5.41 20L4 18.59l7.72-7.72 1.47 1.35L5.41 20z\"/>\n",
              "  </svg>\n",
              "      </button>\n",
              "      \n",
              "  <style>\n",
              "    .colab-df-container {\n",
              "      display:flex;\n",
              "      flex-wrap:wrap;\n",
              "      gap: 12px;\n",
              "    }\n",
              "\n",
              "    .colab-df-convert {\n",
              "      background-color: #E8F0FE;\n",
              "      border: none;\n",
              "      border-radius: 50%;\n",
              "      cursor: pointer;\n",
              "      display: none;\n",
              "      fill: #1967D2;\n",
              "      height: 32px;\n",
              "      padding: 0 0 0 0;\n",
              "      width: 32px;\n",
              "    }\n",
              "\n",
              "    .colab-df-convert:hover {\n",
              "      background-color: #E2EBFA;\n",
              "      box-shadow: 0px 1px 2px rgba(60, 64, 67, 0.3), 0px 1px 3px 1px rgba(60, 64, 67, 0.15);\n",
              "      fill: #174EA6;\n",
              "    }\n",
              "\n",
              "    [theme=dark] .colab-df-convert {\n",
              "      background-color: #3B4455;\n",
              "      fill: #D2E3FC;\n",
              "    }\n",
              "\n",
              "    [theme=dark] .colab-df-convert:hover {\n",
              "      background-color: #434B5C;\n",
              "      box-shadow: 0px 1px 3px 1px rgba(0, 0, 0, 0.15);\n",
              "      filter: drop-shadow(0px 1px 2px rgba(0, 0, 0, 0.3));\n",
              "      fill: #FFFFFF;\n",
              "    }\n",
              "  </style>\n",
              "\n",
              "      <script>\n",
              "        const buttonEl =\n",
              "          document.querySelector('#df-ace60b98-1cea-4160-9382-a4f878ed9cc4 button.colab-df-convert');\n",
              "        buttonEl.style.display =\n",
              "          google.colab.kernel.accessAllowed ? 'block' : 'none';\n",
              "\n",
              "        async function convertToInteractive(key) {\n",
              "          const element = document.querySelector('#df-ace60b98-1cea-4160-9382-a4f878ed9cc4');\n",
              "          const dataTable =\n",
              "            await google.colab.kernel.invokeFunction('convertToInteractive',\n",
              "                                                     [key], {});\n",
              "          if (!dataTable) return;\n",
              "\n",
              "          const docLinkHtml = 'Like what you see? Visit the ' +\n",
              "            '<a target=\"_blank\" href=https://colab.research.google.com/notebooks/data_table.ipynb>data table notebook</a>'\n",
              "            + ' to learn more about interactive tables.';\n",
              "          element.innerHTML = '';\n",
              "          dataTable['output_type'] = 'display_data';\n",
              "          await google.colab.output.renderOutput(dataTable, element);\n",
              "          const docLink = document.createElement('div');\n",
              "          docLink.innerHTML = docLinkHtml;\n",
              "          element.appendChild(docLink);\n",
              "        }\n",
              "      </script>\n",
              "    </div>\n",
              "  </div>\n",
              "  "
            ]
          },
          "metadata": {},
          "execution_count": 35
        }
      ]
    },
    {
      "cell_type": "code",
      "source": [
        "train.info()"
      ],
      "metadata": {
        "colab": {
          "base_uri": "https://localhost:8080/"
        },
        "id": "7evLOU_ow4gq",
        "outputId": "348ce9bd-8d23-43be-eced-9b36c8087fd5"
      },
      "execution_count": 36,
      "outputs": [
        {
          "output_type": "stream",
          "name": "stdout",
          "text": [
            "<class 'pandas.core.frame.DataFrame'>\n",
            "RangeIndex: 8568 entries, 0 to 8567\n",
            "Data columns (total 7 columns):\n",
            " #   Column       Non-Null Count  Dtype  \n",
            "---  ------       --------------  -----  \n",
            " 0   ID           8568 non-null   int64  \n",
            " 1   datetime     8568 non-null   object \n",
            " 2   temperature  8568 non-null   float64\n",
            " 3   var1         8568 non-null   float64\n",
            " 4   pressure     8568 non-null   float64\n",
            " 5   windspeed    8568 non-null   float64\n",
            " 6   var2         8568 non-null   object \n",
            "dtypes: float64(4), int64(1), object(2)\n",
            "memory usage: 468.7+ KB\n"
          ]
        }
      ]
    },
    {
      "cell_type": "code",
      "source": [
        "train.describe()"
      ],
      "metadata": {
        "colab": {
          "base_uri": "https://localhost:8080/",
          "height": 300
        },
        "id": "PGsoEF3PxdUV",
        "outputId": "4e55ccf4-452e-454c-8212-f77390beb680"
      },
      "execution_count": 37,
      "outputs": [
        {
          "output_type": "execute_result",
          "data": {
            "text/plain": [
              "                 ID  temperature         var1     pressure    windspeed\n",
              "count   8568.000000  8568.000000  8568.000000  8568.000000  8568.000000\n",
              "mean   17766.525210     5.112757    -1.726401   986.329599    24.176398\n",
              "std    10117.296415     8.606167    10.345034    12.148517    49.651535\n",
              "min      552.000000   -17.900000   -26.400000   954.000000     1.075000\n",
              "25%     9317.750000    -2.100000   -10.000000   977.000000     3.155000\n",
              "50%    18083.500000     5.700000    -2.100000   987.000000     6.295000\n",
              "75%    26297.250000    12.100000     7.900000   995.000000    21.907500\n",
              "max    35063.000000    25.700000    17.900000  1023.000000   491.255000"
            ],
            "text/html": [
              "\n",
              "  <div id=\"df-04716786-409c-4bec-872a-0c7bb900dac2\">\n",
              "    <div class=\"colab-df-container\">\n",
              "      <div>\n",
              "<style scoped>\n",
              "    .dataframe tbody tr th:only-of-type {\n",
              "        vertical-align: middle;\n",
              "    }\n",
              "\n",
              "    .dataframe tbody tr th {\n",
              "        vertical-align: top;\n",
              "    }\n",
              "\n",
              "    .dataframe thead th {\n",
              "        text-align: right;\n",
              "    }\n",
              "</style>\n",
              "<table border=\"1\" class=\"dataframe\">\n",
              "  <thead>\n",
              "    <tr style=\"text-align: right;\">\n",
              "      <th></th>\n",
              "      <th>ID</th>\n",
              "      <th>temperature</th>\n",
              "      <th>var1</th>\n",
              "      <th>pressure</th>\n",
              "      <th>windspeed</th>\n",
              "    </tr>\n",
              "  </thead>\n",
              "  <tbody>\n",
              "    <tr>\n",
              "      <th>count</th>\n",
              "      <td>8568.000000</td>\n",
              "      <td>8568.000000</td>\n",
              "      <td>8568.000000</td>\n",
              "      <td>8568.000000</td>\n",
              "      <td>8568.000000</td>\n",
              "    </tr>\n",
              "    <tr>\n",
              "      <th>mean</th>\n",
              "      <td>17766.525210</td>\n",
              "      <td>5.112757</td>\n",
              "      <td>-1.726401</td>\n",
              "      <td>986.329599</td>\n",
              "      <td>24.176398</td>\n",
              "    </tr>\n",
              "    <tr>\n",
              "      <th>std</th>\n",
              "      <td>10117.296415</td>\n",
              "      <td>8.606167</td>\n",
              "      <td>10.345034</td>\n",
              "      <td>12.148517</td>\n",
              "      <td>49.651535</td>\n",
              "    </tr>\n",
              "    <tr>\n",
              "      <th>min</th>\n",
              "      <td>552.000000</td>\n",
              "      <td>-17.900000</td>\n",
              "      <td>-26.400000</td>\n",
              "      <td>954.000000</td>\n",
              "      <td>1.075000</td>\n",
              "    </tr>\n",
              "    <tr>\n",
              "      <th>25%</th>\n",
              "      <td>9317.750000</td>\n",
              "      <td>-2.100000</td>\n",
              "      <td>-10.000000</td>\n",
              "      <td>977.000000</td>\n",
              "      <td>3.155000</td>\n",
              "    </tr>\n",
              "    <tr>\n",
              "      <th>50%</th>\n",
              "      <td>18083.500000</td>\n",
              "      <td>5.700000</td>\n",
              "      <td>-2.100000</td>\n",
              "      <td>987.000000</td>\n",
              "      <td>6.295000</td>\n",
              "    </tr>\n",
              "    <tr>\n",
              "      <th>75%</th>\n",
              "      <td>26297.250000</td>\n",
              "      <td>12.100000</td>\n",
              "      <td>7.900000</td>\n",
              "      <td>995.000000</td>\n",
              "      <td>21.907500</td>\n",
              "    </tr>\n",
              "    <tr>\n",
              "      <th>max</th>\n",
              "      <td>35063.000000</td>\n",
              "      <td>25.700000</td>\n",
              "      <td>17.900000</td>\n",
              "      <td>1023.000000</td>\n",
              "      <td>491.255000</td>\n",
              "    </tr>\n",
              "  </tbody>\n",
              "</table>\n",
              "</div>\n",
              "      <button class=\"colab-df-convert\" onclick=\"convertToInteractive('df-04716786-409c-4bec-872a-0c7bb900dac2')\"\n",
              "              title=\"Convert this dataframe to an interactive table.\"\n",
              "              style=\"display:none;\">\n",
              "        \n",
              "  <svg xmlns=\"http://www.w3.org/2000/svg\" height=\"24px\"viewBox=\"0 0 24 24\"\n",
              "       width=\"24px\">\n",
              "    <path d=\"M0 0h24v24H0V0z\" fill=\"none\"/>\n",
              "    <path d=\"M18.56 5.44l.94 2.06.94-2.06 2.06-.94-2.06-.94-.94-2.06-.94 2.06-2.06.94zm-11 1L8.5 8.5l.94-2.06 2.06-.94-2.06-.94L8.5 2.5l-.94 2.06-2.06.94zm10 10l.94 2.06.94-2.06 2.06-.94-2.06-.94-.94-2.06-.94 2.06-2.06.94z\"/><path d=\"M17.41 7.96l-1.37-1.37c-.4-.4-.92-.59-1.43-.59-.52 0-1.04.2-1.43.59L10.3 9.45l-7.72 7.72c-.78.78-.78 2.05 0 2.83L4 21.41c.39.39.9.59 1.41.59.51 0 1.02-.2 1.41-.59l7.78-7.78 2.81-2.81c.8-.78.8-2.07 0-2.86zM5.41 20L4 18.59l7.72-7.72 1.47 1.35L5.41 20z\"/>\n",
              "  </svg>\n",
              "      </button>\n",
              "      \n",
              "  <style>\n",
              "    .colab-df-container {\n",
              "      display:flex;\n",
              "      flex-wrap:wrap;\n",
              "      gap: 12px;\n",
              "    }\n",
              "\n",
              "    .colab-df-convert {\n",
              "      background-color: #E8F0FE;\n",
              "      border: none;\n",
              "      border-radius: 50%;\n",
              "      cursor: pointer;\n",
              "      display: none;\n",
              "      fill: #1967D2;\n",
              "      height: 32px;\n",
              "      padding: 0 0 0 0;\n",
              "      width: 32px;\n",
              "    }\n",
              "\n",
              "    .colab-df-convert:hover {\n",
              "      background-color: #E2EBFA;\n",
              "      box-shadow: 0px 1px 2px rgba(60, 64, 67, 0.3), 0px 1px 3px 1px rgba(60, 64, 67, 0.15);\n",
              "      fill: #174EA6;\n",
              "    }\n",
              "\n",
              "    [theme=dark] .colab-df-convert {\n",
              "      background-color: #3B4455;\n",
              "      fill: #D2E3FC;\n",
              "    }\n",
              "\n",
              "    [theme=dark] .colab-df-convert:hover {\n",
              "      background-color: #434B5C;\n",
              "      box-shadow: 0px 1px 3px 1px rgba(0, 0, 0, 0.15);\n",
              "      filter: drop-shadow(0px 1px 2px rgba(0, 0, 0, 0.3));\n",
              "      fill: #FFFFFF;\n",
              "    }\n",
              "  </style>\n",
              "\n",
              "      <script>\n",
              "        const buttonEl =\n",
              "          document.querySelector('#df-04716786-409c-4bec-872a-0c7bb900dac2 button.colab-df-convert');\n",
              "        buttonEl.style.display =\n",
              "          google.colab.kernel.accessAllowed ? 'block' : 'none';\n",
              "\n",
              "        async function convertToInteractive(key) {\n",
              "          const element = document.querySelector('#df-04716786-409c-4bec-872a-0c7bb900dac2');\n",
              "          const dataTable =\n",
              "            await google.colab.kernel.invokeFunction('convertToInteractive',\n",
              "                                                     [key], {});\n",
              "          if (!dataTable) return;\n",
              "\n",
              "          const docLinkHtml = 'Like what you see? Visit the ' +\n",
              "            '<a target=\"_blank\" href=https://colab.research.google.com/notebooks/data_table.ipynb>data table notebook</a>'\n",
              "            + ' to learn more about interactive tables.';\n",
              "          element.innerHTML = '';\n",
              "          dataTable['output_type'] = 'display_data';\n",
              "          await google.colab.output.renderOutput(dataTable, element);\n",
              "          const docLink = document.createElement('div');\n",
              "          docLink.innerHTML = docLinkHtml;\n",
              "          element.appendChild(docLink);\n",
              "        }\n",
              "      </script>\n",
              "    </div>\n",
              "  </div>\n",
              "  "
            ]
          },
          "metadata": {},
          "execution_count": 37
        }
      ]
    },
    {
      "cell_type": "code",
      "source": [
        "#temperature data만 뽑기\n",
        "train_temp_numpy = train['temperature'].to_numpy()\n",
        "print(\"Data의 크기 : \", len(train_temp_numpy))"
      ],
      "metadata": {
        "colab": {
          "base_uri": "https://localhost:8080/"
        },
        "id": "hB1ieyDRyE7v",
        "outputId": "eacbf8ea-34c6-4e63-9366-6bc4cfe91995"
      },
      "execution_count": 38,
      "outputs": [
        {
          "output_type": "stream",
          "name": "stdout",
          "text": [
            "Data의 크기 :  8568\n"
          ]
        }
      ]
    },
    {
      "cell_type": "code",
      "source": [
        "plt.figure(figsize = (10,6))\n",
        "plt.plot(range(len(train_temp_numpy)), train_temp_numpy)\n",
        "plt.show()"
      ],
      "metadata": {
        "colab": {
          "base_uri": "https://localhost:8080/",
          "height": 374
        },
        "id": "28VO066mygw1",
        "outputId": "0baf0056-f489-46f5-f7a8-f312417a54fa"
      },
      "execution_count": 39,
      "outputs": [
        {
          "output_type": "display_data",
          "data": {
            "text/plain": [
              "<Figure size 720x432 with 1 Axes>"
            ],
            "image/png": "[encoded data removed]"
          },
          "metadata": {
            "needs_background": "light"
          }
        }
      ]
    },
    {
      "cell_type": "code",
      "source": [
        "#part of data\n",
        "plt.figure(figsize = (10,6))\n",
        "plt.plot(range(100), train_temp_numpy[:100])\n",
        "plt.show()"
      ],
      "metadata": {
        "colab": {
          "base_uri": "https://localhost:8080/",
          "height": 374
        },
        "id": "EdwrAHunzL7u",
        "outputId": "225ca0f9-43f6-48af-bcc9-c63d1db6311d"
      },
      "execution_count": 40,
      "outputs": [
        {
          "output_type": "display_data",
          "data": {
            "text/plain": [
              "<Figure size 720x432 with 1 Axes>"
            ],
            "image/png": "[encoded data removed]"
          },
          "metadata": {
            "needs_background": "light"
          }
        }
      ]
    },
    {
      "cell_type": "code",
      "source": [
        "#hyperparameter\n",
        "window_size = 10\n",
        "\n",
        "#np init\n",
        "train_X = np.array([train_temp_numpy[:window_size]])\n",
        "train_y = np.array([train_temp_numpy[window_size]])\n",
        "\n",
        "for i in range(1,len(train_temp_numpy) - window_size - 2):\n",
        "  train_X = np.concatenate((train_X, [train_temp_numpy[i:i+window_size]]), axis = 0)\n",
        "  train_y = np.concatenate((train_y, [train_temp_numpy[i+window_size]]), axis = 0)\n",
        "\n",
        "print(\"train_X shape\", train_X.shape)\n",
        "print(\"train_y shape\", train_y.shape)"
      ],
      "metadata": {
        "colab": {
          "base_uri": "https://localhost:8080/"
        },
        "id": "0dHNgA7j0ShR",
        "outputId": "7bc8ebba-4b1e-461f-d39a-9b44f0a44941"
      },
      "execution_count": 41,
      "outputs": [
        {
          "output_type": "stream",
          "name": "stdout",
          "text": [
            "train_X shape (8556, 10)\n",
            "train_y shape (8556,)\n"
          ]
        }
      ]
    },
    {
      "cell_type": "code",
      "source": [
        "for i in range(10):\n",
        "  print(train_X[i], train_y[i])"
      ],
      "metadata": {
        "colab": {
          "base_uri": "https://localhost:8080/"
        },
        "id": "uN-jcGDJ4RNg",
        "outputId": "b178e48e-8fe2-4f2d-df34-48df8e2b21b7"
      },
      "execution_count": 42,
      "outputs": [
        {
          "output_type": "stream",
          "name": "stdout",
          "text": [
            "[-10.  -10.  -10.7 -13.6 -10.7 -10.7 -12.1 -15.7 -12.9 -10. ] -8.6\n",
            "[-10.  -10.7 -13.6 -10.7 -10.7 -12.1 -15.7 -12.9 -10.   -8.6] -7.9\n",
            "[-10.7 -13.6 -10.7 -10.7 -12.1 -15.7 -12.9 -10.   -8.6  -7.9] -5.7\n",
            "[-13.6 -10.7 -10.7 -12.1 -15.7 -12.9 -10.   -8.6  -7.9  -5.7] -5.7\n",
            "[-10.7 -10.7 -12.1 -15.7 -12.9 -10.   -8.6  -7.9  -5.7  -5.7] -3.6\n",
            "[-10.7 -12.1 -15.7 -12.9 -10.   -8.6  -7.9  -5.7  -5.7  -3.6] -5.0\n",
            "[-12.1 -15.7 -12.9 -10.   -8.6  -7.9  -5.7  -5.7  -3.6  -5. ] -3.6\n",
            "[-15.7 -12.9 -10.   -8.6  -7.9  -5.7  -5.7  -3.6  -5.   -3.6] -4.3\n",
            "[-12.9 -10.   -8.6  -7.9  -5.7  -5.7  -3.6  -5.   -3.6  -4.3] -7.1\n",
            "[-10.   -8.6  -7.9  -5.7  -5.7  -3.6  -5.   -3.6  -4.3  -7.1] -7.1\n"
          ]
        }
      ]
    },
    {
      "cell_type": "code",
      "source": [
        "train_X_tensor = torch.FloatTensor(train_X)\n",
        "train_y_tensor = torch.FloatTensor(train_y)\n",
        "\n",
        "train_X_tensor.view(-1,1,window_size)\n",
        "\n",
        "print(\"Tensor X size : \", train_X_tensor.shape)\n",
        "print(\"Tensor Y size : \", train_y_tensor.shape)"
      ],
      "metadata": {
        "colab": {
          "base_uri": "https://localhost:8080/"
        },
        "id": "QT1ysM8d4x8O",
        "outputId": "80a3731e-4965-45bf-f238-b8528342a86f"
      },
      "execution_count": 43,
      "outputs": [
        {
          "output_type": "stream",
          "name": "stdout",
          "text": [
            "Tensor X size :  torch.Size([8556, 10])\n",
            "Tensor Y size :  torch.Size([8556])\n"
          ]
        }
      ]
    },
    {
      "cell_type": "code",
      "source": [
        "pt_dict = {train_X_tensor[i]: train_y_tensor[i] for i in range(len(train_temp_numpy) - window_size - 2)}"
      ],
      "metadata": {
        "id": "tIqtCzNn5hKI"
      },
      "execution_count": 44,
      "outputs": []
    },
    {
      "cell_type": "code",
      "source": [
        "torch.save(pt_dict, 'test.pt')"
      ],
      "metadata": {
        "id": "okfTlqzCtegk"
      },
      "execution_count": 45,
      "outputs": []
    }
  ]
}